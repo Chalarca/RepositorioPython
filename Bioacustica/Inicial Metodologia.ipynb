{
 "cells": [
  {
   "cell_type": "code",
   "execution_count": null,
   "metadata": {},
   "outputs": [],
   "source": [
    "import os\n",
    "from ctypes import sizeof\n",
    "from msvcrt import kbhit\n",
    "from os.path import isfile, join\n",
    "\n",
    "import cv2\n",
    "import matplotlib.pyplot as plt\n",
    "import numpy as np\n",
    "import numpy.matlib\n",
    "import scipy.io as sio\n",
    "import skfuzzy as fuzz\n",
    "from scipy import signal\n",
    "from scipy.fft import fftshift\n",
    "from scipy.io import wavfile\n",
    "from scipy.signal import medfilt2d, savgol_filter\n",
    "from Bioacustica_Com1 import Metodologia,ZscoreMV, lamda_unsup, segmentacion, seleccion_features, time_and_date\n",
    "import pandas as pd\n",
    "from tkinter.filedialog import askdirectory"
   ]
  },
  {
   "cell_type": "code",
   "execution_count": null,
   "metadata": {},
   "outputs": [],
   "source": [
    "\n",
    "ruta = askdirectory(title = 'Seleccionar carpeta con audios')\n",
    "\n",
    "canal=1\n",
    "autosel=0\n",
    "visualize=0\n",
    "banda=[\"min\",\"max\"]"
   ]
  },
  {
   "cell_type": "code",
   "execution_count": null,
   "metadata": {},
   "outputs": [],
   "source": [
    "table,datos_clasifi,mean_class,infoZC,gadso,repre,dispersion,frecuencia=Metodologia(ruta,banda,1,0,0)\n",
    "\n"
   ]
  },
  {
   "cell_type": "code",
   "execution_count": null,
   "metadata": {},
   "outputs": [],
   "source": [
    "Tabla_NewSpecies=pd.DataFrame(table)\n",
    "#Tabla_NewSpecies.to_excel('Datos_NewSpecies.xlsx', index=False)\n"
   ]
  },
  {
   "cell_type": "code",
   "execution_count": null,
   "metadata": {},
   "outputs": [],
   "source": [
    "s=Tabla_NewSpecies[0].unique()\n",
    "segyNombres=[]\n",
    "\n",
    "for i in s:\n",
    "    r=(Tabla_NewSpecies[0]==i)\n",
    "    p=r.sum()\n",
    "    g=[i,p]\n",
    "    segyNombres.append(g)\n",
    "segyNombres=np.array(segyNombres)\n",
    "segyNombres=pd.DataFrame(segyNombres)\n",
    "segyNombres.to_excel('Segmentos_Python.xlsx', index=False)\n",
    "\n",
    "\n",
    "segyNombres"
   ]
  },
  {
   "cell_type": "code",
   "execution_count": null,
   "metadata": {},
   "outputs": [],
   "source": [
    "\n",
    "\n",
    "\n",
    "canal=1\n",
    "visualize=0\n",
    "repre=[]\n",
    "frecuencia=[]\n",
    "dispersion=[]\n",
    "    \n",
    "if type(banda[0])==str and type(banda[1])==str:\n",
    "    datos,nombre_archivo,fs=segmentacion(ruta,[0,20000],canal)\n",
    "else:\n",
    "    datos,nombre_archivo,fs=segmentacion(ruta,banda,canal)\n",
    "\n",
    "if visualize==1:\n",
    "    0\n",
    "    #funcion que permite la visualizacion de los spectrogramas de cada audio\n",
    "    #datos,nombre_archivo=VisualizacionSegs(rutain,datos,nombre_archivo,canal,banda)\n",
    "else:\n",
    "    0\n",
    "if len(datos)>0:\n",
    "    datos_carac1=np.array(datos[:,7:10])\n",
    "    datos_carac=np.zeros((datos_carac1.shape[0],27))\n",
    "    datos_carac2=np.array(datos[:,12:])\n",
    "\n",
    "datos_carac[:,0:3]=datos_carac1\n",
    "datos_carac[:,3:]=datos_carac2\n",
    "\n",
    "zscore_min=np.expand_dims(np.amin(datos_carac,axis=0),axis=0)\n",
    "zscore_max=np.expand_dims(np.amax(datos_carac,axis=0),axis=0)\n",
    "rel_zscore=zscore_max-zscore_min\n",
    "\n",
    "datos_clasifi=ZscoreMV (datos_carac,zscore_min,rel_zscore)\n",
    "\n",
    "infoZC=np.array([zscore_min,zscore_max,0],dtype=object)\n",
    "\n",
    "\n",
    "if autosel==0:\n",
    "    feat=np.array(list(range(0,len(datos_clasifi[1]))))\n",
    "    infoZC[2]=np.expand_dims(feat,axis=0)\n",
    "    gadso,recon,mean_class,std_class=lamda_unsup(2,datos_clasifi)\n",
    "    mean_class=mean_class[1:,:] \n",
    "    #elimina la primera fila por no ser relevantes\n",
    "    std_class=std_class[1:,:] #igual\n",
    "\n",
    "    i=1\n",
    "    p=1\n",
    "    ind_eli=[]\n",
    "    sizeclasses=mean_class.shape[0]\n",
    "    while p<=sizeclasses:\n",
    "        if sum(recon[0,:]==1)==0:\n",
    "            ind_eli.append(p)\n",
    "            recon[recon>1]=recon[recon>1]-1\n",
    "        else:\n",
    "            i=i+1\n",
    "        p=p+1\n",
    "    mean_class = np.delete(mean_class,ind_eli,0)\n",
    "    gadso=np.delete(gadso,ind_eli,0)\n",
    "\n",
    "    for i in range(0,mean_class.shape[0]):\n",
    "        ind_class=np.where(recon[0,:]==i)[0]\n",
    "        \n",
    "        euc=[]\n",
    "        ind=[]\n",
    "        p=1\n",
    "        for j in ind_class:\n",
    "            vdat=mean_class[i,:]-datos_clasifi[j,:]\n",
    "            euc.append(np.dot(vdat,vdat.T))\n",
    "            p=p+1\n",
    "        [dummy, indm] = np.min(euc),np.argmax(euc)\n",
    "        #indm siempe (o eso parece) siempre ser 1 tanto en python como en matlab, esto elige un indice\n",
    "        # que de dejarse asi seria un error en python porque las listas comienzan en 0 y no en uno.\n",
    "        repre.append(ind_class[indm-1]) \n",
    "    mediafrecuencia=[]\n",
    "    stdfrecuencia=[]\n",
    "\n",
    "\n",
    "    for i in range(0,mean_class.shape[0]):\n",
    "        indclass2=np.where(recon[0,:]==i)[0]\n",
    "        mediafrecuencia.append(np.mean(datos_carac[indclass2],axis=0))\n",
    "        stdfrecuencia.append(np.std(datos_carac[indclass2],axis=0))\n",
    "\n",
    "    frecuencia=np.array([mediafrecuencia,stdfrecuencia])\n",
    "else:\n",
    "    feat,gadso,recon,mean_class,std_class=seleccion_features(2,datos_clasifi)\n",
    "    mean_class=mean_class[1:,:] \n",
    "    #elimina la primera fila por no ser relevantes\n",
    "    std_class=std_class[1:,:] #igual\n",
    "    infoZC[2]=np.expand_dims(feat,axis=0)\n",
    "\n",
    "    i=1\n",
    "    p=1\n",
    "    ind_eli=[]\n",
    "    sizeclasses=mean_class.shape[0]\n",
    "    while p<=sizeclasses:\n",
    "        if sum(recon[0,:]==1)==0:\n",
    "            ind_eli.append(p)\n",
    "            recon[recon>1]=recon[recon>1]-1\n",
    "        else:\n",
    "            i=i+1\n",
    "        p=p+1\n",
    "    mean_class = np.delete(mean_class,ind_eli,0)\n",
    "    gadso=np.delete(gadso,ind_eli,0)\n",
    "\n",
    "    for i in range(0,mean_class.shape[0]):\n",
    "        ind_class=np.where(recon[0,:]==i)[0]\n",
    "        \n",
    "        euc=[]\n",
    "        ind=[]\n",
    "        p=1\n",
    "        for j in ind_class:\n",
    "            vdat=mean_class[i,:]-datos_clasifi[j,feat]\n",
    "            euc.append(np.dot(vdat,vdat.T))\n",
    "            p=p+1\n",
    "        [dummy, indm] = np.min(euc),np.argmax(euc)\n",
    "        #indm siempe (o eso parece) siempre ser 1 tanto en python como en matlab, esto elige un indice\n",
    "        # que de dejarse asi seria un error en python porque las listas comienzan en 0 y no en uno.\n",
    "        repre.append(ind_class[indm-1]) \n",
    "    mediafrecuencia=[]\n",
    "    stdfrecuencia=[]\n",
    "\n",
    "\n",
    "    for i in range(0,mean_class.shape[0]):\n",
    "        indclass2=np.where(recon[0,:]==i)[0]\n",
    "        mediafrecuencia.append(np.mean(datos_carac[indclass2],axis=0))\n",
    "        stdfrecuencia.append(np.std(datos_carac[indclass2],axis=0))\n",
    "\n",
    "    frecuencia=np.array([mediafrecuencia,stdfrecuencia])\n",
    "salida=np.array(np.concatenate([datos[:,0:10],(fs/2)*(datos[:,10:12])],axis=1))\n",
    "tarr=np.concatenate([salida,np.transpose(recon)],axis=1)\n",
    "table=np.concatenate([nombre_archivo, tarr],axis=1,dtype=\"object\")\n",
    "\n",
    "for i in range(0,np.max(recon)):\n",
    "    dispersion.append(np.sum(np.std(datos_clasifi[(recon[0,:]==i),:],axis=1)))\n",
    "dispersion=np.expand_dims(np.array(dispersion),axis=0)"
   ]
  },
  {
   "cell_type": "code",
   "execution_count": null,
   "metadata": {},
   "outputs": [],
   "source": [
    "ind_class=np.where(recon[0,:]==i)[0]\n",
    "ind_class"
   ]
  },
  {
   "cell_type": "code",
   "execution_count": null,
   "metadata": {},
   "outputs": [],
   "source": [
    "np.where(recon[0,:]==12)[0]"
   ]
  },
  {
   "cell_type": "code",
   "execution_count": null,
   "metadata": {},
   "outputs": [],
   "source": [
    "np.sum(np.std(datos_clasifi[(recon[0,:]==i),:],axis=1))"
   ]
  },
  {
   "cell_type": "code",
   "execution_count": null,
   "metadata": {},
   "outputs": [],
   "source": [
    "i=0\n",
    "indclass2=np.where(recon[0,:]==i)[0]\n",
    "indclass2"
   ]
  },
  {
   "cell_type": "code",
   "execution_count": null,
   "metadata": {},
   "outputs": [],
   "source": [
    "mediafrecuencia=[]\n",
    "stdfrecuencia=[]\n",
    "\n",
    "mediafrecuencia.append(np.mean(datos_carac[indclass2]))\n",
    "stdfrecuencia.append(np.std(datos_carac[indclass2]))\n",
    "stdfrecuencia"
   ]
  },
  {
   "cell_type": "code",
   "execution_count": null,
   "metadata": {},
   "outputs": [],
   "source": [
    "np.std(datos_carac[indclass2],axis=1)"
   ]
  },
  {
   "cell_type": "code",
   "execution_count": null,
   "metadata": {},
   "outputs": [],
   "source": [
    "feat,gadso,recon,mean_clas,std_class=seleccion_features(2,datos_clasifi)"
   ]
  },
  {
   "cell_type": "code",
   "execution_count": null,
   "metadata": {},
   "outputs": [],
   "source": [
    "#recon*(recon>i)\n",
    "recon[recon>1]=recon[recon>1]-1\n",
    "recon"
   ]
  },
  {
   "cell_type": "code",
   "execution_count": null,
   "metadata": {},
   "outputs": [],
   "source": [
    "a=np.where(recon[0]==2)\n",
    "\n",
    "recon[0][a]\n",
    "vdat.T"
   ]
  },
  {
   "cell_type": "code",
   "execution_count": null,
   "metadata": {},
   "outputs": [],
   "source": [
    "np.dot(vdat,vdat.T)\n"
   ]
  },
  {
   "cell_type": "code",
   "execution_count": null,
   "metadata": {},
   "outputs": [],
   "source": [
    "data1 = sio.loadmat('D:\\Proyectos Visual Studio\\Python-Jupyther\\Bioacustica\\Variables\\std_class.mat')\n",
    "std_class=data1[\"std_class\"]\n",
    "data2=sio.loadmat('D:\\Proyectos Visual Studio\\Python-Jupyther\\Bioacustica\\Variables\\\\recon.mat')\n",
    "recon=data2[\"recon\"]\n",
    "data3=sio.loadmat('D:\\Proyectos Visual Studio\\Python-Jupyther\\Bioacustica\\Variables\\mean_clas.mat')\n",
    "mean_class=data3[\"mean_clas\"]\n",
    "data4=sio.loadmat('D:\\Proyectos Visual Studio\\Python-Jupyther\\Bioacustica\\Variables\\gadsomat.mat')\n",
    "gadso=data4[\"gadso\"]"
   ]
  }
 ],
 "metadata": {
  "kernelspec": {
   "display_name": "Python 3.9.13 64-bit",
   "language": "python",
   "name": "python3"
  },
  "language_info": {
   "codemirror_mode": {
    "name": "ipython",
    "version": 3
   },
   "file_extension": ".py",
   "mimetype": "text/x-python",
   "name": "python",
   "nbconvert_exporter": "python",
   "pygments_lexer": "ipython3",
   "version": "3.9.13"
  },
  "orig_nbformat": 4,
  "vscode": {
   "interpreter": {
    "hash": "2469a70536e4d2335a2ea8907942d0699c37342a371ac185bdb5b0aa6f073890"
   }
  }
 },
 "nbformat": 4,
 "nbformat_minor": 2
}
