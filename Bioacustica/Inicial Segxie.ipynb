{
 "cells": [
  {
   "cell_type": "code",
   "execution_count": 1,
   "metadata": {},
   "outputs": [],
   "source": [
    "import numpy as np\n",
    "import cv2\n",
    "import matplotlib as plt\n",
    "import scipy.io as sio\n",
    "import pandas as pd\n",
    "from scipy.io import wavfile\n",
    "import matplotlib.pyplot as plt\n",
    "from scipy.io import wavfile\n",
    "from scipy.signal import savgol_filter\n",
    "import soundfile as sf\n",
    "from scipy import signal"
   ]
  },
  {
   "cell_type": "code",
   "execution_count": 3,
   "metadata": {},
   "outputs": [],
   "source": [
    "def findeccentricity (ellipse):\n",
    "    secelip_1=ellipse[1][0]\n",
    "    secelip_2=ellipse[1][1]\n",
    "    if secelip_1>secelip_2:\n",
    "        elip_a=secelip_1\n",
    "        elip_b=secelip_2\n",
    "    else:\n",
    "        elip_a=secelip_2\n",
    "        elip_b=secelip_1\n",
    "\n",
    "    elip_c=np.sqrt((elip_a**2)-(elip_b**2))\n",
    "    eccentricity=elip_c/elip_a\n",
    "    return eccentricity\n",
    "\n",
    "def errorcuadraticomedio (matriz1,matriz2):\n",
    "    errorcuadratico=(np.subtract(matriz1,matriz2))**2\n",
    "    sumatoria=errorcuadratico.sum()\n",
    "    alto,ancho=errorcuadratico.shape[:2]\n",
    "    errormse=sumatoria/(ancho*alto)\n",
    "    return errormse\n",
    "\n",
    "def without_subband_mode_intensities(I1):\n",
    "    M, N = np.shape(I1)\n",
    "    I2 = np.zeros((M, N), np.double)\n",
    "    mode1 = np.zeros((1, M), np.double)\n",
    "\n",
    "    nf = 0\n",
    "    for nf in range(0, M):\n",
    "        thisi = I1[nf, :]\n",
    "        thisi[thisi == np.inf] = np.nan\n",
    "\n",
    "        maxi = np.max(np.real(thisi[:]))\n",
    "\n",
    "        mini = np.min(np.real(thisi[:]))\n",
    "\n",
    "        threshi = np.abs((mini-maxi)/2)\n",
    "\n",
    "        hvec = np.arange(np.min(np.real(thisi[:])), np.max(np.real(thisi[:])))\n",
    "        if np.size(hvec) == 1:\n",
    "            hvec = np.expand_dims(np.linspace(mini, maxi, 2), axis=0)\n",
    "\n",
    "        histii = np.real(np.histogram(thisi[:], hvec))\n",
    "        histi = histii[0]\n",
    "\n",
    "        loc = np.argmax(histi[:])\n",
    "\n",
    "        mode1_tmp = hvec[loc]\n",
    "        mode1[0, nf] = mode1_tmp\n",
    "\n",
    "    # Filtro de promedio Movil\n",
    "    mode2 = savgol_filter(mode1, 11, 1)\n",
    "    mode2 = np.transpose(mode2)\n",
    "\n",
    "    for nf in range(0, M):\n",
    "        I2[nf, :] = I1[nf, :]-mode2[nf]\n",
    "    return I2\n",
    "    "
   ]
  },
  {
   "cell_type": "code",
   "execution_count": null,
   "metadata": {},
   "outputs": [],
   "source": [
    "\n",
    "#fs, senial = wavfile.read(r\"D:\\\\Users\\ACER\\Desktop\\Trabajo Investigacion\\Aureas Mono especies\\Audios\\\\JAGUAS259_20121114_144604.wav\")\n",
    "fs, senial = wavfile.read(r\"D:\\\\Users\\ACER\\Desktop\\Trabajo Investigacion\\Aureas Mono especies\\Audios\\\\JAGUAS253_20130117_075446.wav\")\n",
    "np.shape(senial.shape[:])[0]\n",
    "if np.shape(senial.shape[:])[0] <2:\n",
    "    p,f,t,d=plt.specgram(senial,Fs=fs,NFFT=2048,noverlap=1550)\n",
    "else:\n",
    "    p,f,t,d=plt.specgram(senial[:,1],Fs=fs,NFFT=2048,noverlap=1550)\n",
    "\n",
    "    \n",
    "intensidad3=p\n",
    "intensidad_espectrograma=20*(np.log10(np.abs(intensidad3)))\n",
    "intensidad_filtrogausiano = cv2.GaussianBlur(intensidad_espectrograma, (13,13),sigmaX=2, sigmaY=5)\n",
    "#auxiliar=pd.DataFrame(intensidad_espectrograma)\n"
   ]
  },
  {
   "cell_type": "code",
   "execution_count": 39,
   "metadata": {},
   "outputs": [],
   "source": [
    "#ruta=\"D:/Users/ACER/Desktop/Trabajo Investigacion/Aureas Mono especies/Audios/JAGUAS253_20130117_075446.wav\"\n",
    "ruta=\"D:/Users/ACER/Desktop/Trabajo Investigacion/Aureas Mono especies/Audios/JAGUAS259_20121115_110604.wav\"\n",
    "\n",
    "\n",
    "try:\n",
    "    x, fs = sf.read(ruta)\n",
    "except RuntimeError:\n",
    "    print(\"error en grabacion\")\n",
    "\n",
    "\n",
    "if len(x.shape) == 1:\n",
    "    senal_audio = x\n",
    "else:\n",
    "    x = x.mean(axis=1)\n",
    "    x = np.squeeze(x)\n",
    "    senal_audio = x\n",
    "\n",
    "\n",
    "\n",
    "nmin = round(len(senal_audio) / (60 * fs))\n",
    "bio_band = (2000, 8000)\n",
    "tech_band = (200, 1500)\n",
    "wn = \"hann\"\n",
    "size_wn = 1024\n",
    "nmin = round(len(senal_audio) / (60 * fs))\n",
    "nperseg = nmin * size_wn\n",
    "noverlap = 0\n",
    "nfft = nmin * size_wn\n",
    "\n",
    "\n",
    "#f, t, p = signal.spectrogram(senal_audio,fs=fs,window=wn,nperseg=nperseg,\n",
    "#                             noverlap=noverlap,nfft=nfft,detrend=\"constant\",\n",
    "#                             scaling=\"density\",axis=-1,mode=\"magnitude\")\n",
    "f,t,p=signal.spectrogram(senal_audio,fs=fs,nfft=2048,nperseg=569,noverlap=0)\n",
    "\n",
    "intensidad3=p[1:,:]\n",
    "intensidad_espectrograma=20*(np.log10(np.abs(intensidad3)))\n",
    "intensidad_filtrogausiano = cv2.GaussianBlur(intensidad_espectrograma, (13,13),sigmaX=2, sigmaY=5)"
   ]
  },
  {
   "cell_type": "code",
   "execution_count": 40,
   "metadata": {},
   "outputs": [],
   "source": [
    "#suband=sio.loadmat('Witoutsuband_data.mat')\n",
    "#with_suband=suband['I3']\n",
    "with_suband=without_subband_mode_intensities(intensidad_filtrogausiano)\n",
    "\n",
    "with_suband = with_suband * (with_suband >= 0)\n",
    "#with_suband_normalizada=with_suband/np.max(with_suband)\n",
    "#blancoNegro=np.round(255*(with_suband_normalizada))\n",
    "#blancoNegro=blancoNegro.astype(int)\n",
    "#_,wsub_bin = cv2.threshold(with_suband, 0, 255,cv2.THRESH_OTSU+cv2.THRESH_BINARY)\n",
    "#_,wsub_bin=cv2.adaptiveThreshold(with_suband,255,cv2.ADAPTIVE_THRESH_GAUSSIAN_C,cv2.THRESH_BINARY,11,2)\n"
   ]
  },
  {
   "cell_type": "code",
   "execution_count": 41,
   "metadata": {},
   "outputs": [],
   "source": [
    "\n",
    "\n",
    "\n",
    "cv2.imwrite(\"Anda2.png\",with_suband)\n",
    "pabinarizar=cv2.imread(r\"Anda2.png\",0)\n",
    "\n",
    "#pabinarizar=with_suband\n",
    "\n",
    "height,width=pabinarizar.shape[:2]\n",
    "imagen = np.zeros((height,width,3), np.uint8)\n",
    "\n",
    "#img = cv2.cvtColor(pabinarizar, cv2.COLOR_BGR2GRAY)\n",
    "_,wsub_bin = cv2.threshold(pabinarizar, 0, 255,type =cv2.THRESH_BINARY+cv2.THRESH_OTSU)\n",
    "bin_inver=np.flipud(wsub_bin)\n",
    "#img = cv2.cvtColor(with_suband, cv2.COLOR_RGB2GRAY)\n",
    "#wsub_bin=cv2.adaptiveThreshold(pabinarizar,255,cv2.ADAPTIVE_THRESH_GAUSSIAN_C,cv2.THRESH_BINARY,11,2)\n",
    "imagen[:,:,0]=np.flipud(pabinarizar)\n",
    "imagen[:,:,1]=np.flipud(pabinarizar)\n",
    "imagen[:,:,2]=np.flipud(pabinarizar)\n",
    "\n"
   ]
  },
  {
   "cell_type": "code",
   "execution_count": 42,
   "metadata": {},
   "outputs": [],
   "source": [
    "RectangKernel = cv2.getStructuringElement(cv2.MORPH_RECT, ksize=(9, 7))\n",
    "opening = cv2.morphologyEx(bin_inver, cv2.MORPH_OPEN, RectangKernel, iterations=1)\n",
    "CuadKernel = cv2.getStructuringElement(cv2.MORPH_RECT, ksize=(6, 6))\n",
    "Close = cv2.morphologyEx(opening, cv2.MORPH_CLOSE, CuadKernel, iterations=1)\n"
   ]
  },
  {
   "cell_type": "code",
   "execution_count": 47,
   "metadata": {},
   "outputs": [],
   "source": [
    "y=cv2.resize(bin_inver,(1033,205),interpolation=cv2.INTER_CUBIC)\n",
    "y2=cv2.resize(Close,(1033,205),interpolation=cv2.INTER_CUBIC)\n",
    "cv2.imshow(\"img\",y)\n",
    "cv2.imshow(\"img1\",y2)\n",
    "cv2.waitKey(0) \n",
    "cv2.destroyAllWindows()"
   ]
  },
  {
   "cell_type": "code",
   "execution_count": 43,
   "metadata": {},
   "outputs": [],
   "source": [
    "\n",
    "contours, hierarchy = cv2.findContours(Close,cv2.RETR_TREE,cv2.CHAIN_APPROX_SIMPLE)\n",
    "a=[]\n",
    "for cnt in contours:\n",
    "    x,y,w,h = cv2.boundingRect(cnt)\n",
    "    area=cv2.contourArea(cnt)\n",
    "    exent=area/(w*h)\n",
    "    try:\n",
    "        if area>175 and area<40000 and exent>0.2:\n",
    "            ellipse = cv2.fitEllipse(cnt) #me da los elemetos que componen una elipse\n",
    "            eccentricity=findeccentricity(ellipse) #uso una funcion que cree para encontrar la exentricidad del elemento\n",
    "            if eccentricity>0.2:\n",
    "                a.append(cnt)     \n",
    "        else:\n",
    "            continue\n",
    "    except:\n",
    "            0\n",
    "#cv2.ellipse(imagen,((99.5521011352539, 657.787109375),(110.54241180419922, 186.60873413085938),268.20364379882812),(0,255,0),2)\n",
    "#cv2.ellipse(imagen,ellipse,(0,255,0),2)\n",
    "#x,y,w,h = cv2.boundingRect(cnt2)\n",
    "#print(x,y,w,h)\n"
   ]
  },
  {
   "cell_type": "code",
   "execution_count": null,
   "metadata": {},
   "outputs": [],
   "source": [
    "\n",
    "#rect = cv2.minAreaRect(cnt2)\n",
    "#box = cv2.boxPoints(rect)\n",
    "#box = np.int0(box)\n",
    "#cv2.drawContours(imagen,[box],0,(0,0,255),2)\n",
    "#tiempo=sio.loadmat(\"D:\\Proyectos Visual Studio\\Python-Jupyther\\Bioacustica\\Variables\\Tiempo.mat\")\n",
    "#tiempo=tiempo[\"T\"]\n",
    "#frecuencia=sio.loadmat(\"D:\\Proyectos Visual Studio\\Python-Jupyther\\Bioacustica\\Variables\\Frecuencia.mat\")\n",
    "#frecuencia=frecuencia[\"F\"]\n",
    "#frecuencia=np.flipud(frecuencia)\n"
   ]
  },
  {
   "cell_type": "code",
   "execution_count": 44,
   "metadata": {},
   "outputs": [],
   "source": [
    "for contorno in a:\n",
    "    x,y,w,h = cv2.boundingRect(contorno)\n",
    "    cv2.rectangle(imagen,(x,y),(x+w,y+h),(0,255,0),10)\n",
    "#cv2.drawContours(imagen,a,-1,(0,100,0),5)\n"
   ]
  },
  {
   "cell_type": "code",
   "execution_count": 45,
   "metadata": {},
   "outputs": [],
   "source": [
    "tiempo=t\n",
    "frecuencia=f\n",
    "tiempo=np.expand_dims(tiempo,axis=0)\n",
    "frecuencia=np.expand_dims(frecuencia,axis=1)\n",
    "segmento=[]\n",
    "segmentos_nor=[]\n",
    "for element in a:\n",
    "    timeI,frecma,duration,magfrec=cv2.boundingRect(element)\n",
    "    posicion=[int(timeI),int(frecma),int(duration),int(magfrec)]\n",
    "    cv2.rectangle(imagen,(timeI,frecma),(timeI+duration,frecma+magfrec),(0,255,0),10)\n",
    "    segmento.append([float(tiempo[:,(posicion[0]+1)]),float(tiempo[:,(posicion[0]+posicion[2]-1)]),\n",
    "    float(frecuencia[(posicion[1]),:]),float(frecuencia[(posicion[1]+posicion[3]-1),:])])\n",
    "    segmentos_nor.append([posicion[0],posicion[1],posicion[2],posicion[3]])\n",
    "segm_xie=np.array(segmento)\n",
    "segmentos_nor=np.array(segmentos_nor)\n"
   ]
  },
  {
   "cell_type": "code",
   "execution_count": 46,
   "metadata": {},
   "outputs": [],
   "source": [
    "escalada=cv2.resize(Close,(1033,205),interpolation=cv2.INTER_CUBIC)\n",
    "muestra=cv2.resize(imagen,(1033,205),interpolation=cv2.INTER_CUBIC)\n",
    "cv2.imshow(\"imagen\",muestra)\n",
    "cv2.imshow(\"imagen2\",escalada)\n",
    "cv2.waitKey(0) \n",
    "cv2.destroyAllWindows()\n"
   ]
  },
  {
   "cell_type": "code",
   "execution_count": null,
   "metadata": {},
   "outputs": [],
   "source": [
    "gausiano=sio.loadmat('gausianblur.mat')\n",
    "filgau=gausiano[\"I2\"]\n",
    "openingmat=sio.loadmat('open.mat')\n",
    "openingmat=openingmat['img_']\n",
    "closemat=sio.loadmat('cose.mat')\n",
    "closemat=closemat[\"img3_\"]\n",
    "errorgausiano=errorcuadraticomedio(filgau,intensidad_filtrogausiano)\n",
    "erroropening=errorcuadraticomedio(openingmat,opening)\n",
    "errorclose=errorcuadraticomedio(closemat,Close)\n",
    "\n",
    "print(erroropening,errorclose,errorgausiano)\n"
   ]
  },
  {
   "cell_type": "code",
   "execution_count": null,
   "metadata": {},
   "outputs": [],
   "source": [
    "prueba=[]\n",
    "features=np.array([[-19.58140079, -20.47963333, -17.42474575, -19.02111535],\n",
    "       [ -1.08292763,  -1.57679018,  -0.78164826,  -0.70270336],\n",
    "       [ -0.1362791 ,  -0.49108456,  -1.56561794,  -0.69415751],\n",
    "       [  0.48064605,   0.59210219,   0.3795349 ,   0.05129817]])\n"
   ]
  },
  {
   "cell_type": "code",
   "execution_count": null,
   "metadata": {},
   "outputs": [],
   "source": [
    "prueba.append([features[:,0]]+[1,2,3,4])\n",
    "print(prueba)\n",
    "\n",
    "lista=[1,2,3,4]+[5,6,7,7]"
   ]
  },
  {
   "cell_type": "code",
   "execution_count": null,
   "metadata": {},
   "outputs": [],
   "source": [
    "lista"
   ]
  }
 ],
 "metadata": {
  "kernelspec": {
   "display_name": "Python 3.9.13 64-bit",
   "language": "python",
   "name": "python3"
  },
  "language_info": {
   "codemirror_mode": {
    "name": "ipython",
    "version": 3
   },
   "file_extension": ".py",
   "mimetype": "text/x-python",
   "name": "python",
   "nbconvert_exporter": "python",
   "pygments_lexer": "ipython3",
   "version": "3.9.13"
  },
  "orig_nbformat": 4,
  "vscode": {
   "interpreter": {
    "hash": "2469a70536e4d2335a2ea8907942d0699c37342a371ac185bdb5b0aa6f073890"
   }
  }
 },
 "nbformat": 4,
 "nbformat_minor": 2
}
