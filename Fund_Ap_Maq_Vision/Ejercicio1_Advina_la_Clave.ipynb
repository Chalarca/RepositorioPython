{
 "cells": [
  {
   "cell_type": "code",
   "execution_count": 42,
   "metadata": {},
   "outputs": [],
   "source": [
    "codigo=[4,8,1]"
   ]
  },
  {
   "cell_type": "code",
   "execution_count": 54,
   "metadata": {},
   "outputs": [
    {
     "name": "stdout",
     "output_type": "stream",
     "text": [
      "contraseña adivinada\n"
     ]
    }
   ],
   "source": [
    "s=0\n",
    "g=0\n",
    "clave=[]\n",
    "ingreso=input(\"ingrese un numero de 3 Cifras\")\n",
    "num=ingreso\n",
    "a=len(ingreso)\n",
    "if a >1:\n",
    "    clave.append(int(num[0]))\n",
    "    clave.append(int(num[1]))\n",
    "    clave.append(int(num[2]))\n",
    "else:\n",
    "    clave.append(int(ingreso))\n",
    "    for i in range(0,2):\n",
    "        b=int(input())\n",
    "        clave.append(b)\n",
    "\n",
    "for cifra in clave:\n",
    "    if cifra==codigo[0]:\n",
    "        s=s+1\n",
    "        if clave[0]==codigo[0]:\n",
    "            g=g+1\n",
    "            s=s-1\n",
    "    elif cifra==codigo[1]:\n",
    "        s=s+1\n",
    "        if clave[1]==codigo[1]:\n",
    "            g=g+1\n",
    "            s=s-1\n",
    "    elif cifra==codigo[2]:\n",
    "        s=s+1\n",
    "        if clave[2]==codigo[2]:\n",
    "            g=g+1\n",
    "            s=s-1\n",
    "    else:\n",
    "        0\n",
    "if s>0:\n",
    "    print(\"hay \",s,\" numeros correctos\")\n",
    "if 3>g>0:\n",
    "    print(\"hay \",g,\" numeros en posicion correcta\")\n",
    "elif g==3:\n",
    "    print(\"contraseña adivinada\")"
   ]
  },
  {
   "cell_type": "code",
   "execution_count": 40,
   "metadata": {},
   "outputs": [],
   "source": []
  },
  {
   "cell_type": "code",
   "execution_count": 2,
   "metadata": {},
   "outputs": [
    {
     "ename": "AttributeError",
     "evalue": "'str' object has no attribute 'shape'",
     "output_type": "error",
     "traceback": [
      "\u001b[1;31m---------------------------------------------------------------------------\u001b[0m",
      "\u001b[1;31mAttributeError\u001b[0m                            Traceback (most recent call last)",
      "\u001b[1;32m~\\AppData\\Local\\Temp/ipykernel_6180/3895439175.py\u001b[0m in \u001b[0;36m<module>\u001b[1;34m\u001b[0m\n\u001b[1;32m----> 1\u001b[1;33m \u001b[0ma\u001b[0m\u001b[1;33m=\u001b[0m\u001b[0mnum\u001b[0m\u001b[1;33m.\u001b[0m\u001b[0mshape\u001b[0m\u001b[1;33m[\u001b[0m\u001b[1;33m:\u001b[0m\u001b[1;36m1\u001b[0m\u001b[1;33m]\u001b[0m\u001b[1;33m\u001b[0m\u001b[1;33m\u001b[0m\u001b[0m\n\u001b[0m",
      "\u001b[1;31mAttributeError\u001b[0m: 'str' object has no attribute 'shape'"
     ]
    }
   ],
   "source": []
  }
 ],
 "metadata": {
  "kernelspec": {
   "display_name": "Python 3.9.13 64-bit",
   "language": "python",
   "name": "python3"
  },
  "language_info": {
   "codemirror_mode": {
    "name": "ipython",
    "version": 3
   },
   "file_extension": ".py",
   "mimetype": "text/x-python",
   "name": "python",
   "nbconvert_exporter": "python",
   "pygments_lexer": "ipython3",
   "version": "3.9.13"
  },
  "orig_nbformat": 4,
  "vscode": {
   "interpreter": {
    "hash": "2469a70536e4d2335a2ea8907942d0699c37342a371ac185bdb5b0aa6f073890"
   }
  }
 },
 "nbformat": 4,
 "nbformat_minor": 2
}
