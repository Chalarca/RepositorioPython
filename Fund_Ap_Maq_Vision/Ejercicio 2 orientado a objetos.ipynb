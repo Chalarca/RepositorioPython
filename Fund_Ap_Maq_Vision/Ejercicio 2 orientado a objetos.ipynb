{
 "cells": [
  {
   "cell_type": "code",
   "execution_count": 1,
   "metadata": {},
   "outputs": [],
   "source": [
    "import numpy as np\n",
    "import matplotlib.pyplot as plt\n",
    "import time\n",
    "from IPython.display import clear_output"
   ]
  },
  {
   "cell_type": "code",
   "execution_count": 2,
   "metadata": {},
   "outputs": [],
   "source": [
    "class laberinto():\n",
    "    def __init__(self):\n",
    "        self.ahor = np.array([[0,1],[-1,0]])\n",
    "        self.hor = np.array([[0,-1],[1,0]])\n",
    "        self.rebote=np.array([[-1,0],[0,-1]])\n",
    "        self.actual=np.array([7,7])\n",
    "        self.dir=np.array([0,1])\n",
    "        self.crear_laberinto()\n",
    "\n",
    "    def crear_laberinto(self):\n",
    "        s=np.random.randint(0, 15, (15,15))\n",
    "        s=s*(s<3)\n",
    "        self.r=s.copy()\n",
    "\n",
    "    def avanzar(self,ciclos=50,espera=0.7):\n",
    "        f=0\n",
    "        g=0\n",
    "        k=0\n",
    "        plt.imshow(self.r)\n",
    "        for i in range(0,100):\n",
    "            \n",
    "            sig=self.actual+self.dir\n",
    "            x,y=sig\n",
    "            if g>0 and k>0:\n",
    "                self.dir=self.dir.dot(self.ahor)\n",
    "                k=0\n",
    "                g=0\n",
    "            elif f>2:\n",
    "                self.dir=self.dir.dot(self.hor)\n",
    "                f=0\n",
    "            elif x>14 or x<0 or y>14 or y<0:\n",
    "                self.dir=self.dir.dot(self.rebote)\n",
    "                f=f+1\n",
    "            elif self.r[x,y]==1:\n",
    "                g=0\n",
    "                self.dir=self.dir.dot(self.hor)\n",
    "                g=g+1\n",
    "            elif self.r[x,y]==2:\n",
    "                k=0\n",
    "                k=k+1\n",
    "                self.dir=self.dir.dot(self.ahor)\n",
    "            elif self.r[x,y]==0:\n",
    "                g=0\n",
    "                k=0\n",
    "                sig=self.actual+self.dir\n",
    "                x,y=self.actual\n",
    "                self.r[x,y]=0\n",
    "                self.actual=sig\n",
    "                x,y=self.actual\n",
    "                self.r[x,y]=3\n",
    "                clear_output()\n",
    "                plt.imshow(self.r)\n",
    "                plt.show()\n",
    "                time.sleep(0.5)\n",
    "            else:\n",
    "                print(\"ok\")\n"
   ]
  },
  {
   "cell_type": "code",
   "execution_count": 3,
   "metadata": {},
   "outputs": [],
   "source": [
    "juego=laberinto()"
   ]
  },
  {
   "cell_type": "code",
   "execution_count": 5,
   "metadata": {},
   "outputs": [],
   "source": [
    "juego.crear_laberinto()"
   ]
  },
  {
   "cell_type": "code",
   "execution_count": 4,
   "metadata": {},
   "outputs": [
    {
     "data": {
      "image/png": "[encoded data removed]",
      "text/plain": [
       "<Figure size 432x288 with 1 Axes>"
      ]
     },
     "metadata": {
      "needs_background": "light"
     },
     "output_type": "display_data"
    }
   ],
   "source": [
    "juego.avanzar()"
   ]
  }
 ],
 "metadata": {
  "kernelspec": {
   "display_name": "Python 3.9.13 64-bit",
   "language": "python",
   "name": "python3"
  },
  "language_info": {
   "codemirror_mode": {
    "name": "ipython",
    "version": 3
   },
   "file_extension": ".py",
   "mimetype": "text/x-python",
   "name": "python",
   "nbconvert_exporter": "python",
   "pygments_lexer": "ipython3",
   "version": "3.9.13"
  },
  "orig_nbformat": 4,
  "vscode": {
   "interpreter": {
    "hash": "2469a70536e4d2335a2ea8907942d0699c37342a371ac185bdb5b0aa6f073890"
   }
  }
 },
 "nbformat": 4,
 "nbformat_minor": 2
}
