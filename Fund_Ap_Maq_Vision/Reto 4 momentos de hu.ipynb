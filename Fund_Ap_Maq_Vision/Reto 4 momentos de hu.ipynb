{
 "cells": [
  {
   "cell_type": "code",
   "execution_count": 19,
   "metadata": {},
   "outputs": [],
   "source": [
    "import numpy as np\n",
    "import cv2 "
   ]
  },
  {
   "cell_type": "code",
   "execution_count": 20,
   "metadata": {},
   "outputs": [],
   "source": [
    "img=cv2.imread(\"D:\\Proyectos Visual Studio\\Python-Jupyther\\Fund_Ap_Maq_Vision\\\\tres.png\",0)\n",
    "cv2.imshow(\"imagen1\",img)\n",
    "cv2.waitKey(0)\n",
    "cv2.destroyAllWindows()"
   ]
  },
  {
   "cell_type": "code",
   "execution_count": 21,
   "metadata": {},
   "outputs": [],
   "source": [
    "mitad = cv2.resize(img,dsize=None,fx=0.5, fy=0.5, interpolation=cv2.INTER_NEAREST)\n",
    "\n",
    "cv2.imshow(\"imagen2\",mitad)\n",
    "cv2.waitKey(0)\n",
    "cv2.destroyAllWindows()"
   ]
  },
  {
   "cell_type": "code",
   "execution_count": 22,
   "metadata": {},
   "outputs": [],
   "source": [
    "(h, w) = img.shape[:2]\n",
    "(cX, cY) = (w // 2, h // 2)\n",
    "\n",
    "m15 = cv2.getRotationMatrix2D((cX, cY), 15, 1.0)\n",
    "rot15 = cv2.warpAffine(img, m15, (w, h),borderValue=255)\n",
    "cv2.imshow(\"imagen3\",rot15)\n",
    "cv2.waitKey(0)\n",
    "cv2.destroyAllWindows()"
   ]
  },
  {
   "cell_type": "code",
   "execution_count": 23,
   "metadata": {},
   "outputs": [],
   "source": [
    "m45 = cv2.getRotationMatrix2D((cX, cY), 45, 1)\n",
    "rot45 = cv2.warpAffine(img, m45, (w, h),borderValue=255)\n",
    "cv2.imshow(\"imagen3\",rot45)\n",
    "cv2.waitKey(0)\n",
    "cv2.destroyAllWindows()"
   ]
  },
  {
   "cell_type": "code",
   "execution_count": 26,
   "metadata": {},
   "outputs": [],
   "source": [
    "flipY = cv2.flip(img,1)\n",
    "cv2.imshow(\"imagen4\",flipY)\n",
    "cv2.waitKey(0)\n",
    "cv2.destroyAllWindows()"
   ]
  },
  {
   "cell_type": "code",
   "execution_count": 31,
   "metadata": {},
   "outputs": [
    {
     "name": "stdout",
     "output_type": "stream",
     "text": [
      "[[ 1.31063522e-03  6.38088455e-08  6.35583190e-12  2.57137677e-11\n",
      "  -3.16154917e-22 -6.42947921e-15 -9.00400447e-23]\n",
      " [ 1.30729825e-03  6.14502903e-08  5.95024179e-12  2.53564242e-11\n",
      "  -3.02002941e-22 -6.21292687e-15 -7.61592622e-23]\n",
      " [ 1.31084116e-03  1.21231670e-07  1.28067944e-11  2.59062846e-11\n",
      "  -5.88139787e-23 -3.46727623e-15 -4.68196437e-22]\n",
      " [ 1.24714981e-03  2.70923954e-07  2.01856414e-11  2.76547007e-11\n",
      "   6.12007044e-22  1.02808747e-14 -2.28845508e-22]\n",
      " [ 1.31063522e-03  6.38088455e-08  6.35583190e-12  2.57137677e-11\n",
      "  -3.16154917e-22 -6.42947921e-15  9.00400447e-23]]\n"
     ]
    }
   ],
   "source": [
    "images = [img, mitad, rot15, rot45, flipY]\n",
    "\n",
    "\n",
    "momentos = []\n",
    "for i in images:\n",
    "    momen = cv2.HuMoments(cv2.moments(i)).flatten()\n",
    "    momentos.append(momen)\n",
    "momentos=np.array(momentos)\n",
    "print(momentos)"
   ]
  },
  {
   "attachments": {},
   "cell_type": "markdown",
   "metadata": {},
   "source": [
    "Aparentemente los momentos son bastante diferentes hasta que te das cuenta de el primer momento esta en orden e e-3 y las demas van desde e+11 hasta e-23 por lo cual los momentos se parecen bastante ya en comparaciones mas particulares.\n",
    "\n",
    "en el momento 7 se nota algo muy particular y es que para la imagen original y la reflejada el valor es el mismo pero con signos contrarios, eso se ve en como para ese caso permanece completamente igual a exepcion del ultimo con el cambio de signo\n",
    "\n",
    "Dependiendo del momento, la rotacion aumenta o disminuye a medida de que se rota la imagen, para el momento 5 se invierten los signos y el valor a 45° crece. \n",
    "\n",
    "el unico momento que permane mas  o menos constante a todos en general el el primer momento que varia levemente y las variaciones mas en la imagen reducida y rotada a 45° se pueden deber por el cambio de tamaño\n",
    "\n",
    "\n",
    "\n",
    "\n"
   ]
  }
 ],
 "metadata": {
  "kernelspec": {
   "display_name": "Python 3",
   "language": "python",
   "name": "python3"
  },
  "language_info": {
   "codemirror_mode": {
    "name": "ipython",
    "version": 3
   },
   "file_extension": ".py",
   "mimetype": "text/x-python",
   "name": "python",
   "nbconvert_exporter": "python",
   "pygments_lexer": "ipython3",
   "version": "3.9.13 (tags/v3.9.13:6de2ca5, May 17 2022, 16:36:42) [MSC v.1929 64 bit (AMD64)]"
  },
  "orig_nbformat": 4,
  "vscode": {
   "interpreter": {
    "hash": "2469a70536e4d2335a2ea8907942d0699c37342a371ac185bdb5b0aa6f073890"
   }
  }
 },
 "nbformat": 4,
 "nbformat_minor": 2
}
