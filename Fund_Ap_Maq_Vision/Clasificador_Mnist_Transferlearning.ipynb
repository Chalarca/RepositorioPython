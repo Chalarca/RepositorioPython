{
  "cells": [
    {
      "cell_type": "code",
      "execution_count": 5,
      "metadata": {
        "id": "MSip_p2Kxxzo"
      },
      "outputs": [],
      "source": [
        "import numpy as np\n",
        "import matplotlib.pyplot as plt\n",
        "import tensorflow as tf\n",
        "from tensorflow.keras.datasets import mnist\n",
        "from tensorflow.keras.preprocessing.image import ImageDataGenerator\n",
        "\n",
        "def plot_examples(x, y, n=10):\n",
        "    # Generamos un conjunto aleatorio de índices\n",
        "    indices = np.random.randint(0, len(x), size=n)\n",
        "    # Creamos una figura con n subplots\n",
        "    fig, axs = plt.subplots(1, n, figsize=(15, 15))\n",
        "    # Iteramos sobre los subplots\n",
        "    for i, ax in enumerate(axs):\n",
        "        # Obtenemos el índice actual\n",
        "        index = indices[i]\n",
        "        # Mostramos la imagen y la etiqueta correspondiente\n",
        "        ax.imshow(x[index], cmap='gray')\n",
        "        ax.set_title(str(y[index]))\n",
        "        ax.axis('off')\n",
        "    # Mostramos la figura\n",
        "    plt.show()"
      ]
    },
    {
      "cell_type": "code",
      "execution_count": 6,
      "metadata": {
        "id": "obQWBjr6xPKg"
      },
      "outputs": [],
      "source": [
        "# Cargamos los datos de MNIST\n",
        "(x_train, y_train), (x_test, y_test) = mnist.load_data()\n",
        "\n",
        "x_train = np.expand_dims(x_train, axis=-1)\n",
        "x_train = np.subtract(255, x_train)\n",
        "x_test = np.expand_dims(x_test, axis=-1)\n",
        "x_test = np.subtract(255, x_test)\n",
        "\n",
        "# Definimos el generador de datos\n",
        "train_datagen = ImageDataGenerator(\n",
        "    rotation_range=20,  \n",
        "    width_shift_range=0.2, \n",
        "    height_shift_range=0.4, \n",
        "    zoom_range=[1.7, 1.1],  \n",
        "    rescale=1./255\n",
        ")\n",
        "\n",
        "test_datagen = ImageDataGenerator(\n",
        "    rotation_range=20,  \n",
        "    width_shift_range=0.2, \n",
        "    height_shift_range=0.4, \n",
        "    zoom_range=[1.7, 1.1],  \n",
        "    rescale=1./255\n",
        ")\n",
        "\n",
        "# Ajustamos el generador a los datos de entrenamiento\n",
        "train_datagen.fit(x_train)\n",
        "test_datagen.fit(x_test)\n",
        "\n",
        "# Creamos el conjunto de datos aumentado\n",
        "batch_size = 128\n",
        "train_dataset = train_datagen.flow(x_train, y_train, batch_size=batch_size)\n",
        "test_dataset = test_datagen.flow(x_test, y_test, batch_size=batch_size)"
      ]
    },
    {
      "cell_type": "code",
      "execution_count": 7,
      "metadata": {
        "colab": {
          "base_uri": "https://localhost:8080/",
          "height": 157
        },
        "id": "fem2uP-yx8h-",
        "outputId": "c4d777cb-e89b-4936-c39b-cbff991348e8"
      },
      "outputs": [
        {
          "data": {
            "image/png": "[encoded data removed]",
            "text/plain": [
              "<Figure size 1080x1080 with 10 Axes>"
            ]
          },
          "metadata": {
            "needs_background": "light"
          },
          "output_type": "display_data"
        }
      ],
      "source": [
        "x_batch, y_batch = train_dataset.next()\n",
        "\n",
        "# Mostramos algunos ejemplos\n",
        "plot_examples(x_batch, y_batch)"
      ]
    },
    {
      "cell_type": "code",
      "execution_count": 8,
      "metadata": {
        "colab": {
          "base_uri": "https://localhost:8080/"
        },
        "id": "9tGQAnaubpbn",
        "outputId": "20f2df75-6a96-43ba-ffbb-7c58520cae6e"
      },
      "outputs": [
        {
          "name": "stdout",
          "output_type": "stream",
          "text": [
            "Model: \"sequential\"\n",
            "_________________________________________________________________\n",
            " Layer (type)                Output Shape              Param #   \n",
            "=================================================================\n",
            " conv2d (Conv2D)             (None, 28, 28, 32)        320       \n",
            "                                                                 \n",
            " conv2d_1 (Conv2D)           (None, 28, 28, 32)        9248      \n",
            "                                                                 \n",
            " conv2d_2 (Conv2D)           (None, 28, 28, 32)        9248      \n",
            "                                                                 \n",
            " max_pooling2d (MaxPooling2D  (None, 14, 14, 32)       0         \n",
            " )                                                               \n",
            "                                                                 \n",
            " conv2d_3 (Conv2D)           (None, 14, 14, 64)        18496     \n",
            "                                                                 \n",
            " conv2d_4 (Conv2D)           (None, 14, 14, 64)        36928     \n",
            "                                                                 \n",
            " max_pooling2d_1 (MaxPooling  (None, 7, 7, 64)         0         \n",
            " 2D)                                                             \n",
            "                                                                 \n",
            " conv2d_5 (Conv2D)           (None, 7, 7, 128)         73856     \n",
            "                                                                 \n",
            " conv2d_6 (Conv2D)           (None, 7, 7, 128)         147584    \n",
            "                                                                 \n",
            " max_pooling2d_2 (MaxPooling  (None, 3, 3, 128)        0         \n",
            " 2D)                                                             \n",
            "                                                                 \n",
            " flatten (Flatten)           (None, 1152)              0         \n",
            "                                                                 \n",
            " dense (Dense)               (None, 512)               590336    \n",
            "                                                                 \n",
            " dropout (Dropout)           (None, 512)               0         \n",
            "                                                                 \n",
            " dense_1 (Dense)             (None, 10)                5130      \n",
            "                                                                 \n",
            "=================================================================\n",
            "Total params: 891,146\n",
            "Trainable params: 891,146\n",
            "Non-trainable params: 0\n",
            "_________________________________________________________________\n"
          ]
        }
      ],
      "source": [
        "# Se genera un modelo básoco convolucional para tener como base\n",
        "from tensorflow.keras.models import Sequential\n",
        "from tensorflow.keras.layers import Dense, Conv2D, MaxPooling2D, Flatten, Dropout\n",
        "\n",
        "model = Sequential()\n",
        "model.add(Conv2D(32, 3, padding='same', activation='relu', input_shape=(28,28,1))) \n",
        "model.add(Conv2D(32, 3, padding='same', activation='relu')) \n",
        "model.add(Conv2D(32, 3, padding='same', activation='relu')) \n",
        "model.add(MaxPooling2D(pool_size=(2, 2)))\n",
        "model.add(Conv2D(64, 3, padding='same', activation='relu'))\n",
        "model.add(Conv2D(64, 3, padding='same', activation='relu'))\n",
        "model.add(MaxPooling2D(pool_size=(2, 2)))\n",
        "model.add(Conv2D(128, 3, padding='same', activation='relu'))\n",
        "model.add(Conv2D(128, 3, padding='same', activation='relu'))\n",
        "model.add(MaxPooling2D(pool_size=(2, 2)))\n",
        "model.add(Flatten())\n",
        "model.add(Dense(512, activation='relu'))\n",
        "model.add(Dropout(0.2))\n",
        "model.add(Dense(10, activation='softmax'))\n",
        "\n",
        "model.summary()"
      ]
    },
    {
      "cell_type": "code",
      "execution_count": 9,
      "metadata": {
        "id": "7KYBuu6LiMiI"
      },
      "outputs": [],
      "source": [
        "model.compile(optimizer=tf.keras.optimizers.Adam(learning_rate=0.00001), loss='sparse_categorical_crossentropy', metrics=['accuracy'])\n",
        "# resume = model.fit(mnist_train_Ds.batch(256), validation_data=mnist_test_Ds.batch(256), epochs=100)\n",
        "# model.save('my_model.h5') # Salvar la arquitectura para poder usarla fuera de esta implementación"
      ]
    },
    {
      "cell_type": "code",
      "execution_count": 10,
      "metadata": {
        "colab": {
          "base_uri": "https://localhost:8080/"
        },
        "id": "gUX4dzrl2lWW",
        "outputId": "eb52bc78-89f5-4b24-9ed8-d812e6603d4e"
      },
      "outputs": [
        {
          "name": "stdout",
          "output_type": "stream",
          "text": [
            "Epoch 1/10\n",
            "469/469 [==============================] - 301s 630ms/step - loss: 2.2877 - accuracy: 0.1567 - val_loss: 2.1898 - val_accuracy: 0.2352\n",
            "Epoch 2/10\n",
            "469/469 [==============================] - 231s 493ms/step - loss: 1.9024 - accuracy: 0.2948 - val_loss: 1.7009 - val_accuracy: 0.3751\n",
            "Epoch 3/10\n",
            "469/469 [==============================] - 252s 538ms/step - loss: 1.6327 - accuracy: 0.3889 - val_loss: 1.4710 - val_accuracy: 0.4799\n",
            "Epoch 4/10\n",
            "469/469 [==============================] - 234s 498ms/step - loss: 1.4510 - accuracy: 0.4647 - val_loss: 1.2925 - val_accuracy: 0.5457\n",
            "Epoch 5/10\n",
            "469/469 [==============================] - 223s 475ms/step - loss: 1.3051 - accuracy: 0.5316 - val_loss: 1.1501 - val_accuracy: 0.6124\n",
            "Epoch 6/10\n",
            "469/469 [==============================] - 223s 476ms/step - loss: 1.1782 - accuracy: 0.5849 - val_loss: 1.0512 - val_accuracy: 0.6435\n",
            "Epoch 7/10\n",
            "469/469 [==============================] - 212s 451ms/step - loss: 1.0852 - accuracy: 0.6239 - val_loss: 0.9570 - val_accuracy: 0.6862\n",
            "Epoch 8/10\n",
            "469/469 [==============================] - 220s 468ms/step - loss: 1.0092 - accuracy: 0.6528 - val_loss: 0.9037 - val_accuracy: 0.7027\n",
            "Epoch 9/10\n",
            "469/469 [==============================] - 225s 480ms/step - loss: 0.9370 - accuracy: 0.6828 - val_loss: 0.8233 - val_accuracy: 0.7312\n",
            "Epoch 10/10\n",
            "469/469 [==============================] - 222s 473ms/step - loss: 0.8778 - accuracy: 0.7032 - val_loss: 0.7543 - val_accuracy: 0.7599\n"
          ]
        },
        {
          "data": {
            "text/plain": [
              "<keras.callbacks.History at 0x2128f59dd60>"
            ]
          },
          "execution_count": 10,
          "metadata": {},
          "output_type": "execute_result"
        }
      ],
      "source": [
        "model.fit(train_dataset, validation_data=test_dataset, epochs=10)"
      ]
    },
    {
      "cell_type": "code",
      "execution_count": null,
      "metadata": {
        "id": "eIY6BltsI3BD"
      },
      "outputs": [],
      "source": [
        "model.save('my_model.h5') # Salvar la arquitectura para poder usarla fuera de esta implementación"
      ]
    }
  ],
  "metadata": {
    "accelerator": "GPU",
    "colab": {
      "provenance": []
    },
    "kernelspec": {
      "display_name": "Python 3",
      "name": "python3"
    },
    "language_info": {
      "codemirror_mode": {
        "name": "ipython",
        "version": 3
      },
      "file_extension": ".py",
      "mimetype": "text/x-python",
      "name": "python",
      "nbconvert_exporter": "python",
      "pygments_lexer": "ipython3",
      "version": "3.9.13"
    }
  },
  "nbformat": 4,
  "nbformat_minor": 0
}
