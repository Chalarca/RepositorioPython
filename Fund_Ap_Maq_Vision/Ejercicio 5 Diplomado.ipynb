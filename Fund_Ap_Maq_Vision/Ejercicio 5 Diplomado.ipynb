{
 "cells": [
  {
   "cell_type": "code",
   "execution_count": 20,
   "metadata": {},
   "outputs": [],
   "source": [
    "import cv2\n",
    "import numpy as np"
   ]
  },
  {
   "cell_type": "code",
   "execution_count": 21,
   "metadata": {},
   "outputs": [],
   "source": [
    "image=cv2.imread(\"D:\\Proyectos Visual Studio\\Python-Jupyther\\Fund_Ap_Maq_Vision\\Lena.png\")\n"
   ]
  },
  {
   "cell_type": "code",
   "execution_count": 22,
   "metadata": {},
   "outputs": [],
   "source": [
    "def zoom(img,xscal=2,yscal=2):\n",
    "  height, width = img.shape[:2]\n",
    "  img2 = np.zeros((int(height*yscal), int(width*xscal), 3), np.uint8) \n",
    "  img2[::yscal,::xscal] = img\n",
    "  return img2"
   ]
  },
  {
   "cell_type": "code",
   "execution_count": 23,
   "metadata": {},
   "outputs": [],
   "source": [
    "#con la funcion de Opencv\n",
    "img_zoom=cv2.resize(image,None, fx=2,fy=2)\n",
    "cv2.imshow(\"imagen1\",img_zoom)\n",
    "cv2.waitKey(0)\n",
    "cv2.destroyAllWindows()"
   ]
  },
  {
   "cell_type": "code",
   "execution_count": 27,
   "metadata": {},
   "outputs": [],
   "source": [
    "img_zoomMan = zoom(image)\n",
    "cv2.imshow(\"imagen2\" ,img_zoomMan)\n",
    "cv2.waitKey(0)\n",
    "cv2.destroyAllWindows()"
   ]
  },
  {
   "cell_type": "code",
   "execution_count": 28,
   "metadata": {},
   "outputs": [],
   "source": [
    "def interpolacion(img,scal=2):\n",
    "  height, width = img.shape[:2] \n",
    "  for j in range(1,height,scal):\n",
    "    for i in range(1, width,scal):\n",
    "      m = img[j-1*(j>0):j+2,i-1*(i>0):i+2]\n",
    "      img[j,i] = np.sum(np.sum(m,axis=0),0)//np.sum(np.sum(m!=0,0),0)\n",
    "      img[j-1,i] = img[j,i]\n",
    "      img[j,i-1] = img[j,i]\n",
    "  return img"
   ]
  },
  {
   "cell_type": "code",
   "execution_count": 29,
   "metadata": {},
   "outputs": [],
   "source": [
    "resultado=interpolacion(img_zoomMan)\n",
    "cv2.imshow(\"Imagen3\",resultado)\n",
    "cv2.waitKey(0)\n",
    "cv2.destroyAllWindows()"
   ]
  }
 ],
 "metadata": {
  "kernelspec": {
   "display_name": "Python 3",
   "language": "python",
   "name": "python3"
  },
  "language_info": {
   "codemirror_mode": {
    "name": "ipython",
    "version": 3
   },
   "file_extension": ".py",
   "mimetype": "text/x-python",
   "name": "python",
   "nbconvert_exporter": "python",
   "pygments_lexer": "ipython3",
   "version": "3.9.13 (tags/v3.9.13:6de2ca5, May 17 2022, 16:36:42) [MSC v.1929 64 bit (AMD64)]"
  },
  "orig_nbformat": 4,
  "vscode": {
   "interpreter": {
    "hash": "2469a70536e4d2335a2ea8907942d0699c37342a371ac185bdb5b0aa6f073890"
   }
  }
 },
 "nbformat": 4,
 "nbformat_minor": 2
}
