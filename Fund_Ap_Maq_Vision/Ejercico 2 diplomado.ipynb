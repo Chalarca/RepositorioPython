{
 "cells": [
  {
   "cell_type": "code",
   "execution_count": null,
   "metadata": {},
   "outputs": [],
   "source": [
    "import numpy as np\n",
    "import matplotlib.pyplot as plt\n",
    "import time\n",
    "from IPython.display import clear_output"
   ]
  },
  {
   "cell_type": "code",
   "execution_count": null,
   "metadata": {},
   "outputs": [],
   "source": [
    "s=np.random.randint(0, 15, (15,15))\n",
    "s=s*(s<3)\n",
    "plt.imshow(s)"
   ]
  },
  {
   "cell_type": "code",
   "execution_count": null,
   "metadata": {},
   "outputs": [],
   "source": [
    "f=0\n",
    "g=0\n",
    "k=0\n",
    "s=np.random.randint(0, 15, (15,15))\n",
    "s=s*(s<3)\n",
    "r=s.copy()\n",
    "actual=np.array([7,7])\n",
    "dir=np.array([0,1])\n",
    "ahor = np.array([[0,1],[-1,0]])\n",
    "hor = np.array([[0,-1],[1,0]])\n",
    "rebote=np.array([[-1,0],[0,-1]])\n",
    "r[7,7]=3\n",
    "plt.imshow(r)\n",
    "for i in range(0,100):\n",
    "    \n",
    "    sig=actual+dir\n",
    "    x,y=sig\n",
    "    if g>0 and k>0:\n",
    "        dir=dir.dot(ahor)\n",
    "        k=0\n",
    "        g=0\n",
    "    elif f>2:\n",
    "        dir=dir.dot(hor)\n",
    "        f=0\n",
    "    elif x>14 or x<0 or y>14 or y<0:\n",
    "        dir=dir.dot(rebote)\n",
    "        f=f+1\n",
    "    elif r[x,y]==1:\n",
    "        g=0\n",
    "        dir=dir.dot(hor)\n",
    "        g=g+1\n",
    "    elif r[x,y]==2:\n",
    "        k=0\n",
    "        k=k+1\n",
    "        dir=dir.dot(ahor)\n",
    "    elif r[x,y]==0:\n",
    "        g=0\n",
    "        k=0\n",
    "        sig=actual+dir\n",
    "        x,y=actual\n",
    "        r[x,y]=0\n",
    "        actual=sig\n",
    "        x,y=actual\n",
    "        r[x,y]=3\n",
    "        clear_output()\n",
    "        plt.imshow(r)\n",
    "        plt.show()\n",
    "        time.sleep(0.5)\n",
    "    else:\n",
    "        print(\"ok\")\n",
    "    "
   ]
  },
  {
   "cell_type": "code",
   "execution_count": null,
   "metadata": {},
   "outputs": [],
   "source": [
    "a1=np.array([1,2,3])\n",
    "b1=np.array([[1,2,3],[1,2,3],[1,2,3]])\n",
    "c1=np.array([[[1,2,3],[1,2,3],[1,2,3]],[[1,2,3],[1,2,3],[1,2,3]],[[1,2,3],[1,2,3],[1,2,3]]])\n",
    "c1.shape"
   ]
  },
  {
   "cell_type": "code",
   "execution_count": null,
   "metadata": {},
   "outputs": [],
   "source": [
    "matriz = np.arange(25).astype(np.uint8).reshape((5,5))\n",
    "zero=np.zeros((15,15))\n",
    "zero[5:10,5:10]=matriz\n",
    "matriz"
   ]
  },
  {
   "cell_type": "code",
   "execution_count": null,
   "metadata": {},
   "outputs": [],
   "source": [
    "alt=7\n",
    "anc=7\n",
    "altm=7\n",
    "ancm=6\n",
    "r[alt,anc]=3\n",
    "plt.imshow(r)\n",
    "for i in range(0,50):\n",
    "    clear_output()\n",
    "    plt.imshow(r)\n",
    "    plt.show()\n",
    "    time.sleep(1.5)\n",
    "    \n",
    "    \n",
    "    if ancm<anc and 14>anc>0 and 14>alt>0:\n",
    "        if r[alt,anc+1]==0:\n",
    "            altm=alt\n",
    "            ancm=anc\n",
    "            anc=anc+1\n",
    "            r[alt,anc]=3\n",
    "            r[altm,ancm]=0\n",
    "\n",
    "            continue\n",
    "        elif r[alt,anc+1]==1:\n",
    "            if r[alt+1,anc]==0:\n",
    "                altm=alt\n",
    "                ancm=anc\n",
    "                alt=alt+1\n",
    "                r[alt,anc]=3\n",
    "                r[altm,ancm]=0\n",
    "\n",
    "        elif r[alt,anc+1]==2:\n",
    "            if r[alt+1,anc]==0:\n",
    "                0\n",
    "    if altm<alt and 14>anc>0 and 14>alt>0:\n",
    "          if r[alt+1,anc]==0:\n",
    "                altm=alt\n",
    "                ancm=anc\n",
    "                alt=alt+1\n",
    "                r[alt,anc]=3\n",
    "                r[altm,ancm]=0\n"
   ]
  }
 ],
 "metadata": {
  "kernelspec": {
   "display_name": "Python 3.9.13 64-bit",
   "language": "python",
   "name": "python3"
  },
  "language_info": {
   "codemirror_mode": {
    "name": "ipython",
    "version": 3
   },
   "file_extension": ".py",
   "mimetype": "text/x-python",
   "name": "python",
   "nbconvert_exporter": "python",
   "pygments_lexer": "ipython3",
   "version": "3.9.13"
  },
  "orig_nbformat": 4,
  "vscode": {
   "interpreter": {
    "hash": "2469a70536e4d2335a2ea8907942d0699c37342a371ac185bdb5b0aa6f073890"
   }
  }
 },
 "nbformat": 4,
 "nbformat_minor": 2
}
