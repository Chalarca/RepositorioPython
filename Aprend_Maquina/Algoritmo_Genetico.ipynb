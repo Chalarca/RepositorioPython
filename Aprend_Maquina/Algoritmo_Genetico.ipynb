{
 "cells": [
  {
   "cell_type": "code",
   "execution_count": 1,
   "metadata": {},
   "outputs": [],
   "source": [
    "import numpy as np\n",
    "\n",
    "\n"
   ]
  },
  {
   "cell_type": "code",
   "execution_count": null,
   "metadata": {},
   "outputs": [],
   "source": [
    "def parametros(epocas,pobacion,pc,pm,presicion,m):\n",
    "    indices=np.array([[3,8,2],[1,-2,4],[-5,3,-11]])\n",
    "    individuos=np.random.randn(pobacion,3)*10\n",
    "    "
   ]
  },
  {
   "cell_type": "code",
   "execution_count": 9,
   "metadata": {},
   "outputs": [
    {
     "name": "stdout",
     "output_type": "stream",
     "text": [
      "[[ 2.40587852  1.9880354   0.91560788  9.96102651]\n",
      " [ 2.40587852  1.9880354   0.91560788  9.96102651]\n",
      " [ 2.40587852  1.9880354   0.91560788  9.96102651]\n",
      " ...\n",
      " [ 2.40587852  2.16497055  0.91560788 15.29463215]\n",
      " [ 2.16529067  1.9880354   0.91560788 15.29463215]\n",
      " [ 1.9487616   1.9880354   0.91560788 15.29463215]]\n",
      "[[ 2.40587852  1.78923186  0.91560788  9.96102651]\n",
      " [ 2.40587852  1.78923186  0.91560788  9.96102651]\n",
      " [ 2.16529067  1.9880354   0.91560788  9.96102651]\n",
      " ...\n",
      " [ 2.40587852  2.18683894  0.91560788 15.29463215]\n",
      " [ 2.40587852  2.18683894  0.91560788 15.29463215]\n",
      " [ 2.40587852  2.18683894  0.91560788 15.42891554]]\n",
      "[[ 2.40587852  2.18683894  0.91560788  9.96102651]\n",
      " [ 2.40587852  2.18683894  0.91560788  9.96102651]\n",
      " [ 2.40587852  1.78923186  0.91560788  9.96102651]\n",
      " ...\n",
      " [ 2.40587852  1.9880354   0.91560788 15.29463215]\n",
      " [ 2.40587852  1.9880354   0.91560788 15.29463215]\n",
      " [ 2.40587852  1.9880354   0.91560788 15.82896422]]\n",
      "[[ 2.64646637  1.9880354   0.91560788  9.96102651]\n",
      " [ 2.64646637  1.9880354   0.91560788  9.96102651]\n",
      " [ 2.40587852  1.9880354   0.91560788  9.96102651]\n",
      " ...\n",
      " [ 2.40587852  1.9880354   0.91560788 15.29463215]\n",
      " [ 2.40587852  1.9880354   0.91560788 15.29463215]\n",
      " [ 2.40587852  1.9880354   0.91560788 15.42891554]]\n",
      "[[ 2.40587852  1.9880354   0.91560788  9.96102651]\n",
      " [ 2.40587852  1.9880354   0.91560788  9.96102651]\n",
      " [ 2.40587852  1.9880354   0.91560788  9.96102651]\n",
      " ...\n",
      " [ 2.40587852  1.9880354   0.91560788 15.29463215]\n",
      " [ 2.40587852  1.9880354   0.91560788 15.29463215]\n",
      " [ 2.40587852  1.9880354   0.91560788 18.42181183]]\n",
      "[[ 2.16529067  1.9880354   0.91560788  9.96102651]\n",
      " [ 2.16529067  1.9880354   0.91560788  9.96102651]\n",
      " [ 2.40587852  1.9880354   0.91560788  9.96102651]\n",
      " ...\n",
      " [ 2.40587852  1.9880354   0.91560788 15.29463215]\n",
      " [ 2.40587852  1.9880354   0.91560788 15.29463215]\n",
      " [ 2.40587852  1.9880354   0.91560788 15.29463215]]\n",
      "[[ 2.64646637  1.9880354   0.91560788  9.96102651]\n",
      " [ 2.64646637  1.9880354   0.91560788  9.96102651]\n",
      " [ 2.40587852  2.16497055  0.91560788  9.96102651]\n",
      " ...\n",
      " [ 2.16529067  1.9880354   0.91560788 15.29463215]\n",
      " [ 2.40587852  1.9880354   0.91560788 15.29463215]\n",
      " [ 2.40587852  1.9880354   0.91560788 15.29463215]]\n",
      "[[ 2.40587852  1.9880354   0.91560788  9.96102651]\n",
      " [ 2.40587852  1.9880354   0.91560788  9.96102651]\n",
      " [ 2.40587852  1.9880354   0.91560788  9.96102651]\n",
      " ...\n",
      " [ 2.40587852  1.9880354   0.91560788 15.82896422]\n",
      " [ 2.40587852  1.9880354   0.91560788 16.01639571]\n",
      " [ 2.40587852  1.9880354   0.91560788 16.01639571]]\n",
      "[[ 2.40587852  1.9880354   0.91560788  9.96102651]\n",
      " [ 2.40587852  1.9880354   0.91560788  9.96102651]\n",
      " [ 2.16529067  1.9880354   0.91560788  9.96102651]\n",
      " ...\n",
      " [ 2.40587852  1.9880354   0.91560788 16.01639571]\n",
      " [ 2.40587852  1.9880354   0.91560788 16.01639571]\n",
      " [ 2.40587852  1.9880354   0.91560788 16.01639571]]\n",
      "[[ 2.40587852  1.9880354   0.91560788  9.96102651]\n",
      " [ 2.40587852  1.9880354   0.91560788  9.96102651]\n",
      " [ 2.16529067  1.9880354   0.91560788  9.96102651]\n",
      " ...\n",
      " [ 2.40587852  1.78923186  0.91560788 15.29463215]\n",
      " [ 2.40587852  1.9880354   0.91560788 15.29463215]\n",
      " [ 2.40587852  1.9880354   0.91560788 18.42181183]]\n",
      "[24.9531345   2.09223924  4.00640025]\n"
     ]
    }
   ],
   "source": [
    "individuos=np.random.randn(1000,3)\n",
    "Matriz=np.array([[3,8,2],[1,-2,4],[-5,3,11]])\n",
    "total=np.array([25,12,4])\n",
    "epocas=1000\n",
    "i=0\n",
    "s=0\n",
    "while i < epocas:\n",
    "    i=i+1\n",
    "    \n",
    "    ptemp=[]\n",
    "    fitness=fitnesst(individuos,Matriz,total)\n",
    "\n",
    "    indices=np.argsort(fitness)\n",
    "    ordenado=individuos[indices]\n",
    "    sas=cruce_mut(ordenado)\n",
    "    individuos=np.array(sas)\n",
    "    s=s+1\n",
    "    if s==100:\n",
    "        s=0\n",
    "        valores=np.expand_dims(fitness,axis=1)\n",
    "        muestra=np.concatenate((individuos,valores[indices]),axis=1) \n",
    "        print(muestra)\n",
    "    if i ==epocas:\n",
    "        eval=np.dot(Matriz,individuos[0])\n",
    "        print(eval)\n",
    "    \n"
   ]
  },
  {
   "cell_type": "code",
   "execution_count": 8,
   "metadata": {},
   "outputs": [],
   "source": [
    "\n",
    "def fitnesst(individuos,Matriz,total):\n",
    "    fitness=[]\n",
    "    for i in individuos:\n",
    "        eval=abs((np.dot(Matriz,i))-total).sum()\n",
    "        fitness.append(eval)\n",
    "    fitness=np.array(fitness)    \n",
    "    return fitness\n",
    "\n",
    "def cruce_mut(genotipos):\n",
    "    pobtemp=[]\n",
    "    for i in range(0,len(genotipos),2):\n",
    "        if len(pobtemp) == 0:\n",
    "            padre1=genotipos[0]\n",
    "            padre2=genotipos[1]\n",
    "        else:\n",
    "            elemento1=np.random.randint(0,len(genotipos))\n",
    "            elemento2=np.random.randint(0,len(genotipos))\n",
    "            padre1=genotipos[elemento1]\n",
    "            padre1=genotipos[elemento2]\n",
    "        \n",
    "            \n",
    "        tasacruce=np.random.randint(0,100)\n",
    "        if tasacruce <90:\n",
    "            gen=np.random.randint(0,2)\n",
    "            hijo1 = np.concatenate((padre1[:gen], padre2[gen:]))\n",
    "            hijo2 = np.concatenate((padre2[:gen], padre1[gen:]))\n",
    "            tasamut=np.random.randint(0,1000)\n",
    "            if tasamut>850:\n",
    "                hijo1[gen]=hijo1[gen]*1.10\n",
    "                hijo2[gen]=hijo2[gen]*1.10\n",
    "            elif tasamut<150:\n",
    "                hijo1[gen]=hijo1[gen]*0.90\n",
    "                hijo2[gen]=hijo2[gen]*0.90\n",
    "            else:\n",
    "                0\n",
    "        else:\n",
    "            hijo1=padre1\n",
    "            hijo2=padre2\n",
    "        pobtemp.append(hijo1)\n",
    "        pobtemp.append(hijo2)\n",
    "    return pobtemp\n",
    "        \n"
   ]
  },
  {
   "cell_type": "code",
   "execution_count": 15,
   "metadata": {},
   "outputs": [],
   "source": [
    "padre1=ordenado[0]\n",
    "padre2=ordenado[1]\n",
    "\n",
    "hijo1 = padre1[:2] + padre1[2:]\n",
    "hijo2 = padre2[:2] + padre2[2:]"
   ]
  },
  {
   "cell_type": "code",
   "execution_count": 17,
   "metadata": {},
   "outputs": [
    {
     "data": {
      "text/plain": [
       "array([-5.07864002])"
      ]
     },
     "execution_count": 17,
     "metadata": {},
     "output_type": "execute_result"
    }
   ],
   "source": [
    "padre2[2:]"
   ]
  }
 ],
 "metadata": {
  "kernelspec": {
   "display_name": "Python 3",
   "language": "python",
   "name": "python3"
  },
  "language_info": {
   "codemirror_mode": {
    "name": "ipython",
    "version": 3
   },
   "file_extension": ".py",
   "mimetype": "text/x-python",
   "name": "python",
   "nbconvert_exporter": "python",
   "pygments_lexer": "ipython3",
   "version": "3.9.13"
  },
  "orig_nbformat": 4,
  "vscode": {
   "interpreter": {
    "hash": "2469a70536e4d2335a2ea8907942d0699c37342a371ac185bdb5b0aa6f073890"
   }
  }
 },
 "nbformat": 4,
 "nbformat_minor": 2
}
