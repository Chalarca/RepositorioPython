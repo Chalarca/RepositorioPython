{
 "cells": [
  {
   "cell_type": "code",
   "execution_count": 2,
   "metadata": {},
   "outputs": [],
   "source": [
    "import numpy\n",
    "import pandas as pd\n",
    "import os\n",
    "import seaborn as sns\n",
    "import matplotlib.pyplot as plt\n",
    "import warnings\n",
    "warnings.filterwarnings(\"ignore\")"
   ]
  },
  {
   "cell_type": "code",
   "execution_count": 3,
   "metadata": {},
   "outputs": [],
   "source": [
    "pd.set_option('display.max_columns', 20)"
   ]
  },
  {
   "cell_type": "code",
   "execution_count": 4,
   "metadata": {},
   "outputs": [
    {
     "data": {
      "text/plain": [
       "(9976, 40)"
      ]
     },
     "execution_count": 4,
     "metadata": {},
     "output_type": "execute_result"
    }
   ],
   "source": [
    "data=pd.read_excel(\"./Data/Data DS Cotton Plus.xlsx\", sheet_name=\"BD\")\n",
    "data.shape"
   ]
  },
  {
   "cell_type": "code",
   "execution_count": 5,
   "metadata": {},
   "outputs": [],
   "source": [
    "data.drop([\"Cedula\",\"Tipo de Contacto\",\"Fecha Nacimiento\",\"Mes Nacimiento\",\"Dia Nacimiento\",\"Direccion Valido?\",\n",
    "            \"Telefono Movil\", \"TelefonoOficina\", \"Telefono Casa\", \"Mail\", \"Direccion\"], axis = 1, inplace = True)\n"
   ]
  },
  {
   "cell_type": "code",
   "execution_count": 6,
   "metadata": {},
   "outputs": [],
   "source": [
    "data.drop([\"Mail Valido?\",\"Tel Ofc Valid?\",\"Tel Casa Valido?\",\"Cel Valido?\",\"Estado Civil\"], axis=1, inplace= True)"
   ]
  },
  {
   "cell_type": "code",
   "execution_count": 7,
   "metadata": {},
   "outputs": [
    {
     "data": {
      "text/plain": [
       "Nombre Completo                                                     object\n",
       "Segmento                                                            object\n",
       "Compro 2019?                                                        object\n",
       "Compro 2020?                                                        object\n",
       "Monto Comprado 2019?                                                 int64\n",
       "Nro Transacciones 2019                                               int64\n",
       "Monto Comprado 2020                                                  int64\n",
       "Nro Transacciones 2020                                               int64\n",
       "Es Contactable                                                      object\n",
       "Ciudad de Residencia                                                object\n",
       "Genero                                                              object\n",
       "Edad                                                                 int64\n",
       "Monto Total de ultima compra                                         int64\n",
       "Cantidad Articulos                                                   int64\n",
       "Recencia (Tiempo transcurrido en semanas desde su ultima compra)     int64\n",
       "Frecuencia (Cantidad items comprados)                                int64\n",
       "Monto - MARCA COTTON- B/quilla.                                      int64\n",
       "Monto - Brand Store Cucuta                                           int64\n",
       "Monto - MARCA COTTON- Bucaramanga                                    int64\n",
       "Monto - MARCA COTTON- Manizales                                      int64\n",
       "Monto - MARCA COTTON- Pereira                                        int64\n",
       "Monto - MARCA COTTON- Cartagena                                      int64\n",
       "Monto - MARCA COTTON- Pasto                                          int64\n",
       "Monto - MARCA COTTON- Cable Plaza                                    int64\n",
       "dtype: object"
      ]
     },
     "execution_count": 7,
     "metadata": {},
     "output_type": "execute_result"
    }
   ],
   "source": [
    "data.dtypes"
   ]
  },
  {
   "cell_type": "code",
   "execution_count": 8,
   "metadata": {},
   "outputs": [
    {
     "data": {
      "text/html": [
       "<div>\n",
       "<style scoped>\n",
       "    .dataframe tbody tr th:only-of-type {\n",
       "        vertical-align: middle;\n",
       "    }\n",
       "\n",
       "    .dataframe tbody tr th {\n",
       "        vertical-align: top;\n",
       "    }\n",
       "\n",
       "    .dataframe thead th {\n",
       "        text-align: right;\n",
       "    }\n",
       "</style>\n",
       "<table border=\"1\" class=\"dataframe\">\n",
       "  <thead>\n",
       "    <tr style=\"text-align: right;\">\n",
       "      <th></th>\n",
       "      <th>Nombre Completo</th>\n",
       "      <th>Segmento</th>\n",
       "      <th>Compro 2019?</th>\n",
       "      <th>Compro 2020?</th>\n",
       "      <th>Es Contactable</th>\n",
       "      <th>Ciudad de Residencia</th>\n",
       "      <th>Genero</th>\n",
       "    </tr>\n",
       "  </thead>\n",
       "  <tbody>\n",
       "    <tr>\n",
       "      <th>0</th>\n",
       "      <td>Nombre Cliente 4866</td>\n",
       "      <td>Adictos</td>\n",
       "      <td>Si</td>\n",
       "      <td>Si</td>\n",
       "      <td>Si</td>\n",
       "      <td>BOGOTA</td>\n",
       "      <td>Mujer</td>\n",
       "    </tr>\n",
       "    <tr>\n",
       "      <th>1</th>\n",
       "      <td>Nombre Cliente 3636</td>\n",
       "      <td>Adictos</td>\n",
       "      <td>Si</td>\n",
       "      <td>No</td>\n",
       "      <td>Si</td>\n",
       "      <td>MEDELLIN</td>\n",
       "      <td>Mujer</td>\n",
       "    </tr>\n",
       "    <tr>\n",
       "      <th>2</th>\n",
       "      <td>Nombre Cliente 2941</td>\n",
       "      <td>Adictos</td>\n",
       "      <td>Si</td>\n",
       "      <td>Si</td>\n",
       "      <td>Si</td>\n",
       "      <td>MEDELLIN</td>\n",
       "      <td>Mujer</td>\n",
       "    </tr>\n",
       "    <tr>\n",
       "      <th>3</th>\n",
       "      <td>Nombre Cliente 4520</td>\n",
       "      <td>Adictos</td>\n",
       "      <td>Si</td>\n",
       "      <td>Si</td>\n",
       "      <td>Si</td>\n",
       "      <td>ENVIGADO</td>\n",
       "      <td>Mujer</td>\n",
       "    </tr>\n",
       "    <tr>\n",
       "      <th>4</th>\n",
       "      <td>Nombre Cliente 2740</td>\n",
       "      <td>Adictos</td>\n",
       "      <td>Si</td>\n",
       "      <td>Si</td>\n",
       "      <td>Si</td>\n",
       "      <td>CALI</td>\n",
       "      <td>Mujer</td>\n",
       "    </tr>\n",
       "  </tbody>\n",
       "</table>\n",
       "</div>"
      ],
      "text/plain": [
       "       Nombre Completo Segmento Compro 2019? Compro 2020? Es Contactable  \\\n",
       "0  Nombre Cliente 4866  Adictos           Si           Si             Si   \n",
       "1  Nombre Cliente 3636  Adictos           Si           No             Si   \n",
       "2  Nombre Cliente 2941  Adictos           Si           Si             Si   \n",
       "3  Nombre Cliente 4520  Adictos           Si           Si             Si   \n",
       "4  Nombre Cliente 2740  Adictos           Si           Si             Si   \n",
       "\n",
       "  Ciudad de Residencia Genero  \n",
       "0               BOGOTA  Mujer  \n",
       "1             MEDELLIN  Mujer  \n",
       "2             MEDELLIN  Mujer  \n",
       "3             ENVIGADO  Mujer  \n",
       "4                 CALI  Mujer  "
      ]
     },
     "execution_count": 8,
     "metadata": {},
     "output_type": "execute_result"
    }
   ],
   "source": [
    "\n",
    "dataobj=data.select_dtypes(include = [\"object\"]).copy()\n",
    "dataobj.head()\n"
   ]
  },
  {
   "cell_type": "code",
   "execution_count": 9,
   "metadata": {},
   "outputs": [],
   "source": [
    "datainfo=data.select_dtypes(include =[\"int64\"]).copy()\n"
   ]
  },
  {
   "cell_type": "code",
   "execution_count": 10,
   "metadata": {},
   "outputs": [
    {
     "data": {
      "text/html": [
       "<div>\n",
       "<style scoped>\n",
       "    .dataframe tbody tr th:only-of-type {\n",
       "        vertical-align: middle;\n",
       "    }\n",
       "\n",
       "    .dataframe tbody tr th {\n",
       "        vertical-align: top;\n",
       "    }\n",
       "\n",
       "    .dataframe thead th {\n",
       "        text-align: right;\n",
       "    }\n",
       "</style>\n",
       "<table border=\"1\" class=\"dataframe\">\n",
       "  <thead>\n",
       "    <tr style=\"text-align: right;\">\n",
       "      <th></th>\n",
       "      <th>count</th>\n",
       "      <th>mean</th>\n",
       "      <th>std</th>\n",
       "      <th>min</th>\n",
       "      <th>25%</th>\n",
       "      <th>50%</th>\n",
       "      <th>75%</th>\n",
       "      <th>max</th>\n",
       "    </tr>\n",
       "  </thead>\n",
       "  <tbody>\n",
       "    <tr>\n",
       "      <th>Monto Comprado 2019?</th>\n",
       "      <td>9976.0</td>\n",
       "      <td>243866.951784</td>\n",
       "      <td>456434.639083</td>\n",
       "      <td>0.0</td>\n",
       "      <td>0.0</td>\n",
       "      <td>113485.0</td>\n",
       "      <td>288625.0</td>\n",
       "      <td>9231860.0</td>\n",
       "    </tr>\n",
       "    <tr>\n",
       "      <th>Nro Transacciones 2019</th>\n",
       "      <td>9976.0</td>\n",
       "      <td>2.462711</td>\n",
       "      <td>4.698831</td>\n",
       "      <td>0.0</td>\n",
       "      <td>0.0</td>\n",
       "      <td>1.0</td>\n",
       "      <td>3.0</td>\n",
       "      <td>92.0</td>\n",
       "    </tr>\n",
       "    <tr>\n",
       "      <th>Monto Comprado 2020</th>\n",
       "      <td>9976.0</td>\n",
       "      <td>25067.011628</td>\n",
       "      <td>132247.695598</td>\n",
       "      <td>0.0</td>\n",
       "      <td>0.0</td>\n",
       "      <td>0.0</td>\n",
       "      <td>0.0</td>\n",
       "      <td>6448400.0</td>\n",
       "    </tr>\n",
       "    <tr>\n",
       "      <th>Nro Transacciones 2020</th>\n",
       "      <td>9976.0</td>\n",
       "      <td>0.263532</td>\n",
       "      <td>1.287152</td>\n",
       "      <td>0.0</td>\n",
       "      <td>0.0</td>\n",
       "      <td>0.0</td>\n",
       "      <td>0.0</td>\n",
       "      <td>60.0</td>\n",
       "    </tr>\n",
       "    <tr>\n",
       "      <th>Edad</th>\n",
       "      <td>9976.0</td>\n",
       "      <td>40.361868</td>\n",
       "      <td>26.029822</td>\n",
       "      <td>10.0</td>\n",
       "      <td>25.0</td>\n",
       "      <td>31.0</td>\n",
       "      <td>44.0</td>\n",
       "      <td>111.0</td>\n",
       "    </tr>\n",
       "    <tr>\n",
       "      <th>Monto Total de ultima compra</th>\n",
       "      <td>9976.0</td>\n",
       "      <td>590206.416500</td>\n",
       "      <td>957754.256892</td>\n",
       "      <td>1900.0</td>\n",
       "      <td>154800.0</td>\n",
       "      <td>303700.0</td>\n",
       "      <td>652525.0</td>\n",
       "      <td>31004180.0</td>\n",
       "    </tr>\n",
       "    <tr>\n",
       "      <th>Cantidad Articulos</th>\n",
       "      <td>9976.0</td>\n",
       "      <td>11.969326</td>\n",
       "      <td>36.553076</td>\n",
       "      <td>1.0</td>\n",
       "      <td>1.0</td>\n",
       "      <td>4.0</td>\n",
       "      <td>10.0</td>\n",
       "      <td>2179.0</td>\n",
       "    </tr>\n",
       "    <tr>\n",
       "      <th>Recencia (Tiempo transcurrido en semanas desde su ultima compra)</th>\n",
       "      <td>9976.0</td>\n",
       "      <td>10.423817</td>\n",
       "      <td>7.298794</td>\n",
       "      <td>0.0</td>\n",
       "      <td>4.0</td>\n",
       "      <td>12.0</td>\n",
       "      <td>14.0</td>\n",
       "      <td>48.0</td>\n",
       "    </tr>\n",
       "    <tr>\n",
       "      <th>Frecuencia (Cantidad items comprados)</th>\n",
       "      <td>9976.0</td>\n",
       "      <td>5.775160</td>\n",
       "      <td>9.595314</td>\n",
       "      <td>1.0</td>\n",
       "      <td>1.0</td>\n",
       "      <td>3.0</td>\n",
       "      <td>6.0</td>\n",
       "      <td>301.0</td>\n",
       "    </tr>\n",
       "    <tr>\n",
       "      <th>Monto - MARCA COTTON- B/quilla.</th>\n",
       "      <td>9976.0</td>\n",
       "      <td>28802.528067</td>\n",
       "      <td>229728.153523</td>\n",
       "      <td>0.0</td>\n",
       "      <td>0.0</td>\n",
       "      <td>0.0</td>\n",
       "      <td>0.0</td>\n",
       "      <td>6928460.0</td>\n",
       "    </tr>\n",
       "    <tr>\n",
       "      <th>Monto - Brand Store Cucuta</th>\n",
       "      <td>9976.0</td>\n",
       "      <td>0.000000</td>\n",
       "      <td>0.000000</td>\n",
       "      <td>0.0</td>\n",
       "      <td>0.0</td>\n",
       "      <td>0.0</td>\n",
       "      <td>0.0</td>\n",
       "      <td>0.0</td>\n",
       "    </tr>\n",
       "    <tr>\n",
       "      <th>Monto - MARCA COTTON- Bucaramanga</th>\n",
       "      <td>9976.0</td>\n",
       "      <td>10751.661989</td>\n",
       "      <td>88086.978485</td>\n",
       "      <td>0.0</td>\n",
       "      <td>0.0</td>\n",
       "      <td>0.0</td>\n",
       "      <td>0.0</td>\n",
       "      <td>3513565.0</td>\n",
       "    </tr>\n",
       "    <tr>\n",
       "      <th>Monto - MARCA COTTON- Manizales</th>\n",
       "      <td>9976.0</td>\n",
       "      <td>40820.228549</td>\n",
       "      <td>186231.920729</td>\n",
       "      <td>0.0</td>\n",
       "      <td>0.0</td>\n",
       "      <td>0.0</td>\n",
       "      <td>0.0</td>\n",
       "      <td>4900940.0</td>\n",
       "    </tr>\n",
       "    <tr>\n",
       "      <th>Monto - MARCA COTTON- Pereira</th>\n",
       "      <td>9976.0</td>\n",
       "      <td>29647.312049</td>\n",
       "      <td>248932.881626</td>\n",
       "      <td>0.0</td>\n",
       "      <td>0.0</td>\n",
       "      <td>0.0</td>\n",
       "      <td>0.0</td>\n",
       "      <td>8752705.0</td>\n",
       "    </tr>\n",
       "    <tr>\n",
       "      <th>Monto - MARCA COTTON- Cartagena</th>\n",
       "      <td>9976.0</td>\n",
       "      <td>26573.502606</td>\n",
       "      <td>373547.495203</td>\n",
       "      <td>0.0</td>\n",
       "      <td>0.0</td>\n",
       "      <td>0.0</td>\n",
       "      <td>0.0</td>\n",
       "      <td>31004180.0</td>\n",
       "    </tr>\n",
       "    <tr>\n",
       "      <th>Monto - MARCA COTTON- Pasto</th>\n",
       "      <td>9976.0</td>\n",
       "      <td>10075.486868</td>\n",
       "      <td>110133.314109</td>\n",
       "      <td>0.0</td>\n",
       "      <td>0.0</td>\n",
       "      <td>0.0</td>\n",
       "      <td>0.0</td>\n",
       "      <td>6119336.0</td>\n",
       "    </tr>\n",
       "    <tr>\n",
       "      <th>Monto - MARCA COTTON- Cable Plaza</th>\n",
       "      <td>9976.0</td>\n",
       "      <td>44148.074379</td>\n",
       "      <td>244396.228732</td>\n",
       "      <td>0.0</td>\n",
       "      <td>0.0</td>\n",
       "      <td>0.0</td>\n",
       "      <td>0.0</td>\n",
       "      <td>7644480.0</td>\n",
       "    </tr>\n",
       "  </tbody>\n",
       "</table>\n",
       "</div>"
      ],
      "text/plain": [
       "                                                     count           mean  \\\n",
       "Monto Comprado 2019?                                9976.0  243866.951784   \n",
       "Nro Transacciones 2019                              9976.0       2.462711   \n",
       "Monto Comprado 2020                                 9976.0   25067.011628   \n",
       "Nro Transacciones 2020                              9976.0       0.263532   \n",
       "Edad                                                9976.0      40.361868   \n",
       "Monto Total de ultima compra                        9976.0  590206.416500   \n",
       "Cantidad Articulos                                  9976.0      11.969326   \n",
       "Recencia (Tiempo transcurrido en semanas desde ...  9976.0      10.423817   \n",
       "Frecuencia (Cantidad items comprados)               9976.0       5.775160   \n",
       "Monto - MARCA COTTON- B/quilla.                     9976.0   28802.528067   \n",
       "Monto - Brand Store Cucuta                          9976.0       0.000000   \n",
       "Monto - MARCA COTTON- Bucaramanga                   9976.0   10751.661989   \n",
       "Monto - MARCA COTTON- Manizales                     9976.0   40820.228549   \n",
       "Monto - MARCA COTTON- Pereira                       9976.0   29647.312049   \n",
       "Monto - MARCA COTTON- Cartagena                     9976.0   26573.502606   \n",
       "Monto - MARCA COTTON- Pasto                         9976.0   10075.486868   \n",
       "Monto - MARCA COTTON- Cable Plaza                   9976.0   44148.074379   \n",
       "\n",
       "                                                              std     min  \\\n",
       "Monto Comprado 2019?                                456434.639083     0.0   \n",
       "Nro Transacciones 2019                                   4.698831     0.0   \n",
       "Monto Comprado 2020                                 132247.695598     0.0   \n",
       "Nro Transacciones 2020                                   1.287152     0.0   \n",
       "Edad                                                    26.029822    10.0   \n",
       "Monto Total de ultima compra                        957754.256892  1900.0   \n",
       "Cantidad Articulos                                      36.553076     1.0   \n",
       "Recencia (Tiempo transcurrido en semanas desde ...       7.298794     0.0   \n",
       "Frecuencia (Cantidad items comprados)                    9.595314     1.0   \n",
       "Monto - MARCA COTTON- B/quilla.                     229728.153523     0.0   \n",
       "Monto - Brand Store Cucuta                               0.000000     0.0   \n",
       "Monto - MARCA COTTON- Bucaramanga                    88086.978485     0.0   \n",
       "Monto - MARCA COTTON- Manizales                     186231.920729     0.0   \n",
       "Monto - MARCA COTTON- Pereira                       248932.881626     0.0   \n",
       "Monto - MARCA COTTON- Cartagena                     373547.495203     0.0   \n",
       "Monto - MARCA COTTON- Pasto                         110133.314109     0.0   \n",
       "Monto - MARCA COTTON- Cable Plaza                   244396.228732     0.0   \n",
       "\n",
       "                                                         25%       50%  \\\n",
       "Monto Comprado 2019?                                     0.0  113485.0   \n",
       "Nro Transacciones 2019                                   0.0       1.0   \n",
       "Monto Comprado 2020                                      0.0       0.0   \n",
       "Nro Transacciones 2020                                   0.0       0.0   \n",
       "Edad                                                    25.0      31.0   \n",
       "Monto Total de ultima compra                        154800.0  303700.0   \n",
       "Cantidad Articulos                                       1.0       4.0   \n",
       "Recencia (Tiempo transcurrido en semanas desde ...       4.0      12.0   \n",
       "Frecuencia (Cantidad items comprados)                    1.0       3.0   \n",
       "Monto - MARCA COTTON- B/quilla.                          0.0       0.0   \n",
       "Monto - Brand Store Cucuta                               0.0       0.0   \n",
       "Monto - MARCA COTTON- Bucaramanga                        0.0       0.0   \n",
       "Monto - MARCA COTTON- Manizales                          0.0       0.0   \n",
       "Monto - MARCA COTTON- Pereira                            0.0       0.0   \n",
       "Monto - MARCA COTTON- Cartagena                          0.0       0.0   \n",
       "Monto - MARCA COTTON- Pasto                              0.0       0.0   \n",
       "Monto - MARCA COTTON- Cable Plaza                        0.0       0.0   \n",
       "\n",
       "                                                         75%         max  \n",
       "Monto Comprado 2019?                                288625.0   9231860.0  \n",
       "Nro Transacciones 2019                                   3.0        92.0  \n",
       "Monto Comprado 2020                                      0.0   6448400.0  \n",
       "Nro Transacciones 2020                                   0.0        60.0  \n",
       "Edad                                                    44.0       111.0  \n",
       "Monto Total de ultima compra                        652525.0  31004180.0  \n",
       "Cantidad Articulos                                      10.0      2179.0  \n",
       "Recencia (Tiempo transcurrido en semanas desde ...      14.0        48.0  \n",
       "Frecuencia (Cantidad items comprados)                    6.0       301.0  \n",
       "Monto - MARCA COTTON- B/quilla.                          0.0   6928460.0  \n",
       "Monto - Brand Store Cucuta                               0.0         0.0  \n",
       "Monto - MARCA COTTON- Bucaramanga                        0.0   3513565.0  \n",
       "Monto - MARCA COTTON- Manizales                          0.0   4900940.0  \n",
       "Monto - MARCA COTTON- Pereira                            0.0   8752705.0  \n",
       "Monto - MARCA COTTON- Cartagena                          0.0  31004180.0  \n",
       "Monto - MARCA COTTON- Pasto                              0.0   6119336.0  \n",
       "Monto - MARCA COTTON- Cable Plaza                        0.0   7644480.0  "
      ]
     },
     "execution_count": 10,
     "metadata": {},
     "output_type": "execute_result"
    }
   ],
   "source": [
    "datainfo.describe().T"
   ]
  },
  {
   "cell_type": "code",
   "execution_count": 11,
   "metadata": {},
   "outputs": [
    {
     "name": "stdout",
     "output_type": "stream",
     "text": [
      "<class 'pandas.core.frame.DataFrame'>\n",
      "RangeIndex: 9976 entries, 0 to 9975\n",
      "Data columns (total 7 columns):\n",
      " #   Column                Non-Null Count  Dtype \n",
      "---  ------                --------------  ----- \n",
      " 0   Nombre Completo       9976 non-null   object\n",
      " 1   Segmento              9976 non-null   object\n",
      " 2   Compro 2019?          9976 non-null   object\n",
      " 3   Compro 2020?          9976 non-null   object\n",
      " 4   Es Contactable        9976 non-null   object\n",
      " 5   Ciudad de Residencia  9976 non-null   object\n",
      " 6   Genero                9976 non-null   object\n",
      "dtypes: object(7)\n",
      "memory usage: 545.7+ KB\n"
     ]
    }
   ],
   "source": [
    "dataobj.info()"
   ]
  },
  {
   "cell_type": "code",
   "execution_count": 12,
   "metadata": {},
   "outputs": [
    {
     "data": {
      "text/plain": [
       "Aficionados    6845\n",
       "Esporádicos    2495\n",
       "Inactivo        296\n",
       "Adictos         181\n",
       "Curiosos        159\n",
       "Name: Segmento, dtype: int64"
      ]
     },
     "execution_count": 12,
     "metadata": {},
     "output_type": "execute_result"
    }
   ],
   "source": [
    "dataobj[\"Segmento\"].value_counts()\n"
   ]
  },
  {
   "cell_type": "code",
   "execution_count": 13,
   "metadata": {},
   "outputs": [],
   "source": [
    "def hist_boxplot(label = pd.Series):\n",
    "\n",
    "    fig, axs = plt.subplots(2, 1, figsize = (7, 9))\n",
    "\n",
    "    axs[0].hist(label, bins = 100)\n",
    "    axs[0].set_ylabel(\"Cantidad\")\n",
    "    axs[0].axvline(label.mean(), color = \"magenta\", linestyle = \"dashed\", linewidth = 1.5)\n",
    "    axs[0].axvline(label.median(), color = \"cyan\", linestyle = \"dashed\", linewidth = 1.5)\n",
    "\n",
    "    axs[1].boxplot(label, vert = False)\n",
    "    axs[1].set_xlabel(feature)\n",
    "\n",
    "    fig.suptitle(feature)"
   ]
  },
  {
   "cell_type": "markdown",
   "metadata": {},
   "source": [
    "Para encontrar los valores Atipicos en las Columnas de interes, usamos diagramas de Cajas y Bigotes la cual nos mostrara los valores que se encuntras demaciado lejos de la media.\n"
   ]
  },
  {
   "cell_type": "code",
   "execution_count": 14,
   "metadata": {},
   "outputs": [],
   "source": [
    "list_feutures = [\"Monto Comprado 2019?\", \"Nro Transacciones 2019\", \"Monto Comprado 2020\", \"Nro Transacciones 2020\", \"Edad\",\n",
    "\"Monto Total de ultima compra\",\"Cantidad Articulos\",\"Recencia (Tiempo transcurrido en semanas desde su ultima compra)\",\n",
    "\"Frecuencia (Cantidad items comprados)\"]\n",
    "\n",
    "\n",
    "\n",
    "data2=datainfo.copy()\n",
    "\n"
   ]
  },
  {
   "cell_type": "code",
   "execution_count": 15,
   "metadata": {},
   "outputs": [
    {
     "data": {
      "image/png": "[encoded data removed]",
      "text/plain": [
       "<Figure size 504x648 with 2 Axes>"
      ]
     },
     "metadata": {
      "needs_background": "light"
     },
     "output_type": "display_data"
    },
    {
     "data": {
      "image/png": "[encoded data removed]",
      "text/plain": [
       "<Figure size 504x648 with 2 Axes>"
      ]
     },
     "metadata": {
      "needs_background": "light"
     },
     "output_type": "display_data"
    },
    {
     "data": {
      "image/png": "[encoded data removed]",
      "text/plain": [
       "<Figure size 504x648 with 2 Axes>"
      ]
     },
     "metadata": {
      "needs_background": "light"
     },
     "output_type": "display_data"
    },
    {
     "data": {
      "image/png": "[encoded data removed]",
      "text/plain": [
       "<Figure size 504x648 with 2 Axes>"
      ]
     },
     "metadata": {
      "needs_background": "light"
     },
     "output_type": "display_data"
    },
    {
     "data": {
      "image/png": "[encoded data removed]",
      "text/plain": [
       "<Figure size 504x648 with 2 Axes>"
      ]
     },
     "metadata": {
      "needs_background": "light"
     },
     "output_type": "display_data"
    },
    {
     "data": {
      "image/png": "[encoded data removed]",
      "text/plain": [
       "<Figure size 504x648 with 2 Axes>"
      ]
     },
     "metadata": {
      "needs_background": "light"
     },
     "output_type": "display_data"
    },
    {
     "data": {
      "image/png": "[encoded data removed]",
      "text/plain": [
       "<Figure size 504x648 with 2 Axes>"
      ]
     },
     "metadata": {
      "needs_background": "light"
     },
     "output_type": "display_data"
    },
    {
     "data": {
      "image/png": "[encoded data removed]",
      "text/plain": [
       "<Figure size 504x648 with 2 Axes>"
      ]
     },
     "metadata": {
      "needs_background": "light"
     },
     "output_type": "display_data"
    },
    {
     "data": {
      "image/png": "[encoded data removed]",
      "text/plain": [
       "<Figure size 504x648 with 2 Axes>"
      ]
     },
     "metadata": {
      "needs_background": "light"
     },
     "output_type": "display_data"
    }
   ],
   "source": [
    "\n",
    "\n",
    "for feature in list_feutures:\n",
    "    \n",
    "    hist_boxplot(label = data2[feature])\n",
    "    "
   ]
  },
  {
   "cell_type": "markdown",
   "metadata": {},
   "source": [
    "Se observa por lo anterior que por lo general los usuarios solo van a mirar algunos articulos sin hacer realmente una compra, por ello la mayoria de las graficas muestra grandes picos en Cero.\n",
    "\n",
    "Podemos tener una exepcion en cuanto a los diagramas de la edad los cuales tienen una tendencia mas distribuida, teniendo unos valores atipicos de personas con mas de 100 años las cuales seguramente fueron clientes primerizos que no eliminaron de la tabla."
   ]
  },
  {
   "cell_type": "markdown",
   "metadata": {},
   "source": [
    "Para Saber si hay campos repetidos solo debemos revisar si algun numero de identificacion esta repetido almenos 1 vez"
   ]
  },
  {
   "cell_type": "code",
   "execution_count": 16,
   "metadata": {},
   "outputs": [],
   "source": [
    "\n",
    "data3=pd.read_excel(\"./Data/Data DS Cotton Plus.xlsx\", sheet_name=\"BD\")\n",
    "data.shape\n",
    "\n",
    "lista1=data3[\"Cedula\"].value_counts()\n",
    "n=0\n",
    "for num in lista1:\n",
    "    n=n+1\n",
    "    if num>=2:\n",
    "        print(lista1[n])\n"
   ]
  },
  {
   "cell_type": "code",
   "execution_count": 17,
   "metadata": {},
   "outputs": [],
   "source": [
    "lista2=dict(lista1)\n",
    "for key in lista2:\n",
    "    if lista2[key] >=2:\n",
    "        print(key)"
   ]
  },
  {
   "cell_type": "markdown",
   "metadata": {},
   "source": [
    "Como no se imprime nada, podemos dar por echo de que no existen filas duplicadas"
   ]
  },
  {
   "cell_type": "markdown",
   "metadata": {},
   "source": [
    "Ahora encontramos los valores nulos"
   ]
  },
  {
   "cell_type": "code",
   "execution_count": 18,
   "metadata": {},
   "outputs": [
    {
     "data": {
      "text/plain": [
       "Index(['Cedula', 'Nombre Completo', 'Segmento', 'Compro 2019?', 'Compro 2020?',\n",
       "       'Monto Comprado 2019?', 'Nro Transacciones 2019', 'Monto Comprado 2020',\n",
       "       'Nro Transacciones 2020', 'Tipo de Contacto', 'Es Contactable',\n",
       "       'Ciudad de Residencia', 'Mail', 'Direccion', 'Genero', 'Estado Civil',\n",
       "       'Fecha Nacimiento', 'Mes Nacimiento', 'Dia Nacimiento', 'Edad',\n",
       "       'Monto Total de ultima compra', 'Cantidad Articulos',\n",
       "       'Recencia (Tiempo transcurrido en semanas desde su ultima compra)',\n",
       "       'Frecuencia (Cantidad items comprados)', 'Direccion Valido?',\n",
       "       'Mail Valido?', 'Cel Valido?', 'Tel Ofc Valid?', 'Tel Casa Valido?',\n",
       "       'Telefono Movil', 'TelefonoOficina', 'Telefono Casa',\n",
       "       'Monto - MARCA COTTON- B/quilla.', 'Monto - Brand Store Cucuta',\n",
       "       'Monto - MARCA COTTON- Bucaramanga', 'Monto - MARCA COTTON- Manizales',\n",
       "       'Monto - MARCA COTTON- Pereira', 'Monto - MARCA COTTON- Cartagena',\n",
       "       'Monto - MARCA COTTON- Pasto', 'Monto - MARCA COTTON- Cable Plaza'],\n",
       "      dtype='object')"
      ]
     },
     "execution_count": 18,
     "metadata": {},
     "output_type": "execute_result"
    }
   ],
   "source": [
    "data3.columns"
   ]
  },
  {
   "cell_type": "code",
   "execution_count": 19,
   "metadata": {},
   "outputs": [
    {
     "name": "stdout",
     "output_type": "stream",
     "text": [
      " Mail tiene nulos\n",
      " Direccion tiene nulos\n",
      " Telefono Movil tiene nulos\n",
      " TelefonoOficina tiene nulos\n",
      " Telefono Casa tiene nulos\n"
     ]
    },
    {
     "data": {
      "text/plain": [
       "['Mail', 'Direccion', 'Telefono Movil', 'TelefonoOficina', 'Telefono Casa']"
      ]
     },
     "execution_count": 19,
     "metadata": {},
     "output_type": "execute_result"
    }
   ],
   "source": [
    "columnas=['Cedula', 'Nombre Completo', 'Segmento', 'Compro 2019?', 'Compro 2020?',\n",
    "       'Monto Comprado 2019?', 'Nro Transacciones 2019', 'Monto Comprado 2020',\n",
    "       'Nro Transacciones 2020', 'Tipo de Contacto', 'Es Contactable',\n",
    "       'Ciudad de Residencia', 'Mail', 'Direccion', 'Genero', 'Estado Civil',\n",
    "       'Fecha Nacimiento', 'Mes Nacimiento', 'Dia Nacimiento', 'Edad',\n",
    "       'Monto Total de ultima compra', 'Cantidad Articulos',\n",
    "       'Recencia (Tiempo transcurrido en semanas desde su ultima compra)',\n",
    "       'Frecuencia (Cantidad items comprados)', 'Direccion Valido?',\n",
    "       'Mail Valido?', 'Cel Valido?', 'Tel Ofc Valid?', 'Tel Casa Valido?',\n",
    "       'Telefono Movil', 'TelefonoOficina', 'Telefono Casa',\n",
    "       'Monto - MARCA COTTON- B/quilla.', 'Monto - Brand Store Cucuta',\n",
    "       'Monto - MARCA COTTON- Bucaramanga', 'Monto - MARCA COTTON- Manizales',\n",
    "       'Monto - MARCA COTTON- Pereira', 'Monto - MARCA COTTON- Cartagena',\n",
    "       'Monto - MARCA COTTON- Pasto', 'Monto - MARCA COTTON- Cable Plaza']\n",
    "colnulas = []\n",
    "\n",
    "for col in columnas:\n",
    "\n",
    "    if data3[col].hasnans:\n",
    "       colnulas.append(col)\n",
    "       print(f\"\", col, \"tiene nulos\")\n",
    "\n",
    "colnulas"
   ]
  },
  {
   "cell_type": "code",
   "execution_count": 20,
   "metadata": {},
   "outputs": [
    {
     "name": "stdout",
     "output_type": "stream",
     "text": [
      "Mail\n",
      "contiene  9976 nulos\n",
      "Direccion\n",
      "contiene  9976 nulos\n",
      "Telefono Movil\n",
      "contiene  9976 nulos\n",
      "TelefonoOficina\n",
      "contiene  9976 nulos\n",
      "Telefono Casa\n",
      "contiene  9976 nulos\n"
     ]
    }
   ],
   "source": [
    "for col in colnulas:\n",
    "    print(col)\n",
    "    print(f\"contiene \", data3[col].isnull().sum(), \"nulos\")\n",
    "\n",
    "    "
   ]
  },
  {
   "cell_type": "markdown",
   "metadata": {},
   "source": [
    "Por lo anterior, entendemos que solo las casillas que requieren datos personales son completamente nulas"
   ]
  }
 ],
 "metadata": {
  "interpreter": {
   "hash": "4ce0e62306dd6a5716965d4519ada776f947e6dfc145b604b11307c10277ef29"
  },
  "kernelspec": {
   "display_name": "Python 3.9.0 64-bit",
   "language": "python",
   "name": "python3"
  },
  "language_info": {
   "codemirror_mode": {
    "name": "ipython",
    "version": 3
   },
   "file_extension": ".py",
   "mimetype": "text/x-python",
   "name": "python",
   "nbconvert_exporter": "python",
   "pygments_lexer": "ipython3",
   "version": "3.9.0"
  },
  "orig_nbformat": 4
 },
 "nbformat": 4,
 "nbformat_minor": 2
}
