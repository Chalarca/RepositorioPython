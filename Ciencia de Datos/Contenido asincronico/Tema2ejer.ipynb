{
 "cells": [
  {
   "cell_type": "code",
   "execution_count": 2,
   "metadata": {},
   "outputs": [],
   "source": [
    "import numpy\n",
    "import pandas as pd\n",
    "import os\n",
    "import seaborn as sns\n",
    "import matplotlib.pyplot as plt\n",
    "import warnings\n",
    "warnings.filterwarnings(\"ignore\")"
   ]
  },
  {
   "cell_type": "code",
   "execution_count": 3,
   "metadata": {},
   "outputs": [],
   "source": [
    "pd.set_option('display.max_columns', 20)"
   ]
  },
  {
   "cell_type": "code",
   "execution_count": 4,
   "metadata": {},
   "outputs": [
    {
     "data": {
      "text/plain": [
       "(9976, 40)"
      ]
     },
     "execution_count": 4,
     "metadata": {},
     "output_type": "execute_result"
    }
   ],
   "source": [
    "data=pd.read_excel(\"./Data/Data DS Cotton Plus.xlsx\", sheet_name=\"BD\")\n",
    "data.shape"
   ]
  },
  {
   "cell_type": "code",
   "execution_count": 5,
   "metadata": {},
   "outputs": [],
   "source": [
    "data.drop([\"Cedula\",\"Tipo de Contacto\",\"Fecha Nacimiento\",\"Mes Nacimiento\",\"Dia Nacimiento\",\"Direccion Valido?\",\n",
    "            \"Telefono Movil\", \"TelefonoOficina\", \"Telefono Casa\", \"Mail\", \"Direccion\"], axis = 1, inplace = True)\n"
   ]
  },
  {
   "cell_type": "code",
   "execution_count": 6,
   "metadata": {},
   "outputs": [],
   "source": [
    "data.drop([\"Mail Valido?\",\"Tel Ofc Valid?\",\"Tel Casa Valido?\",\"Cel Valido?\",\"Estado Civil\"], axis=1, inplace= True)"
   ]
  },
  {
   "cell_type": "code",
   "execution_count": 7,
   "metadata": {},
   "outputs": [
    {
     "data": {
      "text/plain": [
       "Nombre Completo                                                     object\n",
       "Segmento                                                            object\n",
       "Compro 2019?                                                        object\n",
       "Compro 2020?                                                        object\n",
       "Monto Comprado 2019?                                                 int64\n",
       "Nro Transacciones 2019                                               int64\n",
       "Monto Comprado 2020                                                  int64\n",
       "Nro Transacciones 2020                                               int64\n",
       "Es Contactable                                                      object\n",
       "Ciudad de Residencia                                                object\n",
       "Genero                                                              object\n",
       "Edad                                                                 int64\n",
       "Monto Total de ultima compra                                         int64\n",
       "Cantidad Articulos                                                   int64\n",
       "Recencia (Tiempo transcurrido en semanas desde su ultima compra)     int64\n",
       "Frecuencia (Cantidad items comprados)                                int64\n",
       "Monto - MARCA COTTON- B/quilla.                                      int64\n",
       "Monto - Brand Store Cucuta                                           int64\n",
       "Monto - MARCA COTTON- Bucaramanga                                    int64\n",
       "Monto - MARCA COTTON- Manizales                                      int64\n",
       "Monto - MARCA COTTON- Pereira                                        int64\n",
       "Monto - MARCA COTTON- Cartagena                                      int64\n",
       "Monto - MARCA COTTON- Pasto                                          int64\n",
       "Monto - MARCA COTTON- Cable Plaza                                    int64\n",
       "dtype: object"
      ]
     },
     "execution_count": 7,
     "metadata": {},
     "output_type": "execute_result"
    }
   ],
   "source": [
    "data.dtypes"
   ]
  },
  {
   "cell_type": "code",
   "execution_count": 8,
   "metadata": {},
   "outputs": [
    {
     "data": {
      "text/html": [
       "<div>\n",
       "<style scoped>\n",
       "    .dataframe tbody tr th:only-of-type {\n",
       "        vertical-align: middle;\n",
       "    }\n",
       "\n",
       "    .dataframe tbody tr th {\n",
       "        vertical-align: top;\n",
       "    }\n",
       "\n",
       "    .dataframe thead th {\n",
       "        text-align: right;\n",
       "    }\n",
       "</style>\n",
       "<table border=\"1\" class=\"dataframe\">\n",
       "  <thead>\n",
       "    <tr style=\"text-align: right;\">\n",
       "      <th></th>\n",
       "      <th>Nombre Completo</th>\n",
       "      <th>Segmento</th>\n",
       "      <th>Compro 2019?</th>\n",
       "      <th>Compro 2020?</th>\n",
       "      <th>Es Contactable</th>\n",
       "      <th>Ciudad de Residencia</th>\n",
       "      <th>Genero</th>\n",
       "    </tr>\n",
       "  </thead>\n",
       "  <tbody>\n",
       "    <tr>\n",
       "      <th>0</th>\n",
       "      <td>Nombre Cliente 4866</td>\n",
       "      <td>Adictos</td>\n",
       "      <td>Si</td>\n",
       "      <td>Si</td>\n",
       "      <td>Si</td>\n",
       "      <td>BOGOTA</td>\n",
       "      <td>Mujer</td>\n",
       "    </tr>\n",
       "    <tr>\n",
       "      <th>1</th>\n",
       "      <td>Nombre Cliente 3636</td>\n",
       "      <td>Adictos</td>\n",
       "      <td>Si</td>\n",
       "      <td>No</td>\n",
       "      <td>Si</td>\n",
       "      <td>MEDELLIN</td>\n",
       "      <td>Mujer</td>\n",
       "    </tr>\n",
       "    <tr>\n",
       "      <th>2</th>\n",
       "      <td>Nombre Cliente 2941</td>\n",
       "      <td>Adictos</td>\n",
       "      <td>Si</td>\n",
       "      <td>Si</td>\n",
       "      <td>Si</td>\n",
       "      <td>MEDELLIN</td>\n",
       "      <td>Mujer</td>\n",
       "    </tr>\n",
       "    <tr>\n",
       "      <th>3</th>\n",
       "      <td>Nombre Cliente 4520</td>\n",
       "      <td>Adictos</td>\n",
       "      <td>Si</td>\n",
       "      <td>Si</td>\n",
       "      <td>Si</td>\n",
       "      <td>ENVIGADO</td>\n",
       "      <td>Mujer</td>\n",
       "    </tr>\n",
       "    <tr>\n",
       "      <th>4</th>\n",
       "      <td>Nombre Cliente 2740</td>\n",
       "      <td>Adictos</td>\n",
       "      <td>Si</td>\n",
       "      <td>Si</td>\n",
       "      <td>Si</td>\n",
       "      <td>CALI</td>\n",
       "      <td>Mujer</td>\n",
       "    </tr>\n",
       "  </tbody>\n",
       "</table>\n",
       "</div>"
      ],
      "text/plain": [
       "       Nombre Completo Segmento Compro 2019? Compro 2020? Es Contactable  \\\n",
       "0  Nombre Cliente 4866  Adictos           Si           Si             Si   \n",
       "1  Nombre Cliente 3636  Adictos           Si           No             Si   \n",
       "2  Nombre Cliente 2941  Adictos           Si           Si             Si   \n",
       "3  Nombre Cliente 4520  Adictos           Si           Si             Si   \n",
       "4  Nombre Cliente 2740  Adictos           Si           Si             Si   \n",
       "\n",
       "  Ciudad de Residencia Genero  \n",
       "0               BOGOTA  Mujer  \n",
       "1             MEDELLIN  Mujer  \n",
       "2             MEDELLIN  Mujer  \n",
       "3             ENVIGADO  Mujer  \n",
       "4                 CALI  Mujer  "
      ]
     },
     "execution_count": 8,
     "metadata": {},
     "output_type": "execute_result"
    }
   ],
   "source": [
    "\n",
    "dataobj=data.select_dtypes(include = [\"object\"]).copy()\n",
    "dataobj.head()\n"
   ]
  },
  {
   "cell_type": "code",
   "execution_count": 9,
   "metadata": {},
   "outputs": [],
   "source": [
    "datainfo=data.select_dtypes(include =[\"int64\"]).copy()\n"
   ]
  },
  {
   "cell_type": "code",
   "execution_count": 10,
   "metadata": {},
   "outputs": [
    {
     "data": {
      "text/html": [
       "<div>\n",
       "<style scoped>\n",
       "    .dataframe tbody tr th:only-of-type {\n",
       "        vertical-align: middle;\n",
       "    }\n",
       "\n",
       "    .dataframe tbody tr th {\n",
       "        vertical-align: top;\n",
       "    }\n",
       "\n",
       "    .dataframe thead th {\n",
       "        text-align: right;\n",
       "    }\n",
       "</style>\n",
       "<table border=\"1\" class=\"dataframe\">\n",
       "  <thead>\n",
       "    <tr style=\"text-align: right;\">\n",
       "      <th></th>\n",
       "      <th>count</th>\n",
       "      <th>mean</th>\n",
       "      <th>std</th>\n",
       "      <th>min</th>\n",
       "      <th>25%</th>\n",
       "      <th>50%</th>\n",
       "      <th>75%</th>\n",
       "      <th>max</th>\n",
       "    </tr>\n",
       "  </thead>\n",
       "  <tbody>\n",
       "    <tr>\n",
       "      <th>Monto Comprado 2019?</th>\n",
       "      <td>9976.0</td>\n",
       "      <td>243866.951784</td>\n",
       "      <td>456434.639083</td>\n",
       "      <td>0.0</td>\n",
       "      <td>0.0</td>\n",
       "      <td>113485.0</td>\n",
       "      <td>288625.0</td>\n",
       "      <td>9231860.0</td>\n",
       "    </tr>\n",
       "    <tr>\n",
       "      <th>Nro Transacciones 2019</th>\n",
       "      <td>9976.0</td>\n",
       "      <td>2.462711</td>\n",
       "      <td>4.698831</td>\n",
       "      <td>0.0</td>\n",
       "      <td>0.0</td>\n",
       "      <td>1.0</td>\n",
       "      <td>3.0</td>\n",
       "      <td>92.0</td>\n",
       "    </tr>\n",
       "    <tr>\n",
       "      <th>Monto Comprado 2020</th>\n",
       "      <td>9976.0</td>\n",
       "      <td>25067.011628</td>\n",
       "      <td>132247.695598</td>\n",
       "      <td>0.0</td>\n",
       "      <td>0.0</td>\n",
       "      <td>0.0</td>\n",
       "      <td>0.0</td>\n",
       "      <td>6448400.0</td>\n",
       "    </tr>\n",
       "    <tr>\n",
       "      <th>Nro Transacciones 2020</th>\n",
       "      <td>9976.0</td>\n",
       "      <td>0.263532</td>\n",
       "      <td>1.287152</td>\n",
       "      <td>0.0</td>\n",
       "      <td>0.0</td>\n",
       "      <td>0.0</td>\n",
       "      <td>0.0</td>\n",
       "      <td>60.0</td>\n",
       "    </tr>\n",
       "    <tr>\n",
       "      <th>Edad</th>\n",
       "      <td>9976.0</td>\n",
       "      <td>40.361868</td>\n",
       "      <td>26.029822</td>\n",
       "      <td>10.0</td>\n",
       "      <td>25.0</td>\n",
       "      <td>31.0</td>\n",
       "      <td>44.0</td>\n",
       "      <td>111.0</td>\n",
       "    </tr>\n",
       "    <tr>\n",
       "      <th>Monto Total de ultima compra</th>\n",
       "      <td>9976.0</td>\n",
       "      <td>590206.416500</td>\n",
       "      <td>957754.256892</td>\n",
       "      <td>1900.0</td>\n",
       "      <td>154800.0</td>\n",
       "      <td>303700.0</td>\n",
       "      <td>652525.0</td>\n",
       "      <td>31004180.0</td>\n",
       "    </tr>\n",
       "    <tr>\n",
       "      <th>Cantidad Articulos</th>\n",
       "      <td>9976.0</td>\n",
       "      <td>11.969326</td>\n",
       "      <td>36.553076</td>\n",
       "      <td>1.0</td>\n",
       "      <td>1.0</td>\n",
       "      <td>4.0</td>\n",
       "      <td>10.0</td>\n",
       "      <td>2179.0</td>\n",
       "    </tr>\n",
       "    <tr>\n",
       "      <th>Recencia (Tiempo transcurrido en semanas desde su ultima compra)</th>\n",
       "      <td>9976.0</td>\n",
       "      <td>10.423817</td>\n",
       "      <td>7.298794</td>\n",
       "      <td>0.0</td>\n",
       "      <td>4.0</td>\n",
       "      <td>12.0</td>\n",
       "      <td>14.0</td>\n",
       "      <td>48.0</td>\n",
       "    </tr>\n",
       "    <tr>\n",
       "      <th>Frecuencia (Cantidad items comprados)</th>\n",
       "      <td>9976.0</td>\n",
       "      <td>5.775160</td>\n",
       "      <td>9.595314</td>\n",
       "      <td>1.0</td>\n",
       "      <td>1.0</td>\n",
       "      <td>3.0</td>\n",
       "      <td>6.0</td>\n",
       "      <td>301.0</td>\n",
       "    </tr>\n",
       "    <tr>\n",
       "      <th>Monto - MARCA COTTON- B/quilla.</th>\n",
       "      <td>9976.0</td>\n",
       "      <td>28802.528067</td>\n",
       "      <td>229728.153523</td>\n",
       "      <td>0.0</td>\n",
       "      <td>0.0</td>\n",
       "      <td>0.0</td>\n",
       "      <td>0.0</td>\n",
       "      <td>6928460.0</td>\n",
       "    </tr>\n",
       "    <tr>\n",
       "      <th>Monto - Brand Store Cucuta</th>\n",
       "      <td>9976.0</td>\n",
       "      <td>0.000000</td>\n",
       "      <td>0.000000</td>\n",
       "      <td>0.0</td>\n",
       "      <td>0.0</td>\n",
       "      <td>0.0</td>\n",
       "      <td>0.0</td>\n",
       "      <td>0.0</td>\n",
       "    </tr>\n",
       "    <tr>\n",
       "      <th>Monto - MARCA COTTON- Bucaramanga</th>\n",
       "      <td>9976.0</td>\n",
       "      <td>10751.661989</td>\n",
       "      <td>88086.978485</td>\n",
       "      <td>0.0</td>\n",
       "      <td>0.0</td>\n",
       "      <td>0.0</td>\n",
       "      <td>0.0</td>\n",
       "      <td>3513565.0</td>\n",
       "    </tr>\n",
       "    <tr>\n",
       "      <th>Monto - MARCA COTTON- Manizales</th>\n",
       "      <td>9976.0</td>\n",
       "      <td>40820.228549</td>\n",
       "      <td>186231.920729</td>\n",
       "      <td>0.0</td>\n",
       "      <td>0.0</td>\n",
       "      <td>0.0</td>\n",
       "      <td>0.0</td>\n",
       "      <td>4900940.0</td>\n",
       "    </tr>\n",
       "    <tr>\n",
       "      <th>Monto - MARCA COTTON- Pereira</th>\n",
       "      <td>9976.0</td>\n",
       "      <td>29647.312049</td>\n",
       "      <td>248932.881626</td>\n",
       "      <td>0.0</td>\n",
       "      <td>0.0</td>\n",
       "      <td>0.0</td>\n",
       "      <td>0.0</td>\n",
       "      <td>8752705.0</td>\n",
       "    </tr>\n",
       "    <tr>\n",
       "      <th>Monto - MARCA COTTON- Cartagena</th>\n",
       "      <td>9976.0</td>\n",
       "      <td>26573.502606</td>\n",
       "      <td>373547.495203</td>\n",
       "      <td>0.0</td>\n",
       "      <td>0.0</td>\n",
       "      <td>0.0</td>\n",
       "      <td>0.0</td>\n",
       "      <td>31004180.0</td>\n",
       "    </tr>\n",
       "    <tr>\n",
       "      <th>Monto - MARCA COTTON- Pasto</th>\n",
       "      <td>9976.0</td>\n",
       "      <td>10075.486868</td>\n",
       "      <td>110133.314109</td>\n",
       "      <td>0.0</td>\n",
       "      <td>0.0</td>\n",
       "      <td>0.0</td>\n",
       "      <td>0.0</td>\n",
       "      <td>6119336.0</td>\n",
       "    </tr>\n",
       "    <tr>\n",
       "      <th>Monto - MARCA COTTON- Cable Plaza</th>\n",
       "      <td>9976.0</td>\n",
       "      <td>44148.074379</td>\n",
       "      <td>244396.228732</td>\n",
       "      <td>0.0</td>\n",
       "      <td>0.0</td>\n",
       "      <td>0.0</td>\n",
       "      <td>0.0</td>\n",
       "      <td>7644480.0</td>\n",
       "    </tr>\n",
       "  </tbody>\n",
       "</table>\n",
       "</div>"
      ],
      "text/plain": [
       "                                                     count           mean  \\\n",
       "Monto Comprado 2019?                                9976.0  243866.951784   \n",
       "Nro Transacciones 2019                              9976.0       2.462711   \n",
       "Monto Comprado 2020                                 9976.0   25067.011628   \n",
       "Nro Transacciones 2020                              9976.0       0.263532   \n",
       "Edad                                                9976.0      40.361868   \n",
       "Monto Total de ultima compra                        9976.0  590206.416500   \n",
       "Cantidad Articulos                                  9976.0      11.969326   \n",
       "Recencia (Tiempo transcurrido en semanas desde ...  9976.0      10.423817   \n",
       "Frecuencia (Cantidad items comprados)               9976.0       5.775160   \n",
       "Monto - MARCA COTTON- B/quilla.                     9976.0   28802.528067   \n",
       "Monto - Brand Store Cucuta                          9976.0       0.000000   \n",
       "Monto - MARCA COTTON- Bucaramanga                   9976.0   10751.661989   \n",
       "Monto - MARCA COTTON- Manizales                     9976.0   40820.228549   \n",
       "Monto - MARCA COTTON- Pereira                       9976.0   29647.312049   \n",
       "Monto - MARCA COTTON- Cartagena                     9976.0   26573.502606   \n",
       "Monto - MARCA COTTON- Pasto                         9976.0   10075.486868   \n",
       "Monto - MARCA COTTON- Cable Plaza                   9976.0   44148.074379   \n",
       "\n",
       "                                                              std     min  \\\n",
       "Monto Comprado 2019?                                456434.639083     0.0   \n",
       "Nro Transacciones 2019                                   4.698831     0.0   \n",
       "Monto Comprado 2020                                 132247.695598     0.0   \n",
       "Nro Transacciones 2020                                   1.287152     0.0   \n",
       "Edad                                                    26.029822    10.0   \n",
       "Monto Total de ultima compra                        957754.256892  1900.0   \n",
       "Cantidad Articulos                                      36.553076     1.0   \n",
       "Recencia (Tiempo transcurrido en semanas desde ...       7.298794     0.0   \n",
       "Frecuencia (Cantidad items comprados)                    9.595314     1.0   \n",
       "Monto - MARCA COTTON- B/quilla.                     229728.153523     0.0   \n",
       "Monto - Brand Store Cucuta                               0.000000     0.0   \n",
       "Monto - MARCA COTTON- Bucaramanga                    88086.978485     0.0   \n",
       "Monto - MARCA COTTON- Manizales                     186231.920729     0.0   \n",
       "Monto - MARCA COTTON- Pereira                       248932.881626     0.0   \n",
       "Monto - MARCA COTTON- Cartagena                     373547.495203     0.0   \n",
       "Monto - MARCA COTTON- Pasto                         110133.314109     0.0   \n",
       "Monto - MARCA COTTON- Cable Plaza                   244396.228732     0.0   \n",
       "\n",
       "                                                         25%       50%  \\\n",
       "Monto Comprado 2019?                                     0.0  113485.0   \n",
       "Nro Transacciones 2019                                   0.0       1.0   \n",
       "Monto Comprado 2020                                      0.0       0.0   \n",
       "Nro Transacciones 2020                                   0.0       0.0   \n",
       "Edad                                                    25.0      31.0   \n",
       "Monto Total de ultima compra                        154800.0  303700.0   \n",
       "Cantidad Articulos                                       1.0       4.0   \n",
       "Recencia (Tiempo transcurrido en semanas desde ...       4.0      12.0   \n",
       "Frecuencia (Cantidad items comprados)                    1.0       3.0   \n",
       "Monto - MARCA COTTON- B/quilla.                          0.0       0.0   \n",
       "Monto - Brand Store Cucuta                               0.0       0.0   \n",
       "Monto - MARCA COTTON- Bucaramanga                        0.0       0.0   \n",
       "Monto - MARCA COTTON- Manizales                          0.0       0.0   \n",
       "Monto - MARCA COTTON- Pereira                            0.0       0.0   \n",
       "Monto - MARCA COTTON- Cartagena                          0.0       0.0   \n",
       "Monto - MARCA COTTON- Pasto                              0.0       0.0   \n",
       "Monto - MARCA COTTON- Cable Plaza                        0.0       0.0   \n",
       "\n",
       "                                                         75%         max  \n",
       "Monto Comprado 2019?                                288625.0   9231860.0  \n",
       "Nro Transacciones 2019                                   3.0        92.0  \n",
       "Monto Comprado 2020                                      0.0   6448400.0  \n",
       "Nro Transacciones 2020                                   0.0        60.0  \n",
       "Edad                                                    44.0       111.0  \n",
       "Monto Total de ultima compra                        652525.0  31004180.0  \n",
       "Cantidad Articulos                                      10.0      2179.0  \n",
       "Recencia (Tiempo transcurrido en semanas desde ...      14.0        48.0  \n",
       "Frecuencia (Cantidad items comprados)                    6.0       301.0  \n",
       "Monto - MARCA COTTON- B/quilla.                          0.0   6928460.0  \n",
       "Monto - Brand Store Cucuta                               0.0         0.0  \n",
       "Monto - MARCA COTTON- Bucaramanga                        0.0   3513565.0  \n",
       "Monto - MARCA COTTON- Manizales                          0.0   4900940.0  \n",
       "Monto - MARCA COTTON- Pereira                            0.0   8752705.0  \n",
       "Monto - MARCA COTTON- Cartagena                          0.0  31004180.0  \n",
       "Monto - MARCA COTTON- Pasto                              0.0   6119336.0  \n",
       "Monto - MARCA COTTON- Cable Plaza                        0.0   7644480.0  "
      ]
     },
     "execution_count": 10,
     "metadata": {},
     "output_type": "execute_result"
    }
   ],
   "source": [
    "datainfo.describe().T"
   ]
  },
  {
   "cell_type": "code",
   "execution_count": 11,
   "metadata": {},
   "outputs": [
    {
     "name": "stdout",
     "output_type": "stream",
     "text": [
      "<class 'pandas.core.frame.DataFrame'>\n",
      "RangeIndex: 9976 entries, 0 to 9975\n",
      "Data columns (total 7 columns):\n",
      " #   Column                Non-Null Count  Dtype \n",
      "---  ------                --------------  ----- \n",
      " 0   Nombre Completo       9976 non-null   object\n",
      " 1   Segmento              9976 non-null   object\n",
      " 2   Compro 2019?          9976 non-null   object\n",
      " 3   Compro 2020?          9976 non-null   object\n",
      " 4   Es Contactable        9976 non-null   object\n",
      " 5   Ciudad de Residencia  9976 non-null   object\n",
      " 6   Genero                9976 non-null   object\n",
      "dtypes: object(7)\n",
      "memory usage: 545.7+ KB\n"
     ]
    }
   ],
   "source": [
    "dataobj.info()"
   ]
  },
  {
   "cell_type": "code",
   "execution_count": 12,
   "metadata": {},
   "outputs": [
    {
     "data": {
      "text/plain": [
       "<seaborn.axisgrid.FacetGrid at 0x19ca3fc0820>"
      ]
     },
     "execution_count": 12,
     "metadata": {},
     "output_type": "execute_result"
    },
    {
     "data": {
      "image/png": "[encoded data removed]",
      "text/plain": [
       "<Figure size 360x360 with 1 Axes>"
      ]
     },
     "metadata": {
      "needs_background": "light"
     },
     "output_type": "display_data"
    }
   ],
   "source": [
    "dataobj[\"Segmento\"].value_counts()\n",
    "sns.displot(dataobj[\"Segmento\"])"
   ]
  },
  {
   "cell_type": "code",
   "execution_count": 13,
   "metadata": {},
   "outputs": [
    {
     "data": {
      "text/plain": [
       "<seaborn.axisgrid.FacetGrid at 0x19ca426a250>"
      ]
     },
     "execution_count": 13,
     "metadata": {},
     "output_type": "execute_result"
    },
    {
     "data": {
      "image/png": "[encoded data removed]",
      "text/plain": [
       "<Figure size 360x360 with 1 Axes>"
      ]
     },
     "metadata": {
      "needs_background": "light"
     },
     "output_type": "display_data"
    }
   ],
   "source": [
    "dataobj[\"Compro 2019?\"].value_counts()\n",
    "sns.displot(dataobj[\"Compro 2019?\"])\n"
   ]
  },
  {
   "cell_type": "code",
   "execution_count": 14,
   "metadata": {},
   "outputs": [
    {
     "data": {
      "text/plain": [
       "<seaborn.axisgrid.FacetGrid at 0x19ca422e940>"
      ]
     },
     "execution_count": 14,
     "metadata": {},
     "output_type": "execute_result"
    },
    {
     "data": {
      "image/png": "[encoded data removed]",
      "text/plain": [
       "<Figure size 360x360 with 1 Axes>"
      ]
     },
     "metadata": {
      "needs_background": "light"
     },
     "output_type": "display_data"
    }
   ],
   "source": [
    "dataobj[\"Compro 2020?\"].value_counts()\n",
    "sns.displot(dataobj[\"Compro 2020?\"])\n"
   ]
  },
  {
   "cell_type": "code",
   "execution_count": 15,
   "metadata": {},
   "outputs": [
    {
     "data": {
      "text/plain": [
       "<seaborn.axisgrid.FacetGrid at 0x19ca426e130>"
      ]
     },
     "execution_count": 15,
     "metadata": {},
     "output_type": "execute_result"
    },
    {
     "data": {
      "image/png": "[encoded data removed]",
      "text/plain": [
       "<Figure size 360x360 with 1 Axes>"
      ]
     },
     "metadata": {
      "needs_background": "light"
     },
     "output_type": "display_data"
    }
   ],
   "source": [
    "dataobj[\"Es Contactable\"].value_counts()\n",
    "sns.displot(dataobj[\"Es Contactable\"])"
   ]
  },
  {
   "cell_type": "code",
   "execution_count": 16,
   "metadata": {},
   "outputs": [
    {
     "data": {
      "text/html": [
       "<div>\n",
       "<style scoped>\n",
       "    .dataframe tbody tr th:only-of-type {\n",
       "        vertical-align: middle;\n",
       "    }\n",
       "\n",
       "    .dataframe tbody tr th {\n",
       "        vertical-align: top;\n",
       "    }\n",
       "\n",
       "    .dataframe thead th {\n",
       "        text-align: right;\n",
       "    }\n",
       "</style>\n",
       "<table border=\"1\" class=\"dataframe\">\n",
       "  <thead>\n",
       "    <tr style=\"text-align: right;\">\n",
       "      <th></th>\n",
       "      <th>Ciudad de Residencia</th>\n",
       "      <th>Cantidad</th>\n",
       "    </tr>\n",
       "  </thead>\n",
       "  <tbody>\n",
       "    <tr>\n",
       "      <th>0</th>\n",
       "      <td>MEDELLIN</td>\n",
       "      <td>2075</td>\n",
       "    </tr>\n",
       "    <tr>\n",
       "      <th>1</th>\n",
       "      <td>MANIZALES</td>\n",
       "      <td>1582</td>\n",
       "    </tr>\n",
       "    <tr>\n",
       "      <th>2</th>\n",
       "      <td>BOGOTA</td>\n",
       "      <td>697</td>\n",
       "    </tr>\n",
       "    <tr>\n",
       "      <th>3</th>\n",
       "      <td>BARRANQUILLA</td>\n",
       "      <td>611</td>\n",
       "    </tr>\n",
       "    <tr>\n",
       "      <th>4</th>\n",
       "      <td>PEREIRA</td>\n",
       "      <td>591</td>\n",
       "    </tr>\n",
       "    <tr>\n",
       "      <th>...</th>\n",
       "      <td>...</td>\n",
       "      <td>...</td>\n",
       "    </tr>\n",
       "    <tr>\n",
       "      <th>246</th>\n",
       "      <td>PUERTO PARRA</td>\n",
       "      <td>1</td>\n",
       "    </tr>\n",
       "    <tr>\n",
       "      <th>247</th>\n",
       "      <td>TOCA</td>\n",
       "      <td>1</td>\n",
       "    </tr>\n",
       "    <tr>\n",
       "      <th>248</th>\n",
       "      <td>LA PLATA</td>\n",
       "      <td>1</td>\n",
       "    </tr>\n",
       "    <tr>\n",
       "      <th>249</th>\n",
       "      <td>LA TEBAIDA</td>\n",
       "      <td>1</td>\n",
       "    </tr>\n",
       "    <tr>\n",
       "      <th>250</th>\n",
       "      <td>CABRERA (SANTANDER)</td>\n",
       "      <td>1</td>\n",
       "    </tr>\n",
       "  </tbody>\n",
       "</table>\n",
       "<p>251 rows × 2 columns</p>\n",
       "</div>"
      ],
      "text/plain": [
       "    Ciudad de Residencia  Cantidad\n",
       "0               MEDELLIN      2075\n",
       "1              MANIZALES      1582\n",
       "2                 BOGOTA       697\n",
       "3           BARRANQUILLA       611\n",
       "4                PEREIRA       591\n",
       "..                   ...       ...\n",
       "246         PUERTO PARRA         1\n",
       "247                 TOCA         1\n",
       "248             LA PLATA         1\n",
       "249           LA TEBAIDA         1\n",
       "250  CABRERA (SANTANDER)         1\n",
       "\n",
       "[251 rows x 2 columns]"
      ]
     },
     "execution_count": 16,
     "metadata": {},
     "output_type": "execute_result"
    }
   ],
   "source": [
    "pd.DataFrame(dataobj[\"Ciudad de Residencia\"].value_counts()).reset_index().rename(columns={\"index\":\"Ciudad de Residencia\",\n",
    "\"Ciudad de Residencia\":\"Cantidad\"})\n"
   ]
  },
  {
   "cell_type": "code",
   "execution_count": 17,
   "metadata": {},
   "outputs": [
    {
     "data": {
      "text/plain": [
       "<seaborn.axisgrid.FacetGrid at 0x19ca43baa60>"
      ]
     },
     "execution_count": 17,
     "metadata": {},
     "output_type": "execute_result"
    },
    {
     "data": {
      "image/png": "[encoded data removed]",
      "text/plain": [
       "<Figure size 360x360 with 1 Axes>"
      ]
     },
     "metadata": {
      "needs_background": "light"
     },
     "output_type": "display_data"
    }
   ],
   "source": [
    "\n",
    "sns.displot(dataobj[\"Genero\"])\n"
   ]
  }
 ],
 "metadata": {
  "kernelspec": {
   "display_name": "Python 3.9.13 64-bit",
   "language": "python",
   "name": "python3"
  },
  "language_info": {
   "codemirror_mode": {
    "name": "ipython",
    "version": 3
   },
   "file_extension": ".py",
   "mimetype": "text/x-python",
   "name": "python",
   "nbconvert_exporter": "python",
   "pygments_lexer": "ipython3",
   "version": "3.9.13"
  },
  "orig_nbformat": 4,
  "vscode": {
   "interpreter": {
    "hash": "2469a70536e4d2335a2ea8907942d0699c37342a371ac185bdb5b0aa6f073890"
   }
  }
 },
 "nbformat": 4,
 "nbformat_minor": 2
}
