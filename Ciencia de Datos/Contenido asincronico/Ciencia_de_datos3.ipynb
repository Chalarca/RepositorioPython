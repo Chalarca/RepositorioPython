{
 "cells": [
  {
   "cell_type": "code",
   "execution_count": 62,
   "metadata": {},
   "outputs": [],
   "source": [
    "import pandas as pd\n",
    "import numpy as np\n",
    "import seaborn as sns\n",
    "import matplotlib.pyplot as plt\n",
    "import math"
   ]
  },
  {
   "cell_type": "code",
   "execution_count": 63,
   "metadata": {},
   "outputs": [],
   "source": [
    "pd.set_option('display.max_columns', 35)"
   ]
  },
  {
   "cell_type": "code",
   "execution_count": 64,
   "metadata": {},
   "outputs": [],
   "source": [
    "df_date = pd.read_excel(\"Data DS Cotton Plus.xlsx\", sheet_name = \"BD\")"
   ]
  },
  {
   "cell_type": "code",
   "execution_count": 65,
   "metadata": {},
   "outputs": [
    {
     "data": {
      "text/plain": [
       "5980"
      ]
     },
     "execution_count": 65,
     "metadata": {},
     "output_type": "execute_result"
    }
   ],
   "source": [
    "X = df_date.loc[:, 'Genero'] == 'Mujer'\n",
    "X.sum()"
   ]
  },
  {
   "cell_type": "code",
   "execution_count": 66,
   "metadata": {},
   "outputs": [
    {
     "data": {
      "text/plain": [
       "3996"
      ]
     },
     "execution_count": 66,
     "metadata": {},
     "output_type": "execute_result"
    }
   ],
   "source": [
    "X = df_date.loc[:, 'Genero'] == 'Hombre'\n",
    "X.sum()"
   ]
  },
  {
   "cell_type": "code",
   "execution_count": 67,
   "metadata": {},
   "outputs": [
    {
     "data": {
      "text/plain": [
       "0        True\n",
       "1       False\n",
       "2        True\n",
       "3        True\n",
       "4        True\n",
       "        ...  \n",
       "9971     True\n",
       "9972     True\n",
       "9973     True\n",
       "9974     True\n",
       "9975    False\n",
       "Name: Genero, Length: 9976, dtype: bool"
      ]
     },
     "execution_count": 67,
     "metadata": {},
     "output_type": "execute_result"
    }
   ],
   "source": [
    "X = df_date.loc[:, 'Genero'] == 'Mujer'\n",
    "X"
   ]
  },
  {
   "cell_type": "code",
   "execution_count": 68,
   "metadata": {},
   "outputs": [
    {
     "name": "stdout",
     "output_type": "stream",
     "text": [
      "9976 40\n"
     ]
    }
   ],
   "source": [
    "rows = df_date.shape[0]\n",
    "columns = df_date.shape[1]\n",
    "print(rows, columns)"
   ]
  },
  {
   "cell_type": "code",
   "execution_count": 69,
   "metadata": {},
   "outputs": [
    {
     "data": {
      "text/plain": [
       "399040"
      ]
     },
     "execution_count": 69,
     "metadata": {},
     "output_type": "execute_result"
    }
   ],
   "source": [
    "cell_count = rows * columns\n",
    "cell_count"
   ]
  },
  {
   "cell_type": "code",
   "execution_count": 70,
   "metadata": {},
   "outputs": [
    {
     "name": "stdout",
     "output_type": "stream",
     "text": [
      "Porcentage de valores nulos en el dataset: ---> 12.5%\n",
      "Cantidad de valores nulos:--------------------> 49880\n"
     ]
    }
   ],
   "source": [
    "number_of_nulls = df_date.isnull().sum().sum()\n",
    "percentage_of_missing = (number_of_nulls/cell_count)*100\n",
    "print(f\"Porcentage de valores nulos en el dataset: ---> {percentage_of_missing}%\")\n",
    "print(f\"Cantidad de valores nulos:--------------------> {number_of_nulls}\")"
   ]
  },
  {
   "cell_type": "code",
   "execution_count": 71,
   "metadata": {},
   "outputs": [
    {
     "data": {
      "text/plain": [
       "Cedula                                                                 0\n",
       "Nombre Completo                                                        0\n",
       "Segmento                                                               0\n",
       "Compro 2019?                                                           0\n",
       "Compro 2020?                                                           0\n",
       "Monto Comprado 2019?                                                   0\n",
       "Nro Transacciones 2019                                                 0\n",
       "Monto Comprado 2020                                                    0\n",
       "Nro Transacciones 2020                                                 0\n",
       "Tipo de Contacto                                                       0\n",
       "Es Contactable                                                         0\n",
       "Ciudad de Residencia                                                   0\n",
       "Mail                                                                9976\n",
       "Direccion                                                           9976\n",
       "Genero                                                                 0\n",
       "Estado Civil                                                           0\n",
       "Fecha Nacimiento                                                       0\n",
       "Mes Nacimiento                                                         0\n",
       "Dia Nacimiento                                                         0\n",
       "Edad                                                                   0\n",
       "Monto Total de ultima compra                                           0\n",
       "Cantidad Articulos                                                     0\n",
       "Recencia (Tiempo transcurrido en semanas desde su ultima compra)       0\n",
       "Frecuencia (Cantidad items comprados)                                  0\n",
       "Direccion Valido?                                                      0\n",
       "Mail Valido?                                                           0\n",
       "Cel Valido?                                                            0\n",
       "Tel Ofc Valid?                                                         0\n",
       "Tel Casa Valido?                                                       0\n",
       "Telefono Movil                                                      9976\n",
       "TelefonoOficina                                                     9976\n",
       "Telefono Casa                                                       9976\n",
       "Monto - MARCA COTTON- B/quilla.                                        0\n",
       "Monto - Brand Store Cucuta                                             0\n",
       "Monto - MARCA COTTON- Bucaramanga                                      0\n",
       "Monto - MARCA COTTON- Manizales                                        0\n",
       "Monto - MARCA COTTON- Pereira                                          0\n",
       "Monto - MARCA COTTON- Cartagena                                        0\n",
       "Monto - MARCA COTTON- Pasto                                            0\n",
       "Monto - MARCA COTTON- Cable Plaza                                      0\n",
       "dtype: int64"
      ]
     },
     "execution_count": 71,
     "metadata": {},
     "output_type": "execute_result"
    }
   ],
   "source": [
    "df_date.isnull().sum()"
   ]
  },
  {
   "cell_type": "code",
   "execution_count": 72,
   "metadata": {},
   "outputs": [],
   "source": [
    "df_date[\"Telefono Casa\"] = df_date[\"Telefono Casa\"].fillna(np.mean)\n",
    "df_date[\"Telefono Casa\"] = df_date[\"Telefono Casa\"].replace(np.mean, \"nan\")"
   ]
  },
  {
   "cell_type": "code",
   "execution_count": 73,
   "metadata": {},
   "outputs": [],
   "source": [
    "df_date[\"Mail\"] = df_date[\"Mail\"].fillna(np.mean)\n",
    "df_date[\"Mail\"] = df_date[\"Mail\"].replace(np.mean, \"nan\")"
   ]
  },
  {
   "cell_type": "code",
   "execution_count": 74,
   "metadata": {},
   "outputs": [],
   "source": [
    "df_date[\"Direccion\"] = df_date[\"Direccion\"].fillna(np.mean)\n",
    "df_date[\"Direccion\"] = df_date[\"Direccion\"].replace(np.mean, \"nan\")"
   ]
  },
  {
   "cell_type": "code",
   "execution_count": 75,
   "metadata": {},
   "outputs": [],
   "source": [
    "df_date[\"TelefonoOficina\"] = df_date[\"TelefonoOficina\"].fillna(np.mean)\n",
    "df_date[\"TelefonoOficina\"] = df_date[\"TelefonoOficina\"].replace(np.mean, \"nan\")"
   ]
  },
  {
   "cell_type": "code",
   "execution_count": 76,
   "metadata": {},
   "outputs": [],
   "source": [
    "df_date[\"Telefono Movil\"] = df_date[\"Telefono Movil\"].fillna(np.mean)\n",
    "df_date[\"Telefono Movil\"] = df_date[\"Telefono Movil\"].replace(np.mean, \"nan\")"
   ]
  },
  {
   "cell_type": "code",
   "execution_count": 77,
   "metadata": {},
   "outputs": [
    {
     "data": {
      "text/plain": [
       "Cedula                                                              0\n",
       "Nombre Completo                                                     0\n",
       "Segmento                                                            0\n",
       "Compro 2019?                                                        0\n",
       "Compro 2020?                                                        0\n",
       "Monto Comprado 2019?                                                0\n",
       "Nro Transacciones 2019                                              0\n",
       "Monto Comprado 2020                                                 0\n",
       "Nro Transacciones 2020                                              0\n",
       "Tipo de Contacto                                                    0\n",
       "Es Contactable                                                      0\n",
       "Ciudad de Residencia                                                0\n",
       "Mail                                                                0\n",
       "Direccion                                                           0\n",
       "Genero                                                              0\n",
       "Estado Civil                                                        0\n",
       "Fecha Nacimiento                                                    0\n",
       "Mes Nacimiento                                                      0\n",
       "Dia Nacimiento                                                      0\n",
       "Edad                                                                0\n",
       "Monto Total de ultima compra                                        0\n",
       "Cantidad Articulos                                                  0\n",
       "Recencia (Tiempo transcurrido en semanas desde su ultima compra)    0\n",
       "Frecuencia (Cantidad items comprados)                               0\n",
       "Direccion Valido?                                                   0\n",
       "Mail Valido?                                                        0\n",
       "Cel Valido?                                                         0\n",
       "Tel Ofc Valid?                                                      0\n",
       "Tel Casa Valido?                                                    0\n",
       "Telefono Movil                                                      0\n",
       "TelefonoOficina                                                     0\n",
       "Telefono Casa                                                       0\n",
       "Monto - MARCA COTTON- B/quilla.                                     0\n",
       "Monto - Brand Store Cucuta                                          0\n",
       "Monto - MARCA COTTON- Bucaramanga                                   0\n",
       "Monto - MARCA COTTON- Manizales                                     0\n",
       "Monto - MARCA COTTON- Pereira                                       0\n",
       "Monto - MARCA COTTON- Cartagena                                     0\n",
       "Monto - MARCA COTTON- Pasto                                         0\n",
       "Monto - MARCA COTTON- Cable Plaza                                   0\n",
       "dtype: int64"
      ]
     },
     "execution_count": 77,
     "metadata": {},
     "output_type": "execute_result"
    }
   ],
   "source": [
    "df_date.isnull().sum()"
   ]
  },
  {
   "cell_type": "code",
   "execution_count": 78,
   "metadata": {},
   "outputs": [
    {
     "data": {
      "text/html": [
       "<div>\n",
       "<style scoped>\n",
       "    .dataframe tbody tr th:only-of-type {\n",
       "        vertical-align: middle;\n",
       "    }\n",
       "\n",
       "    .dataframe tbody tr th {\n",
       "        vertical-align: top;\n",
       "    }\n",
       "\n",
       "    .dataframe thead th {\n",
       "        text-align: right;\n",
       "    }\n",
       "</style>\n",
       "<table border=\"1\" class=\"dataframe\">\n",
       "  <thead>\n",
       "    <tr style=\"text-align: right;\">\n",
       "      <th></th>\n",
       "      <th>Cedula</th>\n",
       "      <th>Nombre Completo</th>\n",
       "      <th>Segmento</th>\n",
       "      <th>Compro 2019?</th>\n",
       "      <th>Compro 2020?</th>\n",
       "      <th>Monto Comprado 2019?</th>\n",
       "      <th>Nro Transacciones 2019</th>\n",
       "      <th>Monto Comprado 2020</th>\n",
       "      <th>Nro Transacciones 2020</th>\n",
       "      <th>Tipo de Contacto</th>\n",
       "      <th>Es Contactable</th>\n",
       "      <th>Ciudad de Residencia</th>\n",
       "      <th>Mail</th>\n",
       "      <th>Direccion</th>\n",
       "      <th>Genero</th>\n",
       "      <th>Estado Civil</th>\n",
       "      <th>Fecha Nacimiento</th>\n",
       "      <th>...</th>\n",
       "      <th>Frecuencia (Cantidad items comprados)</th>\n",
       "      <th>Direccion Valido?</th>\n",
       "      <th>Mail Valido?</th>\n",
       "      <th>Cel Valido?</th>\n",
       "      <th>Tel Ofc Valid?</th>\n",
       "      <th>Tel Casa Valido?</th>\n",
       "      <th>Telefono Movil</th>\n",
       "      <th>TelefonoOficina</th>\n",
       "      <th>Telefono Casa</th>\n",
       "      <th>Monto - MARCA COTTON- B/quilla.</th>\n",
       "      <th>Monto - Brand Store Cucuta</th>\n",
       "      <th>Monto - MARCA COTTON- Bucaramanga</th>\n",
       "      <th>Monto - MARCA COTTON- Manizales</th>\n",
       "      <th>Monto - MARCA COTTON- Pereira</th>\n",
       "      <th>Monto - MARCA COTTON- Cartagena</th>\n",
       "      <th>Monto - MARCA COTTON- Pasto</th>\n",
       "      <th>Monto - MARCA COTTON- Cable Plaza</th>\n",
       "    </tr>\n",
       "  </thead>\n",
       "  <tbody>\n",
       "    <tr>\n",
       "      <th>0</th>\n",
       "      <td>1</td>\n",
       "      <td>Nombre Cliente 1</td>\n",
       "      <td>Aficionados</td>\n",
       "      <td>Si</td>\n",
       "      <td>No</td>\n",
       "      <td>264800</td>\n",
       "      <td>2</td>\n",
       "      <td>0</td>\n",
       "      <td>0</td>\n",
       "      <td>11001</td>\n",
       "      <td>Si</td>\n",
       "      <td>BUCARAMANGA</td>\n",
       "      <td>nan</td>\n",
       "      <td>nan</td>\n",
       "      <td>Mujer</td>\n",
       "      <td>No hay informacion</td>\n",
       "      <td>19000225</td>\n",
       "      <td>...</td>\n",
       "      <td>6</td>\n",
       "      <td>Si</td>\n",
       "      <td>Si</td>\n",
       "      <td>No</td>\n",
       "      <td>No</td>\n",
       "      <td>Si</td>\n",
       "      <td>nan</td>\n",
       "      <td>nan</td>\n",
       "      <td>nan</td>\n",
       "      <td>0</td>\n",
       "      <td>0</td>\n",
       "      <td>0</td>\n",
       "      <td>0</td>\n",
       "      <td>0</td>\n",
       "      <td>0</td>\n",
       "      <td>0</td>\n",
       "      <td>0</td>\n",
       "    </tr>\n",
       "    <tr>\n",
       "      <th>1</th>\n",
       "      <td>2</td>\n",
       "      <td>Nombre Cliente 2</td>\n",
       "      <td>Esporádicos</td>\n",
       "      <td>Si</td>\n",
       "      <td>No</td>\n",
       "      <td>179900</td>\n",
       "      <td>1</td>\n",
       "      <td>0</td>\n",
       "      <td>0</td>\n",
       "      <td>11001</td>\n",
       "      <td>Si</td>\n",
       "      <td>BARRANQUILLA</td>\n",
       "      <td>nan</td>\n",
       "      <td>nan</td>\n",
       "      <td>Hombre</td>\n",
       "      <td>No hay informacion</td>\n",
       "      <td>19561016</td>\n",
       "      <td>...</td>\n",
       "      <td>1</td>\n",
       "      <td>Si</td>\n",
       "      <td>Si</td>\n",
       "      <td>No</td>\n",
       "      <td>No</td>\n",
       "      <td>Si</td>\n",
       "      <td>nan</td>\n",
       "      <td>nan</td>\n",
       "      <td>nan</td>\n",
       "      <td>179900</td>\n",
       "      <td>0</td>\n",
       "      <td>0</td>\n",
       "      <td>0</td>\n",
       "      <td>0</td>\n",
       "      <td>0</td>\n",
       "      <td>0</td>\n",
       "      <td>0</td>\n",
       "    </tr>\n",
       "    <tr>\n",
       "      <th>2</th>\n",
       "      <td>3</td>\n",
       "      <td>Nombre Cliente 3</td>\n",
       "      <td>Aficionados</td>\n",
       "      <td>Si</td>\n",
       "      <td>No</td>\n",
       "      <td>189800</td>\n",
       "      <td>2</td>\n",
       "      <td>0</td>\n",
       "      <td>0</td>\n",
       "      <td>11101</td>\n",
       "      <td>Si</td>\n",
       "      <td>BARRANQUILLA</td>\n",
       "      <td>nan</td>\n",
       "      <td>nan</td>\n",
       "      <td>Mujer</td>\n",
       "      <td>No hay informacion</td>\n",
       "      <td>19550707</td>\n",
       "      <td>...</td>\n",
       "      <td>13</td>\n",
       "      <td>Si</td>\n",
       "      <td>Si</td>\n",
       "      <td>Si</td>\n",
       "      <td>No</td>\n",
       "      <td>Si</td>\n",
       "      <td>nan</td>\n",
       "      <td>nan</td>\n",
       "      <td>nan</td>\n",
       "      <td>451200</td>\n",
       "      <td>0</td>\n",
       "      <td>0</td>\n",
       "      <td>0</td>\n",
       "      <td>0</td>\n",
       "      <td>0</td>\n",
       "      <td>0</td>\n",
       "      <td>0</td>\n",
       "    </tr>\n",
       "    <tr>\n",
       "      <th>3</th>\n",
       "      <td>4</td>\n",
       "      <td>Nombre Cliente 4</td>\n",
       "      <td>Aficionados</td>\n",
       "      <td>Si</td>\n",
       "      <td>No</td>\n",
       "      <td>65900</td>\n",
       "      <td>1</td>\n",
       "      <td>0</td>\n",
       "      <td>0</td>\n",
       "      <td>11001</td>\n",
       "      <td>Si</td>\n",
       "      <td>MANIZALES</td>\n",
       "      <td>nan</td>\n",
       "      <td>nan</td>\n",
       "      <td>Mujer</td>\n",
       "      <td>No hay informacion</td>\n",
       "      <td>19620520</td>\n",
       "      <td>...</td>\n",
       "      <td>17</td>\n",
       "      <td>Si</td>\n",
       "      <td>Si</td>\n",
       "      <td>No</td>\n",
       "      <td>No</td>\n",
       "      <td>Si</td>\n",
       "      <td>nan</td>\n",
       "      <td>nan</td>\n",
       "      <td>nan</td>\n",
       "      <td>0</td>\n",
       "      <td>0</td>\n",
       "      <td>0</td>\n",
       "      <td>0</td>\n",
       "      <td>0</td>\n",
       "      <td>0</td>\n",
       "      <td>0</td>\n",
       "      <td>1859600</td>\n",
       "    </tr>\n",
       "    <tr>\n",
       "      <th>4</th>\n",
       "      <td>5</td>\n",
       "      <td>Nombre Cliente 5</td>\n",
       "      <td>Aficionados</td>\n",
       "      <td>Si</td>\n",
       "      <td>No</td>\n",
       "      <td>238800</td>\n",
       "      <td>2</td>\n",
       "      <td>0</td>\n",
       "      <td>0</td>\n",
       "      <td>11101</td>\n",
       "      <td>Si</td>\n",
       "      <td>FLORIDABLANCA</td>\n",
       "      <td>nan</td>\n",
       "      <td>nan</td>\n",
       "      <td>Mujer</td>\n",
       "      <td>No hay informacion</td>\n",
       "      <td>19660709</td>\n",
       "      <td>...</td>\n",
       "      <td>5</td>\n",
       "      <td>Si</td>\n",
       "      <td>Si</td>\n",
       "      <td>Si</td>\n",
       "      <td>No</td>\n",
       "      <td>Si</td>\n",
       "      <td>nan</td>\n",
       "      <td>nan</td>\n",
       "      <td>nan</td>\n",
       "      <td>0</td>\n",
       "      <td>0</td>\n",
       "      <td>0</td>\n",
       "      <td>0</td>\n",
       "      <td>0</td>\n",
       "      <td>0</td>\n",
       "      <td>0</td>\n",
       "      <td>0</td>\n",
       "    </tr>\n",
       "  </tbody>\n",
       "</table>\n",
       "<p>5 rows × 40 columns</p>\n",
       "</div>"
      ],
      "text/plain": [
       "   Cedula   Nombre Completo     Segmento Compro 2019? Compro 2020?  \\\n",
       "0       1  Nombre Cliente 1  Aficionados           Si           No   \n",
       "1       2  Nombre Cliente 2  Esporádicos           Si           No   \n",
       "2       3  Nombre Cliente 3  Aficionados           Si           No   \n",
       "3       4  Nombre Cliente 4  Aficionados           Si           No   \n",
       "4       5  Nombre Cliente 5  Aficionados           Si           No   \n",
       "\n",
       "   Monto Comprado 2019?  Nro Transacciones 2019  Monto Comprado 2020  \\\n",
       "0                264800                       2                    0   \n",
       "1                179900                       1                    0   \n",
       "2                189800                       2                    0   \n",
       "3                 65900                       1                    0   \n",
       "4                238800                       2                    0   \n",
       "\n",
       "   Nro Transacciones 2020  Tipo de Contacto Es Contactable  \\\n",
       "0                       0             11001             Si   \n",
       "1                       0             11001             Si   \n",
       "2                       0             11101             Si   \n",
       "3                       0             11001             Si   \n",
       "4                       0             11101             Si   \n",
       "\n",
       "  Ciudad de Residencia Mail Direccion  Genero        Estado Civil  \\\n",
       "0          BUCARAMANGA  nan       nan   Mujer  No hay informacion   \n",
       "1         BARRANQUILLA  nan       nan  Hombre  No hay informacion   \n",
       "2         BARRANQUILLA  nan       nan   Mujer  No hay informacion   \n",
       "3            MANIZALES  nan       nan   Mujer  No hay informacion   \n",
       "4        FLORIDABLANCA  nan       nan   Mujer  No hay informacion   \n",
       "\n",
       "   Fecha Nacimiento  ... Frecuencia (Cantidad items comprados)  \\\n",
       "0          19000225  ...                                     6   \n",
       "1          19561016  ...                                     1   \n",
       "2          19550707  ...                                    13   \n",
       "3          19620520  ...                                    17   \n",
       "4          19660709  ...                                     5   \n",
       "\n",
       "   Direccion Valido?  Mail Valido?  Cel Valido?  Tel Ofc Valid?  \\\n",
       "0                 Si            Si           No              No   \n",
       "1                 Si            Si           No              No   \n",
       "2                 Si            Si           Si              No   \n",
       "3                 Si            Si           No              No   \n",
       "4                 Si            Si           Si              No   \n",
       "\n",
       "   Tel Casa Valido?  Telefono Movil TelefonoOficina Telefono Casa  \\\n",
       "0                Si             nan             nan           nan   \n",
       "1                Si             nan             nan           nan   \n",
       "2                Si             nan             nan           nan   \n",
       "3                Si             nan             nan           nan   \n",
       "4                Si             nan             nan           nan   \n",
       "\n",
       "  Monto - MARCA COTTON- B/quilla. Monto - Brand Store Cucuta  \\\n",
       "0                               0                          0   \n",
       "1                          179900                          0   \n",
       "2                          451200                          0   \n",
       "3                               0                          0   \n",
       "4                               0                          0   \n",
       "\n",
       "  Monto - MARCA COTTON- Bucaramanga Monto - MARCA COTTON- Manizales  \\\n",
       "0                                 0                               0   \n",
       "1                                 0                               0   \n",
       "2                                 0                               0   \n",
       "3                                 0                               0   \n",
       "4                                 0                               0   \n",
       "\n",
       "  Monto - MARCA COTTON- Pereira Monto - MARCA COTTON- Cartagena  \\\n",
       "0                             0                               0   \n",
       "1                             0                               0   \n",
       "2                             0                               0   \n",
       "3                             0                               0   \n",
       "4                             0                               0   \n",
       "\n",
       "   Monto - MARCA COTTON- Pasto  Monto - MARCA COTTON- Cable Plaza  \n",
       "0                            0                                  0  \n",
       "1                            0                                  0  \n",
       "2                            0                                  0  \n",
       "3                            0                            1859600  \n",
       "4                            0                                  0  \n",
       "\n",
       "[5 rows x 40 columns]"
      ]
     },
     "execution_count": 78,
     "metadata": {},
     "output_type": "execute_result"
    }
   ],
   "source": [
    "df_date.head()"
   ]
  },
  {
   "cell_type": "code",
   "execution_count": 79,
   "metadata": {},
   "outputs": [
    {
     "data": {
      "text/plain": [
       "array([264800, 179900, 189800, ..., 411680, 191260, 254960], dtype=int64)"
      ]
     },
     "execution_count": 79,
     "metadata": {},
     "output_type": "execute_result"
    }
   ],
   "source": [
    "df_date[\"Monto Comprado 2019?\"].unique()"
   ]
  },
  {
   "cell_type": "code",
   "execution_count": 80,
   "metadata": {},
   "outputs": [
    {
     "data": {
      "text/plain": [
       "array(['Aficionados', 'Esporádicos', 'Curiosos', 'Inactivo', 'Adictos'],\n",
       "      dtype=object)"
      ]
     },
     "execution_count": 80,
     "metadata": {},
     "output_type": "execute_result"
    }
   ],
   "source": [
    "df_date[\"Segmento\"].unique()"
   ]
  },
  {
   "cell_type": "code",
   "execution_count": 81,
   "metadata": {},
   "outputs": [
    {
     "data": {
      "text/plain": [
       "9003"
      ]
     },
     "execution_count": 81,
     "metadata": {},
     "output_type": "execute_result"
    }
   ],
   "source": [
    "X = df_date.loc[:, \"Monto Comprado 2020\"] == 0\n",
    "X.sum()\n",
    "#\"No compraron en 2020\""
   ]
  },
  {
   "cell_type": "code",
   "execution_count": 82,
   "metadata": {},
   "outputs": [
    {
     "data": {
      "text/plain": [
       "9003"
      ]
     },
     "execution_count": 82,
     "metadata": {},
     "output_type": "execute_result"
    }
   ],
   "source": [
    "X = df_date.loc[:, \"Compro 2020?\"] == 'No'\n",
    "X.sum()\n",
    "#\"No compraron en 2020\""
   ]
  },
  {
   "cell_type": "code",
   "execution_count": 83,
   "metadata": {},
   "outputs": [
    {
     "data": {
      "text/plain": [
       "973"
      ]
     },
     "execution_count": 83,
     "metadata": {},
     "output_type": "execute_result"
    }
   ],
   "source": [
    "X = df_date.loc[:, \"Compro 2020?\"] == 'Si'\n",
    "X.sum()\n",
    "#\"compraron en 2020\""
   ]
  },
  {
   "cell_type": "code",
   "execution_count": 85,
   "metadata": {},
   "outputs": [
    {
     "data": {
      "text/html": [
       "<div>\n",
       "<style scoped>\n",
       "    .dataframe tbody tr th:only-of-type {\n",
       "        vertical-align: middle;\n",
       "    }\n",
       "\n",
       "    .dataframe tbody tr th {\n",
       "        vertical-align: top;\n",
       "    }\n",
       "\n",
       "    .dataframe thead th {\n",
       "        text-align: right;\n",
       "    }\n",
       "</style>\n",
       "<table border=\"1\" class=\"dataframe\">\n",
       "  <thead>\n",
       "    <tr style=\"text-align: right;\">\n",
       "      <th></th>\n",
       "      <th>Cedula</th>\n",
       "      <th>Nombre Completo</th>\n",
       "      <th>Segmento</th>\n",
       "      <th>Compro 2019?</th>\n",
       "      <th>Compro 2020?</th>\n",
       "      <th>Monto Comprado 2019?</th>\n",
       "      <th>Nro Transacciones 2019</th>\n",
       "      <th>Monto Comprado 2020</th>\n",
       "      <th>Nro Transacciones 2020</th>\n",
       "    </tr>\n",
       "  </thead>\n",
       "  <tbody>\n",
       "    <tr>\n",
       "      <th>0</th>\n",
       "      <td>1</td>\n",
       "      <td>Nombre Cliente 1</td>\n",
       "      <td>Aficionados</td>\n",
       "      <td>Si</td>\n",
       "      <td>No</td>\n",
       "      <td>264800</td>\n",
       "      <td>2</td>\n",
       "      <td>0</td>\n",
       "      <td>0</td>\n",
       "    </tr>\n",
       "    <tr>\n",
       "      <th>1</th>\n",
       "      <td>2</td>\n",
       "      <td>Nombre Cliente 2</td>\n",
       "      <td>Esporádicos</td>\n",
       "      <td>Si</td>\n",
       "      <td>No</td>\n",
       "      <td>179900</td>\n",
       "      <td>1</td>\n",
       "      <td>0</td>\n",
       "      <td>0</td>\n",
       "    </tr>\n",
       "    <tr>\n",
       "      <th>2</th>\n",
       "      <td>3</td>\n",
       "      <td>Nombre Cliente 3</td>\n",
       "      <td>Aficionados</td>\n",
       "      <td>Si</td>\n",
       "      <td>No</td>\n",
       "      <td>189800</td>\n",
       "      <td>2</td>\n",
       "      <td>0</td>\n",
       "      <td>0</td>\n",
       "    </tr>\n",
       "    <tr>\n",
       "      <th>3</th>\n",
       "      <td>4</td>\n",
       "      <td>Nombre Cliente 4</td>\n",
       "      <td>Aficionados</td>\n",
       "      <td>Si</td>\n",
       "      <td>No</td>\n",
       "      <td>65900</td>\n",
       "      <td>1</td>\n",
       "      <td>0</td>\n",
       "      <td>0</td>\n",
       "    </tr>\n",
       "    <tr>\n",
       "      <th>4</th>\n",
       "      <td>5</td>\n",
       "      <td>Nombre Cliente 5</td>\n",
       "      <td>Aficionados</td>\n",
       "      <td>Si</td>\n",
       "      <td>No</td>\n",
       "      <td>238800</td>\n",
       "      <td>2</td>\n",
       "      <td>0</td>\n",
       "      <td>0</td>\n",
       "    </tr>\n",
       "    <tr>\n",
       "      <th>...</th>\n",
       "      <td>...</td>\n",
       "      <td>...</td>\n",
       "      <td>...</td>\n",
       "      <td>...</td>\n",
       "      <td>...</td>\n",
       "      <td>...</td>\n",
       "      <td>...</td>\n",
       "      <td>...</td>\n",
       "      <td>...</td>\n",
       "    </tr>\n",
       "    <tr>\n",
       "      <th>9971</th>\n",
       "      <td>9972</td>\n",
       "      <td>Nombre Cliente 9972</td>\n",
       "      <td>Aficionados</td>\n",
       "      <td>Si</td>\n",
       "      <td>No</td>\n",
       "      <td>191260</td>\n",
       "      <td>4</td>\n",
       "      <td>0</td>\n",
       "      <td>0</td>\n",
       "    </tr>\n",
       "    <tr>\n",
       "      <th>9972</th>\n",
       "      <td>9973</td>\n",
       "      <td>Nombre Cliente 9973</td>\n",
       "      <td>Aficionados</td>\n",
       "      <td>Si</td>\n",
       "      <td>No</td>\n",
       "      <td>371600</td>\n",
       "      <td>5</td>\n",
       "      <td>0</td>\n",
       "      <td>0</td>\n",
       "    </tr>\n",
       "    <tr>\n",
       "      <th>9973</th>\n",
       "      <td>9974</td>\n",
       "      <td>Nombre Cliente 9974</td>\n",
       "      <td>Aficionados</td>\n",
       "      <td>Si</td>\n",
       "      <td>No</td>\n",
       "      <td>254960</td>\n",
       "      <td>3</td>\n",
       "      <td>0</td>\n",
       "      <td>0</td>\n",
       "    </tr>\n",
       "    <tr>\n",
       "      <th>9974</th>\n",
       "      <td>9975</td>\n",
       "      <td>Nombre Cliente 9975</td>\n",
       "      <td>Esporádicos</td>\n",
       "      <td>Si</td>\n",
       "      <td>No</td>\n",
       "      <td>159920</td>\n",
       "      <td>1</td>\n",
       "      <td>0</td>\n",
       "      <td>0</td>\n",
       "    </tr>\n",
       "    <tr>\n",
       "      <th>9975</th>\n",
       "      <td>9976</td>\n",
       "      <td>Nombre Cliente 9976</td>\n",
       "      <td>Esporádicos</td>\n",
       "      <td>No</td>\n",
       "      <td>No</td>\n",
       "      <td>0</td>\n",
       "      <td>0</td>\n",
       "      <td>0</td>\n",
       "      <td>0</td>\n",
       "    </tr>\n",
       "  </tbody>\n",
       "</table>\n",
       "<p>9976 rows × 9 columns</p>\n",
       "</div>"
      ],
      "text/plain": [
       "      Cedula      Nombre Completo     Segmento Compro 2019? Compro 2020?  \\\n",
       "0          1     Nombre Cliente 1  Aficionados           Si           No   \n",
       "1          2     Nombre Cliente 2  Esporádicos           Si           No   \n",
       "2          3     Nombre Cliente 3  Aficionados           Si           No   \n",
       "3          4     Nombre Cliente 4  Aficionados           Si           No   \n",
       "4          5     Nombre Cliente 5  Aficionados           Si           No   \n",
       "...      ...                  ...          ...          ...          ...   \n",
       "9971    9972  Nombre Cliente 9972  Aficionados           Si           No   \n",
       "9972    9973  Nombre Cliente 9973  Aficionados           Si           No   \n",
       "9973    9974  Nombre Cliente 9974  Aficionados           Si           No   \n",
       "9974    9975  Nombre Cliente 9975  Esporádicos           Si           No   \n",
       "9975    9976  Nombre Cliente 9976  Esporádicos           No           No   \n",
       "\n",
       "      Monto Comprado 2019?  Nro Transacciones 2019  Monto Comprado 2020  \\\n",
       "0                   264800                       2                    0   \n",
       "1                   179900                       1                    0   \n",
       "2                   189800                       2                    0   \n",
       "3                    65900                       1                    0   \n",
       "4                   238800                       2                    0   \n",
       "...                    ...                     ...                  ...   \n",
       "9971                191260                       4                    0   \n",
       "9972                371600                       5                    0   \n",
       "9973                254960                       3                    0   \n",
       "9974                159920                       1                    0   \n",
       "9975                     0                       0                    0   \n",
       "\n",
       "      Nro Transacciones 2020  \n",
       "0                          0  \n",
       "1                          0  \n",
       "2                          0  \n",
       "3                          0  \n",
       "4                          0  \n",
       "...                      ...  \n",
       "9971                       0  \n",
       "9972                       0  \n",
       "9973                       0  \n",
       "9974                       0  \n",
       "9975                       0  \n",
       "\n",
       "[9976 rows x 9 columns]"
      ]
     },
     "execution_count": 85,
     "metadata": {},
     "output_type": "execute_result"
    }
   ],
   "source": [
    "df_date.iloc[:, 0:9]"
   ]
  },
  {
   "cell_type": "code",
   "execution_count": 87,
   "metadata": {},
   "outputs": [
    {
     "data": {
      "text/plain": [
       "0        6\n",
       "1        1\n",
       "2       13\n",
       "3       17\n",
       "4        5\n",
       "        ..\n",
       "9971     4\n",
       "9972     5\n",
       "9973     3\n",
       "9974     1\n",
       "9975     1\n",
       "Name: Frecuencia (Cantidad items comprados), Length: 9976, dtype: int64"
      ]
     },
     "execution_count": 87,
     "metadata": {},
     "output_type": "execute_result"
    }
   ],
   "source": [
    "df_date[\"Frecuencia (Cantidad items comprados)\"]"
   ]
  },
  {
   "cell_type": "markdown",
   "metadata": {},
   "source": [
    "##Modelos mas utilizados en el sector financiero\n",
    "Se utiliza en Modelado de Riesgo de Crédito, Detección de fraudes, Segmentación de clientes, Motor de recomendaciones;\n",
    "utilizan varios modelos como el random forest, redes neuronales, decision tree, etc."
   ]
  },
  {
   "cell_type": "markdown",
   "metadata": {},
   "source": [
    "#Funcionamiento y uso del modelo Churn \n",
    "La predicción de churn es uno de los usos de big data más populares en los negocios de las startups, \n",
    "ya que permite detectar a los usuarios con mayores probabilidades de dar de baja una suscripción o un servicio.\n",
    "##Funcionamiento\n",
    "El cálculo de churn rate es relativamente sencillo: Número de suscriptores perdidos durante un periodo de tiempo / (\"dividido\")\n",
    "Número de suscriptores que teníamos al inicio de periodo. Normalmente el cálculo de la tasa se realiza mensualmente, \n",
    "aunque podemos marcar el tiempo según nos interese."
   ]
  }
 ],
 "metadata": {
  "kernelspec": {
   "display_name": "Python 3",
   "language": "python",
   "name": "python3"
  },
  "language_info": {
   "codemirror_mode": {
    "name": "ipython",
    "version": 3
   },
   "file_extension": ".py",
   "mimetype": "text/x-python",
   "name": "python",
   "nbconvert_exporter": "python",
   "pygments_lexer": "ipython3",
   "version": "3.8.3"
  }
 },
 "nbformat": 4,
 "nbformat_minor": 4
}
