{
 "cells": [
  {
   "cell_type": "markdown",
   "metadata": {},
   "source": [
    "# Estructuras repetitivas (ciclos)\n",
    "\n",
    "\n",
    "Los ciclos son estructuras de control que permiten ejecutar repetidamente una o varias instrucciones\n",
    "cuantas veces sea necesario (puede ser mientras se cumpla una condición o un número fijo\n",
    "de repeticiones). Esto permite realizar una misma tarea con menor cantidad de líneas de código.\n",
    "En python contamos con dos tipos de ciclos, el ciclo while y for."
   ]
  },
  {
   "cell_type": "markdown",
   "metadata": {},
   "source": [
    "# Ciclo For\n",
    "\n",
    "El ciclo for se utiliza para iterar sobre un conjunto de elementos que hagan parte de un objeto iterable\n",
    "como listas, tuplas, diccionarios, esto es muy útil cuando se desea que la variable tome valores a partir \n",
    "de una conjunto de elementos definidos previamente. La sintaxis en Python es la siguente:\n",
    "\n",
    "**for var in <objeto_iterable> :**\n",
    "\n",
    "instrucción 1\n",
    "\n",
    "instrucción 2\n",
    "\n",
    ". . .\n",
    "\n",
    "instrucción n\n",
    "\n",
    "se usa en los ciclos la funcion \"range\" la cual permite crear una secuencia de valores con mucha facilidad, las instrucciones en el interior del ciclo se ejecutaran la cantidad de veces que se le indique al ciclo"
   ]
  },
  {
   "cell_type": "markdown",
   "metadata": {},
   "source": [
    "La Funcion Range nos permite emular una lista de la longitud deseada como semuestra en las siguientes casillas"
   ]
  },
  {
   "cell_type": "code",
   "execution_count": null,
   "metadata": {},
   "outputs": [],
   "source": [
    "#Con este ciclo for se rellena la lista Valores usando un .append que agrega el valor indicado al final de la lista\n",
    "#como resultado tendremos una lista de 19 valores iniciando en 1 terminando en 19\n",
    "\n",
    "valores=[]\n",
    "for i in range(1,20):\n",
    "    valores.append(i)\n",
    "valores"
   ]
  },
  {
   "cell_type": "code",
   "execution_count": null,
   "metadata": {},
   "outputs": [],
   "source": [
    "#Pero la funcion Range ya hace esa funcion y nos puede crear una lista de los mismos valores\n",
    "#sin la necesidad de utilizar ningun ciclo simplemente convirtiendo el tipo del dato del range de un iterable a una lista\n",
    "\n",
    "secuencia=list(range(1,20))\n",
    "secuencia #como se observa el resultado es identico"
   ]
  },
  {
   "cell_type": "code",
   "execution_count": null,
   "metadata": {},
   "outputs": [],
   "source": [
    "#Range tambien se puede adecuar para moverse en una secuencia deseada, por ejemplo este codigo imprimira \n",
    "#todos los valores entre 3 y 51 de 3 en 3\n",
    "\n",
    "#Range funciona de la siguiente manera, Range(Valor_inicial,Valor_final,Paso)\n",
    "#el valor inicial muestra desde que valor parte.\n",
    "#el valor final indica donde debe detenerse\n",
    "#Paso indica en que cantidad se incrementara cada vez.\n",
    "#Nota: Nunca muestrara un valor superior al valor maximo\n",
    "\n",
    "for i in range(3,51,3):\n",
    "    print(i, end=' ')#El ' ' genera un espacio de forma automatica al imprimir algo\n",
    "\n",
    "#aca tenemos 2 lineas de codigo que nos imprimen numeros de 3 en 3"
   ]
  },
  {
   "cell_type": "code",
   "execution_count": null,
   "metadata": {},
   "outputs": [],
   "source": [
    "#El Rage tambien se puede recorrer en reversa de la siguiente manera, \n",
    "#Colocando un paso negativo y colocando el valor inicial mayor al final\n",
    "for i in range(10,0,-2):\n",
    "    print(i)"
   ]
  },
  {
   "cell_type": "markdown",
   "metadata": {},
   "source": [
    "Existen muchos Obejtos Iterables como se menciono con anterioridad, uno de estos son los String (str)\n",
    "ya que puedes recorrer cada uno de sus elementos como si fuera una lista, por ejemplo."
   ]
  },
  {
   "cell_type": "code",
   "execution_count": null,
   "metadata": {},
   "outputs": [],
   "source": [
    "#Tenemos la siguiente frase \"Hola mundo\"\n",
    "\n",
    "cadena=\"Hola Mundo\" #la palabra cadena ahora tiene asociado el valor str de \"Hola mundo\" como vemos al imprimir el valor\n",
    "\n",
    "print(cadena)\n",
    "\n",
    "#con el ciclo For podemos recorrer cada una de las letras de cadena como se ve acontinuacion"
   ]
  },
  {
   "cell_type": "code",
   "execution_count": null,
   "metadata": {},
   "outputs": [],
   "source": [
    "s=0 #inicio un contador\n",
    "for i in cadena:\n",
    "    print(\"la letra en la posicion \",s,\"es \",i)\n",
    "    s=s+1 #el contador aumenta en 1\n",
    "\n",
    "#se observa como i toma el valor de cada una de las letras de cadena hasta que termina\n",
    "#Nota el espacio tambien se cuenta como cadena"
   ]
  },
  {
   "cell_type": "markdown",
   "metadata": {},
   "source": [
    "Si construyes una lista con una cantidad de palabras puedes extraerlas con el ciclo for de manera mas comoda\n",
    "\n",
    "Por ejemplo puedes usar esto para interactuar con diccionarios de mejor manera."
   ]
  },
  {
   "cell_type": "code",
   "execution_count": null,
   "metadata": {},
   "outputs": [],
   "source": [
    "#creamos una lista con ciudades\n",
    "ciudades=[\"medellin\",\"Bogota\",\"Cali\",\"Bucaramanga\"]\n",
    "#si la indexamos en un ciclo for, podemos obtener los elementos con comodidad\n",
    "for i in ciudades:\n",
    "    print(i)        #se imprime cada ciudad por sepado"
   ]
  },
  {
   "cell_type": "code",
   "execution_count": null,
   "metadata": {},
   "outputs": [],
   "source": [
    "personas=[\"manue\",\"alejandro\",\"jorge\",\"santiago\",\"sofia\",\"sara\"] #otro ejemplo de lo anterior\n",
    "\n",
    "for nombres in personas:\n",
    "    print(nombres)\n",
    "    print(\"son buenas personas\")\n",
    "print(\"esto no es parte del ciclo o la lista\")"
   ]
  },
  {
   "cell_type": "code",
   "execution_count": null,
   "metadata": {},
   "outputs": [],
   "source": [
    "#Supongamos el siguiente diccionario\n",
    "\n",
    "diccionario = {\n",
    "    \"ciudades\": [\"Medellin\", \"Cartagena\", \"Manizales\"],\n",
    "    \"departamentos\": [\"Antioquia\", \"Bolivar\", \"Caldas\"],\n",
    "    \"pueblos\": [\"La Union\", \"Rionegro\", \"Cartago\"]\n",
    "}\n",
    "#como recordaran podemos conseguir una lista de las llaves usando simplemente el metodo .keys\n",
    "#para luego aceder a los datos del diccionaro\n",
    "\n",
    "clave=diccionario.keys()\n",
    "print(clave) #nos da una lista con las keys del diccionario\n",
    "\n"
   ]
  },
  {
   "cell_type": "code",
   "execution_count": null,
   "metadata": {},
   "outputs": [],
   "source": [
    "#El siguiente codigo agregara el sufijo \"son buenas personas\" a cada elemento de la lista al interior del for\n",
    "#y solo al terminar imprimira lo que esta fuera y abajo de el.\n",
    "personas=[\"manue\",\"alejandro\",\"jorge\",\"santiago\",\"sofia\",\"sara\"]\n",
    "\n",
    "for nombres in personas:\n",
    "    print(nombres,\"son buenas personas\")\n",
    "print(\"esto no es parte del ciclo o la lista\")"
   ]
  },
  {
   "cell_type": "code",
   "execution_count": null,
   "metadata": {},
   "outputs": [],
   "source": [
    "#podemos usar esas llaves para acceder a la informacion de cada una, y luego meterla en otro ciclo for para obtener\n",
    "#cada elemento por separado asignando una posicion gracias a un range entre 0 y 3\n",
    "\n",
    "for llave in diccionario.keys(): #se obtiene una llave\n",
    "    for elemento in range (0,3): #se obtiene una posicion\n",
    "        print(diccionario[llave][elemento]) #se evalua esa lista con ese elemento y las posiciones\n",
    "\n",
    "#a lo anterior se le llaman ciclos anidados el ciclo interno ejecutara el print 3 veces por cada llave\n",
    "#esto se ve mejor con el siguiente ejemolo."
   ]
  },
  {
   "cell_type": "code",
   "execution_count": null,
   "metadata": {},
   "outputs": [],
   "source": [
    "#tenemos 2 ciclos anidados, el primero se ejecuta 10 veces y el segundo se ejecuta 3 veces por cada ves que se ejecute el anterior\n",
    "#cada ejecucion d aumenta en 1, por lo que al terminar tendremos que i haumenta hasta 30, lo que es equivalente a 10x3=30\n",
    "#otra forma de decirlo es como 10 veces realiza 3 veces la operacion d+1\n",
    "d=0\n",
    "print(d)\n",
    "for i in range (0,10):\n",
    "    for i in range(0,3):\n",
    "        d=d+1               #instruccion a realizar\n",
    "        print(d, end=\" \")\n",
    "        print(i,end=\"i \")   #instruccion a realizar\n",
    "#se nota que como a cada for lo indexamos con i, esta se reinicia cada que inicia el ciclo interno despues de llegar a 2 contando 3 ciclos (0,1,2)"
   ]
  },
  {
   "cell_type": "code",
   "execution_count": null,
   "metadata": {},
   "outputs": [],
   "source": [
    "#si tuvieramos los ciclos for no anidados el resultado seria muy inferior y tendriamos que colocar la operacion\n",
    "#en cada ciclo para que la realize.\n",
    "d=0\n",
    "print(d)\n",
    "for i in range (0,10):\n",
    "  d=d+1                 #instruccion a realizar\n",
    "  print(d,end=\" \")      #instruccion a realizar\n",
    "\n",
    "for i in range(0,3):\n",
    "    d=d+1               #instruccion a realizar\n",
    "    print(d, end=\" \")   #instruccion a realizar\n",
    "\n",
    "#la suma total no supera los 13 que seria igual a la suma de 10 del primer ciclo y 3 del del segundo"
   ]
  },
  {
   "cell_type": "markdown",
   "metadata": {},
   "source": [
    "# Sentencias Break y Continua\n"
   ]
  },
  {
   "cell_type": "markdown",
   "metadata": {},
   "source": [
    "```Python\n",
    "la palabra reservada \n",
    "break se usa para poder terminar un ciclo asi su iterador no haya terminado\n",
    "asi mismo la palabras continue se usa para forzar la continuacion de un ciclo asi no haya terminado de ejecutar\n",
    "las instrucciones que tenia en su codigo."
   ]
  },
  {
   "cell_type": "code",
   "execution_count": null,
   "metadata": {},
   "outputs": [],
   "source": [
    "# Ejemplo con la sentencia break\n",
    "# Saltarse el 94% del ciclo\n",
    "for i in range (0,100):\n",
    "    print(i,\"%\")       #instrucciones internas al ciclo \n",
    "    if i >= 4:         # el condiciona se cumple cuando el ciclo ya se ha realizado 4 veces por lo que\n",
    "        break          # ejecuta el break que tiene como instruccion \n",
    "print(\"100%\")          #instruccion externa al ciclo\n",
    "\n",
    "#aca podemos ver como en un ciclo normal, abria impreso 100 valores, pero con ese condiccional lo hacemos acceder\n",
    "#accder a un break que fuerza al ciclo for a detenerse y imprimir lo que hay despues de este"
   ]
  },
  {
   "cell_type": "code",
   "execution_count": null,
   "metadata": {},
   "outputs": [],
   "source": [
    "## Ejemplo con la sentencia continue, aca podemos hacer que el ciclo se salte la parte del print y continue ejecutandose\n",
    "# si detecta un valor primo, como lo es 1 y 3, imprimiendo solo los pares\n",
    "## Imprimir los números impares de una coleccion de datos\n",
    "nums = [1, 3, 2, 4, 7, 6, 5, 9, 8, 11, 12, 15, 13, 14, 10]\n",
    "for i in nums:\n",
    "    if i%2 !=0: # el % se llama modulo, me da como resultado el residuo de la division de un numero entre 2\n",
    "                # si es diferente de 0, es un primo\n",
    "        continue\n",
    "    print(i,end=' ')"
   ]
  },
  {
   "cell_type": "code",
   "execution_count": null,
   "metadata": {},
   "outputs": [],
   "source": [
    "# En el siguiente codigo creamos un diccionario vacio y lo llenamos con valores extraidos de una lista de forma automatica\n",
    "# siendo cada Key un numero y a estas asociandoles un nombre hasta que estos se acaban\n",
    "# Prueven a agregar un nuevo nombre a la lista y funcionara igual.\n",
    "\n",
    "nombres={}\n",
    "personas=[\"manue\",\"alejandro\",\"jorge\",\"santiago\",\"sofia\",\"sara\"]\n",
    "s=0\n",
    "for i in personas:\n",
    "    s=s+1\n",
    "    nombres[s]=i\n",
    "\n",
    "print(nombres)\n"
   ]
  },
  {
   "cell_type": "markdown",
   "metadata": {},
   "source": [
    "# Ciclo While"
   ]
  },
  {
   "cell_type": "markdown",
   "metadata": {},
   "source": [
    "Se utiliza para repetir un conjunto de operaciones o instrucciones mientras una condición sea\n",
    "evaluada como verdadera (True). La sintaxis del ciclo while en Python es la siguente:\n",
    "\n",
    "while (condición) :\n",
    "\n",
    "instrucción 1\n",
    "\n",
    "instrucción 2\n",
    "\n",
    ". . .\n",
    "\n",
    "instrucción n\n",
    "\n",
    "El ciclo while, es un ciclo condicional que se puede utilizar de múltiples maneras, entre las cuales\n",
    "se encuentran: controlado por contador, controlado por centinela, controlado por bandera."
   ]
  },
  {
   "cell_type": "markdown",
   "metadata": {},
   "source": [
    "# Importante\n",
    "\n",
    "Si ejecutan un ciclo while sin que haya una condicion que lo frene se ejecutara infinitamente y no podran ejecutar otro codigo, para arreglar eso pueden darle al \"Restar\" en VScode que esta en la misma linea para agregar celdas de texto o codigo, esto cancelara la ejecucion.\n",
    "\n",
    "tambien pueden darle al cuadrado que aparece en el icono de ejecucion.\n",
    "\n",
    "Para hacerlo en **Google Colab** Deben darle en el boton de entorno de ejecucion que se encuentra en la misma linea de \"archivo\" y \"editar\"\n",
    "al darle alli deben dale a \"interrumpir ejecucion\" o \"reiniciar entorno de ejecucion\", cerrar el archivo tambien funciona para ambos casos"
   ]
  },
  {
   "cell_type": "markdown",
   "metadata": {},
   "source": [
    "### Controlado por Contador\n",
    "\n",
    "Se utiliza una variable contadora, la cual se encarga de repetir las sentencias del cuerpo del ciclo\n",
    "while un número de veces fijas, dependiendo de la condición.\n"
   ]
  },
  {
   "cell_type": "code",
   "execution_count": null,
   "metadata": {},
   "outputs": [],
   "source": [
    "#usado de esta manera se comporta de una forma similar al ciclo for, ya que se dentedra cuando se cumpla la condicion\n",
    "\n",
    "variable=5\n",
    "while variable > 0:\n",
    "   variable = variable -1 #variable contadora.\n",
    "   print (\"Actual valor de variable:\", variable)\n",
    "print(\"esto esta fuera del while\")\n",
    "#nota, la variable contadora debe estar dentro del ciclo. "
   ]
  },
  {
   "cell_type": "code",
   "execution_count": null,
   "metadata": {},
   "outputs": [],
   "source": [
    "#continue reinicia el ciclo while saltandose lo que este despues, en este caso se saltara el print de \"actual valor de varible\"\n",
    "# Hay que tener en cuenta que el ciclo while se puede manipilar con los distintos condicionales como lo son\n",
    "# Diferente (!=), igual(==), Mayor que y menor que (<,>) etc por lo que podemos asegurar esto de forma adecuada\n",
    "variable=7\n",
    "while variable < 20:              \n",
    "   variable = variable +1\n",
    "   if variable >= 10 and variable <=15: #se salta los valores de 10 a 15 gracias al continue\n",
    "      continue\n",
    "   print (\"Actual valor de variable:\", variable)\n",
    "print(\"fin del ciclo\")"
   ]
  },
  {
   "cell_type": "code",
   "execution_count": null,
   "metadata": {},
   "outputs": [],
   "source": [
    "#break termina el ciclo de forma forzada lo demas funciona como el anterior\n",
    "variable=10\n",
    "while variable > 0:              \n",
    "   variable = variable -1\n",
    "   if variable == 5:\n",
    "      break\n",
    "   print (\"Actual valor de variable:\", variable)\n",
    "print(\"fin del ciclo\")"
   ]
  },
  {
   "cell_type": "markdown",
   "metadata": {},
   "source": [
    "### Ciclo while controlado por variable centinela\n",
    "\n",
    "\n",
    "A diferencia del ciclo while con contador, el cuál se repetirá un número definido de veces, el ciclo\n",
    "while con centinela se ejecutará hasta que el usuario ingrese un valor, o un proceso retorne un\n",
    "determinado valor, dicho valor se conoce como centinela."
   ]
  },
  {
   "cell_type": "code",
   "execution_count": null,
   "metadata": {},
   "outputs": [],
   "source": [
    "whilelista=[]\n",
    "valor=input(\"introdusca un valor a agregar a la lista, $ para salir\") #si se ingresa $ el ciclo se cierra de forma automatica\n",
    "\n",
    "#sin ello el ciclo se ejecutara infinitamente. El valor se pide 2 veces la primera para inicializar y la siguiente funciona como centinela\n",
    "\n",
    "while valor != \"$\" and int(valor)>0 : \n",
    "   whilelista.append(valor)\n",
    "   print (\"contenido de la lista: \", whilelista)\n",
    "   valor=input(\"introdusca un valor a agregar a la lista, $ para salir\")#Variable Centinela \n",
    "\n",
    "print(\"fin del ciclo\")"
   ]
  },
  {
   "cell_type": "markdown",
   "metadata": {},
   "source": [
    "### Ciclo while con bandera\n",
    "\n",
    "Un ciclo while controlado con bandera hace uso de una variable booleana (conocida como flag o\n",
    "bandera) directamente como su condición.\n",
    "\n",
    "son utiles si quieres que se realice una tarea de forma indefinidia, simplemente colocando la centencia \"while True:\"\n",
    "pero solo se usa si se pose una forma para salir de esta operacion\n"
   ]
  },
  {
   "cell_type": "code",
   "execution_count": null,
   "metadata": {},
   "outputs": [],
   "source": [
    "#Mientras la bandera sea \"True\" el cilo se ejecutara inifinitamente hasta que una condicion interna lo ponga en false\n",
    "#  se parece mucho al ciclo con contador\n",
    "a = 10\n",
    "flag = True #vandera seteada en true\n",
    "while (flag): #mientras a sea mayor que cero\n",
    "    print(a) #instruccion 1\n",
    "    a = a - 1 #instruccion 2 es igual a -= 1\n",
    "    if (a <= 0):\n",
    "        flag = False #control interno que la setea en false\n",
    "print(\"Esto está fuera del while\")"
   ]
  },
  {
   "cell_type": "markdown",
   "metadata": {},
   "source": [
    "### Ejercicio\n",
    "\n",
    "1. haga un programa que busque su nombre en una lista de almenos 5 nombres y haga que devuelva la posicion del elemento.\n",
    "Luego mueva el nombre al principio o al final de la lista. \n",
    "\n",
    "2. Escribir un programa que imprima todos los números pares entre dos números que se le pidan al\n",
    "usuario, [A, B]\n",
    "\n",
    "3. haga un programa que cuenta la cantidad de vocales y espacios de una frase ingresada por consola. \n",
    "\n",
    "\n",
    "4. Leer números enteros del teclado hasta que el usuario ingrese el 0. Finalmente, imprimir la\n",
    "sumatoria de los números ingresados.\n",
    "\n",
    "5. Generemos una tabla de conversión de grados Celsius a Farenheit en el rango [−20, 40] con\n",
    "paso=5, utilizando ciclo while y for: La formala es((9/5)*c)+32\n",
    "\n",
    "6. convierta el codigo anterior a una funcion con rango de temperatura variable.\n"
   ]
  }
 ],
 "metadata": {
  "kernelspec": {
   "display_name": "Python 3.9.13 64-bit",
   "language": "python",
   "name": "python3"
  },
  "language_info": {
   "codemirror_mode": {
    "name": "ipython",
    "version": 3
   },
   "file_extension": ".py",
   "mimetype": "text/x-python",
   "name": "python",
   "nbconvert_exporter": "python",
   "pygments_lexer": "ipython3",
   "version": "3.9.13"
  },
  "orig_nbformat": 4,
  "vscode": {
   "interpreter": {
    "hash": "2469a70536e4d2335a2ea8907942d0699c37342a371ac185bdb5b0aa6f073890"
   }
  }
 },
 "nbformat": 4,
 "nbformat_minor": 2
}
