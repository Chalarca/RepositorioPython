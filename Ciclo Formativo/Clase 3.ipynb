{
 "cells": [
  {
   "cell_type": "markdown",
   "metadata": {},
   "source": [
    "# Funciones"
   ]
  },
  {
   "cell_type": "markdown",
   "metadata": {},
   "source": [
    "Usualmente en el desarrollo de un código debemos usar varias veces el mismo algoritmo, no necesariamente de forma periódica. Es fácil pensar que si quiero calcular un valor estadístico que no esté predefinido por algo el lenguaje de programación, tendremos que ir haciendo `Ctrl+C` y luego `Ctrl+V` del código como tantas veces lo necesitemos por todo nuestro código. Para evitar esto existen las funciones. Con ellas es posible desarrollar de forma ordenada el código y por consiguiente más entendible."
   ]
  },
  {
   "cell_type": "code",
   "execution_count": null,
   "metadata": {},
   "outputs": [],
   "source": [
    "def diferencia (primero,segundo):\n",
    "    difabs=abs(primero)-abs(segundo)\n",
    "    dif=primero-segundo\n",
    "    return dif,difabs"
   ]
  },
  {
   "cell_type": "code",
   "execution_count": null,
   "metadata": {},
   "outputs": [],
   "source": [
    "#variables ingresadas por posicion\n",
    "x,y=diferencia(-20,10)\n",
    "z,w=diferencia(2,-20)\n",
    "print(x,y,z,w)"
   ]
  },
  {
   "cell_type": "code",
   "execution_count": null,
   "metadata": {},
   "outputs": [],
   "source": [
    "#variables ingresadas por nombre\n",
    "x,y=diferencia(segundo=-20,primero=10)\n",
    "\n",
    "print(x,y)"
   ]
  },
  {
   "cell_type": "code",
   "execution_count": null,
   "metadata": {},
   "outputs": [],
   "source": [
    "def calculo():\n",
    "\n",
    "    iva = 19\n",
    "    costo = int(input('¿Cual es el monto a calcular?: '))\n",
    "    calculo = costo * iva / 100\n",
    "    precio=costo-calculo\n",
    "    print (\"El calculo de IVA es: \" + str(calculo) + \"\\n\")\n",
    "    return precio,costo,calculo\n",
    "    \n",
    "    \n"
   ]
  },
  {
   "cell_type": "code",
   "execution_count": null,
   "metadata": {},
   "outputs": [],
   "source": [
    "precio,costo,calculo=calculo()\n",
    "print(f\"valor real\",precio,\"valor pagado\",costo)"
   ]
  },
  {
   "cell_type": "code",
   "execution_count": null,
   "metadata": {},
   "outputs": [],
   "source": [
    "lista=[1,2,3,4,5,6]\n",
    "lista+lista"
   ]
  },
  {
   "cell_type": "markdown",
   "metadata": {},
   "source": [
    "### Ejercicio\n",
    "\n",
    "Cree una funcion que le permita covertir la temperatura en °C a °F y °K e imprima el resultado\n",
    "\n",
    "Recordar ( °C × 9/5) + 32 =  °F y  °C + 273.15 =  K\n",
    "\n",
    "Haga una funcion que calcule la media (promedio) y la mediana de una lista de numeros. \n",
    "\n",
    "Haga una funcion que multiplique, divida, sume o reste por un numero ingresado por consola todos los valores de una lista."
   ]
  },
  {
   "cell_type": "code",
   "execution_count": null,
   "metadata": {},
   "outputs": [],
   "source": [
    "def conversiondetemperatura(t):\n",
    "    f=t*(9/5)+32\n",
    "    k=t+273.15\n",
    "    return f,k"
   ]
  },
  {
   "cell_type": "code",
   "execution_count": null,
   "metadata": {},
   "outputs": [],
   "source": [
    "\n",
    "w,e=conversiondetemperatura(26)\n",
    "print(w,e)"
   ]
  },
  {
   "cell_type": "code",
   "execution_count": null,
   "metadata": {},
   "outputs": [],
   "source": [
    "a=\"S\"\n",
    "b=\"o\""
   ]
  },
  {
   "cell_type": "code",
   "execution_count": null,
   "metadata": {},
   "outputs": [],
   "source": [
    "a+a+a+a+b+a+b"
   ]
  },
  {
   "cell_type": "code",
   "execution_count": null,
   "metadata": {},
   "outputs": [],
   "source": [
    "def medimedia(uhshduyasd):\n",
    "    s=0\n",
    "    for i in uhshduyasd:\n",
    "        r=len(uhshduyasd)\n",
    "        s=s+i\n",
    "        promedio=s/r\n",
    "        t=int(r/2)\n",
    "        mediana=uhshduyasd[t]\n",
    "    return promedio, mediana\n"
   ]
  },
  {
   "cell_type": "code",
   "execution_count": null,
   "metadata": {},
   "outputs": [],
   "source": [
    "ejemplo=[9,8,7,6,5,89]\n",
    "\n",
    "aweaewa,uehiueiue=medimedia(ejemplo)\n",
    "print(aweaewa,uehiueiue)"
   ]
  },
  {
   "cell_type": "markdown",
   "metadata": {},
   "source": [
    "# Numpy"
   ]
  },
  {
   "cell_type": "code",
   "execution_count": null,
   "metadata": {},
   "outputs": [],
   "source": [
    "import numpy as np"
   ]
  },
  {
   "cell_type": "markdown",
   "metadata": {},
   "source": [
    "## Crear un array\n",
    "\n",
    "Un array puede ser creado mediante el uso de datos nativos de python (listas, tuplas,datos\n",
    "básicos) usando la función **numpy.array()**:\n",
    "\n",
    "```python\n",
    "numpy.array(object, dtype=None, copy=True, order='K', subok=False, ndmin=0)\n",
    "```\n",
    "Donde podemos especificar el tipo de datos con *dtype*, el orden con *order* (esto hace referencia el modo \"C\", por filas, o \"F\", por columnas, para el diseño de memoria del arreglo. Generalmente se deja en \"K\" para que automaticamente escoja la mejor opción), la dimensión miníma puede establecerse con con *ndmin*."
   ]
  },
  {
   "cell_type": "code",
   "execution_count": null,
   "metadata": {},
   "outputs": [],
   "source": [
    "lista=[1,2,3,4,5]\n",
    "arreglo=np.array(lista)\n",
    "arreglo"
   ]
  },
  {
   "cell_type": "code",
   "execution_count": null,
   "metadata": {},
   "outputs": [],
   "source": [
    "lista1=[1,2,3,4,5,\"hola\"]\n",
    "arreglo1=np.array(lista1)\n",
    "arreglo1"
   ]
  },
  {
   "cell_type": "code",
   "execution_count": null,
   "metadata": {},
   "outputs": [],
   "source": [
    "lista2=[1,2,3,4,5,\"hola\",True,[1,2,3]]\n",
    "arreglo2=np.array(lista2)\n",
    "arreglo2"
   ]
  },
  {
   "cell_type": "markdown",
   "metadata": {},
   "source": [
    "#Arrays de mas de 1 dimension\n",
    "\n",
    "si las filas o columnas no tienen las mismas dimenciones la creacion del arreglo fallara."
   ]
  },
  {
   "cell_type": "code",
   "execution_count": 46,
   "metadata": {},
   "outputs": [
    {
     "data": {
      "text/plain": [
       "array([[1, 2, 3, 1],\n",
       "       [4, 5, 6, 3],\n",
       "       [7, 8, 9, 4],\n",
       "       [8, 9, 5, 2]])"
      ]
     },
     "execution_count": 46,
     "metadata": {},
     "output_type": "execute_result"
    }
   ],
   "source": [
    "matriz = [[1,2,3,1], [4,5,6,3], [7,8,9,4],[8,9,5,2]]\n",
    "arreglo3 = np.array(matriz)\n",
    "arreglo3"
   ]
  },
  {
   "cell_type": "markdown",
   "metadata": {},
   "source": [
    "lista=[[1,2,3],[4,5,6],[7,8,9]]\n",
    "lista[0:2][0:2]"
   ]
  },
  {
   "cell_type": "code",
   "execution_count": null,
   "metadata": {},
   "outputs": [],
   "source": []
  },
  {
   "cell_type": "markdown",
   "metadata": {},
   "source": [
    "Los arrays pueden tener diferentes atributos, estos son algunos de los mas comunes:\n",
    "\n",
    "- `shape`, `size`, `dtype`, `nbytes`"
   ]
  },
  {
   "cell_type": "code",
   "execution_count": 40,
   "metadata": {},
   "outputs": [
    {
     "data": {
      "text/plain": [
       "(3, 3)"
      ]
     },
     "execution_count": 40,
     "metadata": {},
     "output_type": "execute_result"
    }
   ],
   "source": [
    "arreglo3.shape"
   ]
  },
  {
   "cell_type": "code",
   "execution_count": 41,
   "metadata": {},
   "outputs": [
    {
     "data": {
      "text/plain": [
       "9"
      ]
     },
     "execution_count": 41,
     "metadata": {},
     "output_type": "execute_result"
    }
   ],
   "source": [
    "arreglo3.size"
   ]
  },
  {
   "cell_type": "code",
   "execution_count": 50,
   "metadata": {},
   "outputs": [
    {
     "name": "stdout",
     "output_type": "stream",
     "text": [
      "object\n",
      "<class 'numpy.ndarray'>\n"
     ]
    },
    {
     "data": {
      "text/plain": [
       "'[[1 2 3 1]\\n [4 5 6 3]\\n [7 8 9 4]\\n [8 9 5 2]]'"
      ]
     },
     "execution_count": 50,
     "metadata": {},
     "output_type": "execute_result"
    }
   ],
   "source": [
    "print(arreglo2.dtype)\n",
    "print(type(arreglo1))\n",
    "arreglo3.dtype\n"
   ]
  },
  {
   "cell_type": "code",
   "execution_count": 51,
   "metadata": {},
   "outputs": [
    {
     "name": "stdout",
     "output_type": "stream",
     "text": [
      "[[1 2 3 1]\n",
      " [4 5 6 3]\n",
      " [7 8 9 4]\n",
      " [8 9 5 2]]\n",
      "[[1 4 7 8]\n",
      " [2 5 8 9]\n",
      " [3 6 9 5]\n",
      " [1 3 4 2]]\n",
      "[[1 4 7 8]\n",
      " [2 5 8 9]\n",
      " [3 6 9 5]\n",
      " [1 3 4 2]]\n"
     ]
    }
   ],
   "source": [
    "#para la transpuesta se puede usar el metodo .T o .transpose()\n",
    "print(arreglo3)\n",
    "print(arreglo3.T)\n",
    "print(arreglo3.transpose())"
   ]
  },
  {
   "cell_type": "markdown",
   "metadata": {},
   "source": [
    "# np.arrange \n",
    "\n",
    "numpy.arange(start, stop, step, dtype=None, *, like=None)\n",
    "\n",
    "genera un arreglo secuencial con los parametros dados."
   ]
  },
  {
   "cell_type": "code",
   "execution_count": 57,
   "metadata": {},
   "outputs": [
    {
     "ename": "ValueError",
     "evalue": "no fill-function for data-type.",
     "output_type": "error",
     "traceback": [
      "\u001b[1;31m---------------------------------------------------------------------------\u001b[0m",
      "\u001b[1;31mValueError\u001b[0m                                Traceback (most recent call last)",
      "\u001b[1;32m~\\AppData\\Local\\Temp/ipykernel_10300/1224220566.py\u001b[0m in \u001b[0;36m<module>\u001b[1;34m\u001b[0m\n\u001b[1;32m----> 1\u001b[1;33m \u001b[0mnp\u001b[0m\u001b[1;33m.\u001b[0m\u001b[0marange\u001b[0m\u001b[1;33m(\u001b[0m\u001b[0mstart\u001b[0m \u001b[1;33m=\u001b[0m \u001b[1;36m2\u001b[0m\u001b[1;33m,\u001b[0m \u001b[0mstop\u001b[0m \u001b[1;33m=\u001b[0m \u001b[1;36m50\u001b[0m\u001b[1;33m,\u001b[0m \u001b[0mstep\u001b[0m \u001b[1;33m=\u001b[0m \u001b[1;36m5\u001b[0m\u001b[1;33m,\u001b[0m \u001b[0mdtype\u001b[0m \u001b[1;33m=\u001b[0m \u001b[1;34m\"str_\"\u001b[0m\u001b[1;33m)\u001b[0m\u001b[1;33m\u001b[0m\u001b[1;33m\u001b[0m\u001b[0m\n\u001b[0m",
      "\u001b[1;31mValueError\u001b[0m: no fill-function for data-type."
     ]
    }
   ],
   "source": [
    "np.arange(start = 2, stop = 50, step = 5, dtype = \"float32\")"
   ]
  },
  {
   "cell_type": "code",
   "execution_count": 54,
   "metadata": {},
   "outputs": [
    {
     "data": {
      "text/plain": [
       "array([], dtype=int32)"
      ]
     },
     "execution_count": 54,
     "metadata": {},
     "output_type": "execute_result"
    }
   ],
   "source": [
    "np.arange(50, 2, 10)"
   ]
  },
  {
   "cell_type": "markdown",
   "metadata": {},
   "source": [
    "# np.linspace\n",
    "\n",
    "np.linspace(start, stop, num)\n",
    "\n",
    "genera una arreglo de valores con la cantidad indicada entre el inicio y el final. "
   ]
  },
  {
   "cell_type": "code",
   "execution_count": 61,
   "metadata": {},
   "outputs": [
    {
     "data": {
      "text/plain": [
       "array([ 1.        ,  2.02083333,  3.04166667,  4.0625    ,  5.08333333,\n",
       "        6.10416667,  7.125     ,  8.14583333,  9.16666667, 10.1875    ,\n",
       "       11.20833333, 12.22916667, 13.25      , 14.27083333, 15.29166667,\n",
       "       16.3125    , 17.33333333, 18.35416667, 19.375     , 20.39583333,\n",
       "       21.41666667, 22.4375    , 23.45833333, 24.47916667, 25.5       ,\n",
       "       26.52083333, 27.54166667, 28.5625    , 29.58333333, 30.60416667,\n",
       "       31.625     , 32.64583333, 33.66666667, 34.6875    , 35.70833333,\n",
       "       36.72916667, 37.75      , 38.77083333, 39.79166667, 40.8125    ,\n",
       "       41.83333333, 42.85416667, 43.875     , 44.89583333, 45.91666667,\n",
       "       46.9375    , 47.95833333, 48.97916667, 50.        ])"
      ]
     },
     "execution_count": 61,
     "metadata": {},
     "output_type": "execute_result"
    }
   ],
   "source": [
    "np.linspace(start = 1, stop = 50, num = 49)"
   ]
  },
  {
   "cell_type": "markdown",
   "metadata": {},
   "source": [
    "# np.random.rand()\n",
    "\n",
    "np.random.rand(rows, columns) me crea una arreglo de nxm con numeros aleatorios entre 0 y 1\n",
    "\n",
    "tambien se puede usar numpy.random.uniform() para una estructura un poco mas ordenada"
   ]
  },
  {
   "cell_type": "code",
   "execution_count": 66,
   "metadata": {},
   "outputs": [
    {
     "data": {
      "text/plain": [
       "array([[2, 6, 9],\n",
       "       [9, 8, 1],\n",
       "       [5, 3, 6]])"
      ]
     },
     "execution_count": 66,
     "metadata": {},
     "output_type": "execute_result"
    }
   ],
   "source": [
    "np.int32(np.random.rand(3, 3)*10)"
   ]
  },
  {
   "cell_type": "code",
   "execution_count": 67,
   "metadata": {},
   "outputs": [
    {
     "data": {
      "text/plain": [
       "array([[19.65698375, 82.07758418, 38.67629635],\n",
       "       [56.53536135, 35.8027944 , 86.21595809],\n",
       "       [41.22757176, 14.78373617,  5.65612343],\n",
       "       [53.11531844, 57.11362764,  8.09029824],\n",
       "       [69.79423044, 48.01961937, 47.36926151]])"
      ]
     },
     "execution_count": 67,
     "metadata": {},
     "output_type": "execute_result"
    }
   ],
   "source": [
    "np.random.rand(5, 3)*100"
   ]
  },
  {
   "cell_type": "code",
   "execution_count": 69,
   "metadata": {},
   "outputs": [
    {
     "data": {
      "text/plain": [
       "array([[3.82058977, 3.02717653, 2.0128127 , 2.90385807, 2.62787153],\n",
       "       [1.60665861, 3.89052748, 2.95067492, 3.64356458, 1.15365582],\n",
       "       [3.23731714, 1.09076219, 1.27780501, 2.95962066, 3.52079366],\n",
       "       [2.68562134, 3.62117791, 1.65602842, 3.75864647, 2.67783852],\n",
       "       [1.53176675, 3.27317013, 1.28531581, 2.15879302, 2.58865759]])"
      ]
     },
     "execution_count": 69,
     "metadata": {},
     "output_type": "execute_result"
    }
   ],
   "source": [
    "np.random.uniform(1, 4, [5,5])"
   ]
  },
  {
   "cell_type": "markdown",
   "metadata": {},
   "source": [
    "# metodo .copy()"
   ]
  },
  {
   "cell_type": "code",
   "execution_count": 70,
   "metadata": {},
   "outputs": [],
   "source": [
    "ejemplo=[1,2,3,4,5]\n",
    "demostracion=ejemplo"
   ]
  },
  {
   "cell_type": "code",
   "execution_count": 71,
   "metadata": {},
   "outputs": [
    {
     "name": "stdout",
     "output_type": "stream",
     "text": [
      "[1, 2, 3, 4, 5, 'queda en ambos']\n",
      "[1, 2, 3, 4, 5, 'queda en ambos']\n"
     ]
    }
   ],
   "source": [
    "demostracion.append(\"queda en ambos\")\n",
    "print(ejemplo)\n",
    "print(demostracion)"
   ]
  },
  {
   "cell_type": "code",
   "execution_count": 76,
   "metadata": {},
   "outputs": [
    {
     "name": "stdout",
     "output_type": "stream",
     "text": [
      "[1, 2, 3, 4, 5, 'queda en ambos']\n",
      "[1, 2, 3, 4, 5, 'queda en ambos', 'solo en demostracion2 sjhadbhasbdabsd']\n"
     ]
    }
   ],
   "source": [
    "demostracion2=ejemplo.copy()\n",
    "demostracion2.append(\"solo en demostracion2 sjhadbhasbdabsd\")\n",
    "print(ejemplo)\n",
    "print(demostracion2)"
   ]
  },
  {
   "cell_type": "markdown",
   "metadata": {},
   "source": [
    "# Ejercicio\n",
    "\n",
    "Cree 2 arreglos de 5x5 mediante cualquiera de los metodos vistos y calcule su suma,resta,multiplicacion y division.\n",
    "\n",
    "haga lo mismo pero use la funcion np.matmul(), busque su documentacion.\n",
    "\n",
    "busque una funcion que le permita hayar el producto punto de 2 matrices.\n",
    "\n",
    "encuentre la forma de hacer una matriz identidad de 10x10. "
   ]
  },
  {
   "cell_type": "code",
   "execution_count": 85,
   "metadata": {},
   "outputs": [],
   "source": [
    "matriz = [[1,2,3,1], [4,5,6,3], [7,8,9,4],[8,9,5,2]]\n",
    "matrizR=np.array(matriz)\n",
    "matrizR2=(matrizR*2).copy()\n",
    "\n"
   ]
  },
  {
   "cell_type": "code",
   "execution_count": 90,
   "metadata": {},
   "outputs": [
    {
     "data": {
      "text/plain": [
       "array([[ 76,  90,  94,  42],\n",
       "       [180, 216, 222,  98],\n",
       "       [268, 324, 340, 150],\n",
       "       [190, 238, 266, 118]])"
      ]
     },
     "execution_count": 90,
     "metadata": {},
     "output_type": "execute_result"
    }
   ],
   "source": [
    "matrizR+matrizR2\n",
    "\n",
    "matrizR\n",
    "np.matmul(matrizR,matrizR2)\n"
   ]
  },
  {
   "cell_type": "code",
   "execution_count": 86,
   "metadata": {},
   "outputs": [
    {
     "name": "stdout",
     "output_type": "stream",
     "text": [
      "[[1 2 3 1]\n",
      " [4 5 6 3]\n",
      " [7 8 9 4]\n",
      " [8 9 5 2]]\n",
      "[[ 2  4  6  2]\n",
      " [ 8 10 12  6]\n",
      " [14 16 18  8]\n",
      " [16 18 10  4]]\n"
     ]
    }
   ],
   "source": [
    "\n",
    "print(matrizR)\n",
    "print(matrizR2)"
   ]
  },
  {
   "cell_type": "markdown",
   "metadata": {},
   "source": [
    "# Matplotlib"
   ]
  },
  {
   "cell_type": "code",
   "execution_count": 1,
   "metadata": {},
   "outputs": [],
   "source": [
    "import numpy as np\n",
    "import matplotlib.pyplot as plt"
   ]
  },
  {
   "cell_type": "markdown",
   "metadata": {},
   "source": [
    "matplotlib.pyplot es una coleccion de funciones que le permiten a python trabajar como matlab, permitiendote visualizar graficas y cambiar caracteristicas como nombres, indicaciones, ejes, etiquetas y demas. \n",
    "\n"
   ]
  },
  {
   "cell_type": "markdown",
   "metadata": {},
   "source": [
    "### Funcion plot"
   ]
  },
  {
   "cell_type": "code",
   "execution_count": 2,
   "metadata": {},
   "outputs": [
    {
     "data": {
      "image/png": "[encoded data removed]",
      "text/plain": [
       "<Figure size 432x288 with 1 Axes>"
      ]
     },
     "metadata": {
      "needs_background": "light"
     },
     "output_type": "display_data"
    }
   ],
   "source": [
    "#para visualizar es un proceso similar al de mathlab \n",
    "plt.plot([1, 2, 3, 4])\n",
    "plt.ylabel('some numbers')\n",
    "plt.show() #muestra el eje x por posicion del elemento en la lista \n",
    "\n"
   ]
  },
  {
   "cell_type": "code",
   "execution_count": 11,
   "metadata": {},
   "outputs": [
    {
     "data": {
      "image/png": "[encoded data removed]",
      "text/plain": [
       "<Figure size 432x288 with 1 Axes>"
      ]
     },
     "metadata": {
      "needs_background": "light"
     },
     "output_type": "display_data"
    }
   ],
   "source": [
    "plt.plot([1, 2, 3, 4], [1, 4, 9, 16]) #plot va ha hacer una grafica al asignarle ejes a cada elemento. \n",
    "\n",
    "#plt.plot([1, 2, 3, 4], [1, 4, 9, 16], 'ro')\n",
    "#plt.axis([0, 6, 0, 20])\n",
    "plt.show()\n"
   ]
  },
  {
   "cell_type": "code",
   "execution_count": null,
   "metadata": {},
   "outputs": [],
   "source": [
    "t = np.arange(0., 5., 0.2)\n",
    "\n",
    "# red dashes, blue squares and green triangles\n",
    "plt.plot(t, t, 'r--', t, t**2, 'bs', t, t**3, 'g^')\n",
    "plt.show()"
   ]
  },
  {
   "cell_type": "code",
   "execution_count": 9,
   "metadata": {},
   "outputs": [
    {
     "data": {
      "text/plain": [
       "[<matplotlib.lines.Line2D at 0x16042ee2d60>]"
      ]
     },
     "execution_count": 9,
     "metadata": {},
     "output_type": "execute_result"
    },
    {
     "data": {
      "image/png": "[encoded data removed]",
      "text/plain": [
       "<Figure size 432x288 with 1 Axes>"
      ]
     },
     "metadata": {
      "needs_background": "light"
     },
     "output_type": "display_data"
    }
   ],
   "source": [
    "\n",
    "\n",
    "x = np.linspace(-10, 10, 100)#inicio, final, divisiones\n",
    "y = np.sin(x)\n",
    "\n",
    "\n",
    "#plt.figure(figsize = (10, 5))\n",
    "plt.plot(x, y, marker = \"x\")\n",
    "#plt.xlabel(\"angulo\")"
   ]
  },
  {
   "cell_type": "code",
   "execution_count": 12,
   "metadata": {},
   "outputs": [
    {
     "data": {
      "image/png": "[encoded data removed]",
      "text/plain": [
       "<Figure size 720x360 with 1 Axes>"
      ]
     },
     "metadata": {
      "needs_background": "light"
     },
     "output_type": "display_data"
    }
   ],
   "source": [
    "x = np.linspace(-10, 10, 100) \n",
    "y_sin = np.sin(x)\n",
    "y_cos = np.cos(x)\n",
    "y_tan = np.tan(x)\n",
    "# Graficar dos lineas\n",
    "\n",
    "plt.figure(figsize = (10, 5))\n",
    "plt.plot(x, y_sin)\n",
    "plt.plot(x, y_cos)\n",
    "plt.plot(x, y_tan)\n",
    "\n",
    "plt.title(\"Grafica de Sin(x) Cos(x) tan(x)\")\n",
    "plt.xlabel(\"datos\")\n",
    "plt.ylabel(\"Amplitud\")\n",
    "plt.legend([\"Sin(x)\", \"Cos(x)\", \"tan(x)\"])\n",
    "plt.grid(color = \"grey\", linestyle = \"--\", linewidth = 0.5)"
   ]
  },
  {
   "cell_type": "markdown",
   "id": "4ef9a552",
   "metadata": {},
   "source": [
    "# Scatter plot\n",
    "Existen casos en los que los datos se presentan en un formato que le permite acceder a variables particulares mediante una palabra clave, como lo puede ser un diccionario de datos un DataFrame, cuando esto suceda se puede utilizar un scatter plot\n",
    "\n",
    "matplotlib.pyplot.scatter(x_axis_data, y_axis_data, s=None, c=None, marker=None, cmap=None, vmin=None, vmax=None, alpha=None, linewidths=None, edgecolors=None) \n",
    "\n",
    "x_axis_data: una matriz que contiene datos del eje x\n",
    "\n",
    "y_axis_data: una matriz que contiene datos del eje y\n",
    "\n",
    "s- tamaño del marcador (puede ser escalar o matriz de tamaño igual al tamaño de x o y)\n",
    "\n",
    "c- color de secuencia de colores para marcadores\n",
    "\n",
    "marker: estilo de marcador\n",
    "\n",
    "cmap- nombre de cmap\n",
    "\n",
    "linewidths: ancho del borde del marcador\n",
    "\n",
    "edgecolors: color del borde del marcador\n",
    "\n",
    "alpha: valor de mezcla , entre 0 (transparente) y 1 (opaco)"
   ]
  },
  {
   "cell_type": "code",
   "execution_count": null,
   "metadata": {},
   "outputs": [],
   "source": [
    "dic_datos = {\n",
    "    \"a\": np.arange(50),\n",
    "    \"c\": np.random.randint(0, 50, 50),\n",
    "    \"d\": np.random.rand(50)\n",
    "}\n",
    "\n",
    "dic_datos[\"b\"] = dic_datos[\"a\"] + 10 * dic_datos[\"d\"]\n",
    "dic_datos[\"d\"] = np.abs(dic_datos[\"d\"])*100\n",
    "\n",
    "plt.figure(figsize = (10, 5))\n",
    "plt.scatter(\"a\", \"b\", c = \"c\", s = \"d\", data = dic_datos, alpha = 1)\n",
    "plt.title(\"Grafica de dispersion\")\n",
    "plt.xlabel(\"datos\")\n",
    "plt.ylabel(\"frecuencia\");"
   ]
  },
  {
   "cell_type": "markdown",
   "metadata": {},
   "source": [
    "## Subplots"
   ]
  },
  {
   "cell_type": "code",
   "execution_count": 13,
   "metadata": {},
   "outputs": [
    {
     "data": {
      "text/plain": [
       "Text(0, 0.5, 'Amplitud')"
      ]
     },
     "execution_count": 13,
     "metadata": {},
     "output_type": "execute_result"
    },
    {
     "data": {
      "image/png": "[encoded data removed]",
      "text/plain": [
       "<Figure size 1152x288 with 3 Axes>"
      ]
     },
     "metadata": {
      "needs_background": "light"
     },
     "output_type": "display_data"
    }
   ],
   "source": [
    "names = [\"Automovil\", \"Bus\", \"Tractomulas\", \"Bicicletas\"]\n",
    "values = [100, 20, 5, 80]\n",
    "\n",
    "x = np.linspace(-10, 10, 100)\n",
    "y = np.sin(x)\n",
    "\n",
    "plt.figure(figsize = (16, 4))\n",
    "\n",
    "plt.subplot(1, 3, 1) #dimensiones del plot: alto, ancho, posicion de la fig\n",
    "plt.bar(names, values, color = [\"#59C7F3\", \"r\", \"g\", \"#59F3CD\"])\n",
    "plt.title(\"Grafica de barras\")\n",
    "plt.xticks(rotation = 90)\n",
    "\n",
    "plt.subplot(1, 3, 2)\n",
    "plt.scatter(names, values)\n",
    "plt.title(\"Grafica de dispersion\")\n",
    "plt.xticks(rotation = 90)\n",
    "\n",
    "plt.subplot(1, 3, 3)\n",
    "plt.plot(x, y, marker = \"x\", color = \"r\")\n",
    "plt.title(\"Grafica de Sin(x)\")\n",
    "plt.xlabel(\"datos\")\n",
    "plt.ylabel(\"Amplitud\")"
   ]
  },
  {
   "cell_type": "markdown",
   "metadata": {},
   "source": [
    "# Ejercicio\n",
    "\n",
    "grafique en un sub plot la grafica de coseno.\n",
    "\n",
    "haga 2 listas de numeros random, la primera sera el elemento X y la segunda el Y, haga una grafica de dispersion. \n",
    "\n"
   ]
  }
 ],
 "metadata": {
  "kernelspec": {
   "display_name": "Python 3.9.13 64-bit",
   "language": "python",
   "name": "python3"
  },
  "language_info": {
   "codemirror_mode": {
    "name": "ipython",
    "version": 3
   },
   "file_extension": ".py",
   "mimetype": "text/x-python",
   "name": "python",
   "nbconvert_exporter": "python",
   "pygments_lexer": "ipython3",
   "version": "3.9.13 (tags/v3.9.13:6de2ca5, May 17 2022, 16:36:42) [MSC v.1929 64 bit (AMD64)]"
  },
  "orig_nbformat": 4,
  "vscode": {
   "interpreter": {
    "hash": "2469a70536e4d2335a2ea8907942d0699c37342a371ac185bdb5b0aa6f073890"
   }
  }
 },
 "nbformat": 4,
 "nbformat_minor": 2
}
