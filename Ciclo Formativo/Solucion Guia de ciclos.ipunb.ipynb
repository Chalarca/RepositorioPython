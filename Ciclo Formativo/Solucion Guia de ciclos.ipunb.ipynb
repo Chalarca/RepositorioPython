{
 "cells": [
  {
   "cell_type": "markdown",
   "metadata": {},
   "source": [
    "### Ejercicio\n",
    "\n",
    "1. haga un programa que busque su nombre en una lista de almenos 5 nombres y haga que devuelva la posicion del elemento.\n",
    "Luego mueva el nombre al principio o al final de la lista. \n",
    "\n",
    "2. Escribir un programa que imprima todos los números pares entre dos números que se le pidan al\n",
    "usuario, [A, B]\n",
    "\n",
    "3. haga un programa que cuenta la cantidad de vocales y espacios de una frase ingresada por consola. \n",
    "\n",
    "\n",
    "4. Leer números enteros del teclado hasta que el usuario ingrese el 0. Finalmente, imprimir la\n",
    "sumatoria de los números ingresados.\n",
    "\n",
    "5. Generemos una tabla de conversión de grados Celsius a Farenheit en el rango [−20, 40] con\n",
    "paso=5, utilizando ciclo while y for: La formala es((9/5)*c)+32\n",
    "\n",
    "6. convierta el codigo anterior a una funcion con rango de temperatura variable.\n"
   ]
  },
  {
   "cell_type": "code",
   "execution_count": 3,
   "metadata": {},
   "outputs": [
    {
     "name": "stdout",
     "output_type": "stream",
     "text": [
      "['manuel', 'jorge', 'pedro', 'juan', 'sara', 'alejandro']\n"
     ]
    }
   ],
   "source": [
    "personas=[\"manuel\",\"alejandro\",\"jorge\",\"pedro\",\"juan\",\"sara\"]\n",
    "s=0\n",
    "for i in personas:\n",
    "    if i == \"alejandro\":\n",
    "        d=personas.pop(s)\n",
    "        personas.append(d)\n",
    "    s=s+1\n",
    "print(personas)"
   ]
  },
  {
   "cell_type": "code",
   "execution_count": 6,
   "metadata": {},
   "outputs": [
    {
     "name": "stdout",
     "output_type": "stream",
     "text": [
      "0 2 4 6 8 10 12 14 16 18 20 "
     ]
    }
   ],
   "source": [
    "a1=int(input())\n",
    "a2=int(input())\n",
    "\n",
    "for i in range(a1,a2+1):\n",
    "    if i%2==0:\n",
    "        print(i, end=\" \")\n"
   ]
  },
  {
   "cell_type": "code",
   "execution_count": 9,
   "metadata": {},
   "outputs": [
    {
     "name": "stdout",
     "output_type": "stream",
     "text": [
      "esa frase tiene 50 vocales o espacios\n"
     ]
    }
   ],
   "source": [
    "frase=str(input())\n",
    "count=0\n",
    "for i in frase:\n",
    "    if i== \"a\" or i== \"e\" or i==\"i\" or i==\"o\" or i==\"u\" or i==\" \":\n",
    "        count=count+1\n",
    "print(\"esa frase tiene\",count, \"vocales o espacios\")"
   ]
  },
  {
   "cell_type": "code",
   "execution_count": 11,
   "metadata": {},
   "outputs": [
    {
     "name": "stdout",
     "output_type": "stream",
     "text": [
      "el ciclo ha terminad, la suma de los valores ingresados es 54434234242393\n"
     ]
    }
   ],
   "source": [
    "flag=int(input())\n",
    "suma=0\n",
    "while flag!=0:\n",
    "    suma=suma+flag\n",
    "    flag=int(input())\n",
    "print(\"el ciclo ha terminad, la suma de los valores ingresados es\", suma)"
   ]
  },
  {
   "cell_type": "code",
   "execution_count": 12,
   "metadata": {},
   "outputs": [
    {
     "name": "stdout",
     "output_type": "stream",
     "text": [
      "-20 celcius corresponden a -4.0 grados farenheit\n",
      "-15 celcius corresponden a 5.0 grados farenheit\n",
      "-10 celcius corresponden a 14.0 grados farenheit\n",
      "-5 celcius corresponden a 23.0 grados farenheit\n",
      "0 celcius corresponden a 32.0 grados farenheit\n",
      "5 celcius corresponden a 41.0 grados farenheit\n",
      "10 celcius corresponden a 50.0 grados farenheit\n",
      "15 celcius corresponden a 59.0 grados farenheit\n",
      "20 celcius corresponden a 68.0 grados farenheit\n",
      "25 celcius corresponden a 77.0 grados farenheit\n",
      "30 celcius corresponden a 86.0 grados farenheit\n",
      "35 celcius corresponden a 95.0 grados farenheit\n",
      "40 celcius corresponden a 104.0 grados farenheit\n"
     ]
    }
   ],
   "source": [
    "for i in range(-20,41, 5):\n",
    "    faren=((9/5)*i)+32\n",
    "    print(i,\"celcius corresponden a\", faren, \"grados farenheit\")"
   ]
  },
  {
   "cell_type": "code",
   "execution_count": 15,
   "metadata": {},
   "outputs": [],
   "source": [
    "def temperatura(liminf,limsup):\n",
    "    for i in range(liminf,limsup+1, 5):\n",
    "        faren=((9/5)*i)+32\n",
    "        print(i,\"celcius corresponden a\", faren, \"grados farenheit\")\n",
    "    "
   ]
  },
  {
   "cell_type": "code",
   "execution_count": 16,
   "metadata": {},
   "outputs": [
    {
     "name": "stdout",
     "output_type": "stream",
     "text": [
      "-20 celcius corresponden a -4.0 grados farenheit\n",
      "-15 celcius corresponden a 5.0 grados farenheit\n",
      "-10 celcius corresponden a 14.0 grados farenheit\n",
      "-5 celcius corresponden a 23.0 grados farenheit\n",
      "0 celcius corresponden a 32.0 grados farenheit\n",
      "5 celcius corresponden a 41.0 grados farenheit\n",
      "10 celcius corresponden a 50.0 grados farenheit\n",
      "15 celcius corresponden a 59.0 grados farenheit\n",
      "20 celcius corresponden a 68.0 grados farenheit\n",
      "25 celcius corresponden a 77.0 grados farenheit\n",
      "30 celcius corresponden a 86.0 grados farenheit\n",
      "35 celcius corresponden a 95.0 grados farenheit\n",
      "40 celcius corresponden a 104.0 grados farenheit\n"
     ]
    }
   ],
   "source": [
    "a=int(input())\n",
    "w=int(input())\n",
    "\n",
    "temperatura(a,w)"
   ]
  }
 ],
 "metadata": {
  "kernelspec": {
   "display_name": "Python 3.9.13 64-bit",
   "language": "python",
   "name": "python3"
  },
  "language_info": {
   "codemirror_mode": {
    "name": "ipython",
    "version": 3
   },
   "file_extension": ".py",
   "mimetype": "text/x-python",
   "name": "python",
   "nbconvert_exporter": "python",
   "pygments_lexer": "ipython3",
   "version": "3.9.13"
  },
  "orig_nbformat": 4,
  "vscode": {
   "interpreter": {
    "hash": "2469a70536e4d2335a2ea8907942d0699c37342a371ac185bdb5b0aa6f073890"
   }
  }
 },
 "nbformat": 4,
 "nbformat_minor": 2
}
