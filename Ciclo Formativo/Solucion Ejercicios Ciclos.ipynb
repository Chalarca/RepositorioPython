{
 "cells": [
  {
   "cell_type": "markdown",
   "metadata": {},
   "source": [
    "### Ejercicio\n",
    "\n",
    "1. haga un programa que busque su nombre en una lista de almenos 5 nombres y haga que devuelva la posicion del elemento.\n",
    "Luego mueva el nombre al principio o al final de la lista. \n",
    "\n",
    "2. Escribir un programa que imprima todos los números pares entre dos números que se le pidan al\n",
    "usuario, [A, B]\n",
    "\n",
    "3. haga un programa que cuenta la cantidad de vocales y espacios de una frase ingresada por consola. \n",
    "\n",
    "\n",
    "4. Leer números enteros del teclado hasta que el usuario ingrese el 0. Finalmente, imprimir la\n",
    "sumatoria de los números ingresados.\n",
    "\n",
    "5. Generemos una tabla de conversión de grados Celsius a Farenheit en el rango [−20, 40] con\n",
    "paso=5, utilizando ciclo while y for: La formala es((9/5)*c)+32\n",
    "\n",
    "6. convierta el codigo anterior a una funcion con rango de temperatura variable.\n"
   ]
  },
  {
   "cell_type": "code",
   "execution_count": null,
   "metadata": {},
   "outputs": [],
   "source": [
    "personas=[\"manuel\",\"alejandro\",\"jorge\",\"santiago\",\"sofia\",\"sara\"]\n",
    "s=0\n",
    "for i in personas:\n",
    "    \n",
    "    if i == \"alejandro\":\n",
    "        f=personas.pop(s)\n",
    "        personas.append(f)\n",
    "    s=s+1\n",
    "print(personas)"
   ]
  },
  {
   "cell_type": "code",
   "execution_count": null,
   "metadata": {},
   "outputs": [],
   "source": [
    "a1=int(input())\n",
    "a2=int(input())\n",
    "for i in range(a1,a2):\n",
    "    if i%2==0:\n",
    "        print(i,end=\" \")"
   ]
  },
  {
   "cell_type": "code",
   "execution_count": null,
   "metadata": {},
   "outputs": [],
   "source": [
    "palabra=str(input())\n",
    "count=0\n",
    "for i in palabra:\n",
    "    if i==\"o\" or i== \"a\" or i==\"i\" or i== \"e\" or i==\"u\" or i==\" \":\n",
    "        count=count+1\n",
    "print(\"esa frase tiene\", count, \"vocales o espacios\")\n"
   ]
  },
  {
   "cell_type": "code",
   "execution_count": null,
   "metadata": {},
   "outputs": [],
   "source": [
    "suma=0\n",
    "numero=0\n",
    "flag=int(input())\n",
    "while flag!=0:\n",
    "    suma=suma+flag\n",
    "    flag=int(input())\n",
    "print(\"el ciclo termino, la suma total es\", suma)"
   ]
  },
  {
   "cell_type": "code",
   "execution_count": null,
   "metadata": {},
   "outputs": [],
   "source": [
    "for i in range(-20,41,5):\n",
    "    faren=((9/5)*i)+32\n",
    "    print(i, \"Cecius son\", faren, \"grados Farenheit\")"
   ]
  },
  {
   "cell_type": "code",
   "execution_count": null,
   "metadata": {},
   "outputs": [],
   "source": [
    "def temperatura(ti,tm):\n",
    "    for i in range(ti,tm,5):\n",
    "        faren=((9/5)*i)+32\n",
    "        print(i, \"Cecius son\", faren, \"grados Farenheit\")\n",
    "\n",
    "liminf=int(input())\n",
    "limsup=int(input())\n",
    "\n",
    "temperatura(liminf,limsup)"
   ]
  }
 ],
 "metadata": {
  "kernelspec": {
   "display_name": "Python 3.9.13 64-bit",
   "language": "python",
   "name": "python3"
  },
  "language_info": {
   "codemirror_mode": {
    "name": "ipython",
    "version": 3
   },
   "file_extension": ".py",
   "mimetype": "text/x-python",
   "name": "python",
   "nbconvert_exporter": "python",
   "pygments_lexer": "ipython3",
   "version": "3.9.13"
  },
  "orig_nbformat": 4,
  "vscode": {
   "interpreter": {
    "hash": "2469a70536e4d2335a2ea8907942d0699c37342a371ac185bdb5b0aa6f073890"
   }
  }
 },
 "nbformat": 4,
 "nbformat_minor": 2
}
