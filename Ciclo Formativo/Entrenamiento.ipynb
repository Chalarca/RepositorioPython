{
 "cells": [
  {
   "cell_type": "code",
   "execution_count": 1,
   "metadata": {},
   "outputs": [],
   "source": [
    "import numpy as np\n",
    "import pandas as pd\n",
    "import os\n",
    "import seaborn as sns\n",
    "import matplotlib.pyplot as plt\n",
    "import sklearn as skl\n"
   ]
  },
  {
   "cell_type": "code",
   "execution_count": 4,
   "metadata": {},
   "outputs": [
    {
     "data": {
      "text/plain": [
       "(9976, 40)"
      ]
     },
     "execution_count": 4,
     "metadata": {},
     "output_type": "execute_result"
    }
   ],
   "source": [
    "data=pd.read_excel(r\"C:\\Users\\ACER\\Documents\\Proyectos Visual Studio\\Python-Jupyther\\Ciencia de Datos\\Contenido Sincronico\\datasets\\Data DS Cotton Plus.xlsx\", sheet_name=\"BD\")\n",
    "data.shape\n"
   ]
  },
  {
   "cell_type": "code",
   "execution_count": 5,
   "metadata": {},
   "outputs": [
    {
     "data": {
      "text/plain": [
       "' seg2=Segmento.copy()\\ns=-1\\nfor i in Segmento:\\n    s=s+1\\n    if i == \"Adictos\":\\n        seg2[s]=1\\n    elif i == \"Aficionados\":\\n        seg2[s]=2\\n    elif i == \"Esporádicos\":\\n        seg2[s]=3\\n    elif i == \"Curiosos\":\\n        seg2[s]=4\\n    elif i == \"Inactivo\":\\n        seg2[s]=5\\nseg2 '"
      ]
     },
     "execution_count": 5,
     "metadata": {},
     "output_type": "execute_result"
    }
   ],
   "source": [
    "Monto20= data[\"Monto Comprado 2020\"].copy()\n",
    "Segmento=data.loc[:,[\"Segmento\"]].values\n",
    "Recencia=data[\"Recencia (Tiempo transcurrido en semanas desde su ultima compra)\"].copy()\n",
    "Id=data[\"Cedula\"].copy()\n",
    "datos=data.loc[:,[\"Monto Comprado 2019?\",\"Monto Comprado 2020\",\"Edad\",\"Recencia (Tiempo transcurrido en semanas desde su ultima compra)\",\"Frecuencia (Cantidad items comprados)\"]].values\n",
    "#datos=data.loc[:,[\"Monto Comprado 2020\",\"Recencia (Tiempo transcurrido en semanas desde su ultima compra)\"]].values\n",
    "Segmento\n",
    "\"\"\" seg2=Segmento.copy()\n",
    "s=-1\n",
    "for i in Segmento:\n",
    "    s=s+1\n",
    "    if i == \"Adictos\":\n",
    "        seg2[s]=1\n",
    "    elif i == \"Aficionados\":\n",
    "        seg2[s]=2\n",
    "    elif i == \"Esporádicos\":\n",
    "        seg2[s]=3\n",
    "    elif i == \"Curiosos\":\n",
    "        seg2[s]=4\n",
    "    elif i == \"Inactivo\":\n",
    "        seg2[s]=5\n",
    "seg2 \"\"\"\n"
   ]
  },
  {
   "cell_type": "code",
   "execution_count": 117,
   "metadata": {},
   "outputs": [],
   "source": [
    "x=datos\n",
    "y=Segmento"
   ]
  },
  {
   "cell_type": "code",
   "execution_count": 118,
   "metadata": {},
   "outputs": [],
   "source": [
    "from sklearn.model_selection import train_test_split\n",
    "x_train, x_test, y_train, y_test = train_test_split(x,y,test_size=0.10,random_state=0)\n",
    "\n"
   ]
  },
  {
   "cell_type": "code",
   "execution_count": 119,
   "metadata": {},
   "outputs": [
    {
     "data": {
      "text/plain": [
       "KNeighborsClassifier(metric='chebyshev', n_neighbors=3)"
      ]
     },
     "execution_count": 119,
     "metadata": {},
     "output_type": "execute_result"
    }
   ],
   "source": [
    "from sklearn.neighbors import KNeighborsClassifier\n",
    "clasif=KNeighborsClassifier(n_neighbors=3,metric=\"chebyshev\",p=2)\n",
    "\n",
    "clasif.fit(x_train, y_train)"
   ]
  },
  {
   "cell_type": "code",
   "execution_count": 120,
   "metadata": {},
   "outputs": [],
   "source": [
    "Predic=clasif.predict(x_test)"
   ]
  },
  {
   "cell_type": "markdown",
   "metadata": {},
   "source": [
    "Para hacer una prueva con un cliente nuevo se sabe que el primer espacio es el monto de dinero gastado en 2019 el segundo es gastado en 2020 el tercero es la edad, el cuarto es la recencia y el ultimo es la frecuencia.\n",
    "\n",
    "Luego construllo un par de datos como prueva.\n",
    "\n",
    "Se sabe que los que hicieron alguna compra en algun momento pero llevan mas de 15 semanas lejos de la tienda son inactivos.\n",
    "\n",
    "tambien se sabe que los que hicieron grandes compras y visitan la tienda con frecuencia son adictos.\n",
    "\n",
    "construire 2 vectores con estas caracteristicas para ver la prediccion del sistema. "
   ]
  },
  {
   "cell_type": "code",
   "execution_count": 121,
   "metadata": {},
   "outputs": [
    {
     "name": "stdout",
     "output_type": "stream",
     "text": [
      "['Adictos' 'Inactivo']\n"
     ]
    }
   ],
   "source": [
    "prueba=np.array([[1000000,2000000,35,2,50],[0,0,24,30,1]])\n",
    "pruebap=clasif.predict(prueba)\n",
    "print(pruebap)"
   ]
  },
  {
   "cell_type": "markdown",
   "metadata": {},
   "source": [
    "como se observa en lo anterior, la ia es capaz de calsificar con relativa presicion a los nuevos clientes.\n",
    "\n",
    "entre mas vecinos elijamos aumenta la probabilidad de que la mayor cantidad de vecinos sean los Aficionados.\n",
    "\n",
    "La base de datos, como mostre en el ejercicio anterior tiene una cantidad de clientes aficionados que representan mas del 68% de los cientes, mientras que los adictos solo representan menos del 2% esta diferencia en los datos se puede apreciar en lo siguiente."
   ]
  },
  {
   "cell_type": "markdown",
   "metadata": {},
   "source": [
    "Se aprecia la matrix de confusion. la diagonal prinsipal son los datos que logro grupar de manera adecuada los demas son la cantidad de datos que clasifico erroneamente. \n",
    "\n",
    "recordar que la muestra de testeo es del 10% lo que son unos 998 datos de los cuales bien clasificados son 904 lo que representan el 90.6% de presicion\n",
    "\n",
    "la mayor cantidad de errores esta relacionada con el segmento \"aficionados\" la cual es un segmento sobredimencionado\n"
   ]
  },
  {
   "cell_type": "code",
   "execution_count": 122,
   "metadata": {},
   "outputs": [
    {
     "data": {
      "text/plain": [
       "array([[648,  42,   0,   5,   0],\n",
       "       [ 27, 213,   0,   0,   1],\n",
       "       [  1,   0,  23,   0,   4],\n",
       "       [ 10,   1,   0,   7,   0],\n",
       "       [  3,   0,   0,   0,  13]], dtype=int64)"
      ]
     },
     "execution_count": 122,
     "metadata": {},
     "output_type": "execute_result"
    }
   ],
   "source": [
    "from sklearn.metrics import confusion_matrix\n",
    "mc=confusion_matrix(y_test, Predic, labels=[\"Aficionados\",\"Esporádicos\",\"Inactivo\",\"Adictos\",\"Curiosos\"])\n",
    "mc"
   ]
  }
 ],
 "metadata": {
  "interpreter": {
   "hash": "2469a70536e4d2335a2ea8907942d0699c37342a371ac185bdb5b0aa6f073890"
  },
  "kernelspec": {
   "display_name": "Python 3.9.13 64-bit",
   "language": "python",
   "name": "python3"
  },
  "language_info": {
   "codemirror_mode": {
    "name": "ipython",
    "version": 3
   },
   "file_extension": ".py",
   "mimetype": "text/x-python",
   "name": "python",
   "nbconvert_exporter": "python",
   "pygments_lexer": "ipython3",
   "version": "3.9.13"
  },
  "orig_nbformat": 4
 },
 "nbformat": 4,
 "nbformat_minor": 2
}
