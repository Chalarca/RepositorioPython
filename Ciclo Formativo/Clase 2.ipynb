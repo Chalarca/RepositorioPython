{
 "cells": [
  {
   "cell_type": "markdown",
   "metadata": {},
   "source": [
    "# Ciclos y Condicionales"
   ]
  },
  {
   "cell_type": "code",
   "execution_count": null,
   "metadata": {},
   "outputs": [],
   "source": []
  },
  {
   "cell_type": "markdown",
   "metadata": {},
   "source": [
    "# Estructura if, elif, else"
   ]
  },
  {
   "cell_type": "markdown",
   "metadata": {},
   "source": [
    "para los condicionales se utilizan los siguientes caracteres para realizar o expandir operaciones\n",
    "\n",
    "\" <> \" mayor y menor que.\n",
    "\n",
    "\" == \" igual que.\n",
    "\n",
    "\" != \" diferente que.\n",
    "\n",
    "\" and \" para indicar 2 condiciones que se deben cumplir.\n",
    "\n",
    "\" or \" para indicar que 1 condicion de barias se debe cumplor.\n",
    "\n"
   ]
  },
  {
   "cell_type": "code",
   "execution_count": null,
   "metadata": {},
   "outputs": [],
   "source": [
    "a=int(input())\n",
    "\n",
    "boleano = a>=1\n",
    "boleano"
   ]
  },
  {
   "cell_type": "code",
   "execution_count": null,
   "metadata": {},
   "outputs": [],
   "source": [
    "a<=1"
   ]
  },
  {
   "cell_type": "code",
   "execution_count": null,
   "metadata": {},
   "outputs": [],
   "source": [
    "#La importancia de identar en Python\n",
    "if a==1:\n",
    "    print(\"la condicion es TRUE\")\n",
    "print(\"fin del codigo\")"
   ]
  },
  {
   "cell_type": "code",
   "execution_count": null,
   "metadata": {},
   "outputs": [],
   "source": [
    "\n",
    "numero=int(input(\"ingrese un numero\"))\n",
    "\n",
    "if numero < 0:\n",
    "    print(\"es negativo\")\n",
    "if numero < 5:\n",
    "    print(\"esta entre -infinito y 4\")\n",
    "if numero == -1:\n",
    "    print(\"esta en la quinta\")"
   ]
  },
  {
   "cell_type": "code",
   "execution_count": null,
   "metadata": {},
   "outputs": [],
   "source": [
    "numero=int(input(\"ingrese un numero\"))\n",
    "\n",
    "if numero >  0:\n",
    "    print(\"es negativo\")\n",
    "elif numero < 5:\n",
    "    print(\"esta entre 0 y 4\")\n",
    "elif numero > 4:\n",
    "    print(\"esta en la quinta\")"
   ]
  },
  {
   "cell_type": "code",
   "execution_count": null,
   "metadata": {},
   "outputs": [],
   "source": [
    "numero=int(input(\"ingrese un numero\"))\n",
    "\n",
    "if numero < 0:\n",
    "    print(\"es negativo\")\n",
    "elif numero < 5:\n",
    "    print(\"esta entre 0 y 4\")\n",
    "else:\n",
    "    print(\"esta en la quinta\")"
   ]
  },
  {
   "cell_type": "code",
   "execution_count": null,
   "metadata": {},
   "outputs": [],
   "source": [
    "numero=int(input(\"ingrese un numero\"))\n",
    "numero2=int(input(\"ingrese un numero\"))\n",
    "\n",
    "if numero < 0 and numero2 < 0:\n",
    "    print(\"ambos numeros son negativos\")\n",
    "elif numero == 5 or numero2 == 5:\n",
    "    print(\"alguno de los numeros es 5\")\n",
    "elif numero == 5 and numero2 ==5:\n",
    "    print(\"ambos numeros son 5\")\n",
    "elif numero != 4 and numero >= 0 and numero <= 6 or numero2 == 6:\n",
    "    print(\"el primer numero esta entre 0 y 3 o el segundo numero es 6\")\n",
    "else:\n",
    "    print(\"esta en la quinta\")"
   ]
  },
  {
   "cell_type": "markdown",
   "metadata": {},
   "source": [
    "### Ejercico\n",
    "\n",
    "Haga un programa que te pida ingresar tu edad y como resultado te diga si eres o no mayor de edad.\n",
    "\n",
    "Repita el paso anterior pero que te pida que ingreses la fecha de nacimiento en formato dia/mes/año\n",
    "\n",
    "ingrese 3 numeros por consola y indique cual es el mayor de estos\n",
    "\n",
    "haga un programa que diga si el numero ingresado es par o impar"
   ]
  },
  {
   "cell_type": "code",
   "execution_count": null,
   "metadata": {},
   "outputs": [],
   "source": [
    "x=int(input(\"dia\"))\n",
    "\n",
    "if x%2 != 0:\n",
    "    print(\"el numero es impar\")\n",
    "else:\n",
    "    print(\"el numero es par\")\n",
    "\n",
    "\n",
    "\n"
   ]
  },
  {
   "cell_type": "markdown",
   "metadata": {},
   "source": [
    "# Ciclo For\n",
    "\n",
    "se usa en los ciclos la funcion \"range\" la cual permite crear una secuencia de valores con mucha facilidad"
   ]
  },
  {
   "cell_type": "code",
   "execution_count": 34,
   "metadata": {},
   "outputs": [
    {
     "data": {
      "text/plain": [
       "[1, 2, 3, 4, 5, 6, 7, 8, 9, 10, 11, 12, 13, 14, 15, 16, 17, 18, 19]"
      ]
     },
     "execution_count": 34,
     "metadata": {},
     "output_type": "execute_result"
    }
   ],
   "source": [
    "valores=[]\n",
    "for i in range(1,20):\n",
    "    valores.append(i)\n",
    "valores"
   ]
  },
  {
   "cell_type": "code",
   "execution_count": 35,
   "metadata": {},
   "outputs": [
    {
     "data": {
      "text/plain": [
       "[1, 2, 3, 4, 5, 6, 7, 8, 9, 10, 11, 12, 13, 14, 15, 16, 17, 18, 19]"
      ]
     },
     "execution_count": 35,
     "metadata": {},
     "output_type": "execute_result"
    }
   ],
   "source": [
    "secuencia=list(range(1,20))\n",
    "secuencia"
   ]
  },
  {
   "cell_type": "code",
   "execution_count": 36,
   "metadata": {},
   "outputs": [
    {
     "name": "stdout",
     "output_type": "stream",
     "text": [
      "3 6 9 12 15 18 21 24 27 30 33 36 39 42 45 48 "
     ]
    }
   ],
   "source": [
    "for i in range(3,51,3):\n",
    "    print(i, end=' ')"
   ]
  },
  {
   "cell_type": "code",
   "execution_count": 37,
   "metadata": {},
   "outputs": [
    {
     "name": "stdout",
     "output_type": "stream",
     "text": [
      "10\n",
      "8\n",
      "6\n",
      "4\n",
      "2\n"
     ]
    }
   ],
   "source": [
    "for i in range(10,0,-2):\n",
    "    print(i)"
   ]
  },
  {
   "cell_type": "markdown",
   "metadata": {},
   "source": [
    "```Python\n",
    "la palabra reservada \n",
    "break se usa para poder terminar un ciclo asi su iterador no haya terminado\n",
    "asi mismo la palabras continue se usa para forzar la continuacion de un ciclo asi no haya terminado de ejecutar el codigo."
   ]
  },
  {
   "cell_type": "code",
   "execution_count": 39,
   "metadata": {},
   "outputs": [
    {
     "name": "stdout",
     "output_type": "stream",
     "text": [
      "0 %\n",
      "1 %\n",
      "2 %\n",
      "3 %\n",
      "4 %\n",
      "100%\n"
     ]
    }
   ],
   "source": [
    "# Ejemplo con la sentencia break\n",
    "# Saltarse el 94% del ciclo\n",
    "for i in range (0,100):\n",
    "    print(i,\"%\")\n",
    "    if i >= 4:\n",
    "        break\n",
    "print(\"100%\")"
   ]
  },
  {
   "cell_type": "code",
   "execution_count": null,
   "metadata": {},
   "outputs": [],
   "source": []
  },
  {
   "cell_type": "code",
   "execution_count": 40,
   "metadata": {},
   "outputs": [
    {
     "name": "stdout",
     "output_type": "stream",
     "text": [
      "2 4 6 8 12 14 10 "
     ]
    }
   ],
   "source": [
    "## Ejemplo con la sentencia continue\n",
    "## Imprimir los números impares de una coleccion de datos\n",
    "nums = [1, 3, 2, 4, 7, 6, 5, 9, 8, 11, 12, 15, 13, 14, 10]\n",
    "for i in nums:\n",
    "    if i%2 !=0:\n",
    "        continue\n",
    "    print(i,end=' ')"
   ]
  },
  {
   "cell_type": "markdown",
   "metadata": {},
   "source": [
    "## Ejercicio\n",
    "Escribir un programa que solicite ingresar números hasta que se introduzca un cero. Debe imprimir\n",
    "la suma y el promedio de todos los números ingresados.\n",
    "\n",
    "Escribir un programa que imprima todos los números pares entre dos números que se le pidan al\n",
    "usuario, [A, B]\n"
   ]
  },
  {
   "cell_type": "markdown",
   "metadata": {},
   "source": [
    "Nota: En pyton las listas tambien son iterables atraves de los ciclos for, ya que estos pueden iteral cualquier tipo de objeto que se encuentre indexado"
   ]
  },
  {
   "cell_type": "code",
   "execution_count": null,
   "metadata": {},
   "outputs": [],
   "source": []
  },
  {
   "cell_type": "code",
   "execution_count": 43,
   "metadata": {},
   "outputs": [
    {
     "name": "stdout",
     "output_type": "stream",
     "text": [
      "manue\n",
      "son buenas personas\n",
      "alejandro\n",
      "son buenas personas\n",
      "jorge\n",
      "son buenas personas\n",
      "santiago\n",
      "son buenas personas\n",
      "sofia\n",
      "son buenas personas\n",
      "sara\n",
      "son buenas personas\n",
      "esto no es parte del ciclo o la lista\n"
     ]
    }
   ],
   "source": [
    "personas=[\"manue\",\"alejandro\",\"jorge\",\"santiago\",\"sofia\",\"sara\"]\n",
    "\n",
    "for nombres in personas:\n",
    "    print(nombres)\n",
    "    print(\"son buenas personas\")\n",
    "print(\"esto no es parte del ciclo o la lista\")"
   ]
  },
  {
   "cell_type": "code",
   "execution_count": 44,
   "metadata": {},
   "outputs": [
    {
     "name": "stdout",
     "output_type": "stream",
     "text": [
      "Medellin\n",
      "Cartagena\n",
      "Manizales\n",
      "Antioquia\n",
      "Bolivar\n",
      "Caldas\n",
      "La Union\n",
      "Rionegro\n",
      "Cartago\n"
     ]
    }
   ],
   "source": [
    "diccionario = {\n",
    "    \"ciudades\": [\"Medellin\", \"Cartagena\", \"Manizales\"],\n",
    "    \"departamentos\": [\"Antioquia\", \"Bolivar\", \"Caldas\"],\n",
    "    \"pueblos\": [\"La Union\", \"Rionegro\", \"Cartago\"]\n",
    "}\n",
    "\n",
    "for llave in diccionario.keys():\n",
    "    for elemento in range (0,3):\n",
    "        print(diccionario[llave][elemento])"
   ]
  },
  {
   "cell_type": "code",
   "execution_count": 45,
   "metadata": {},
   "outputs": [
    {
     "name": "stdout",
     "output_type": "stream",
     "text": [
      "{1: 'manue', 2: 'alejandro', 3: 'jorge', 4: 'santiago', 5: 'sofia', 6: 'sara'}\n"
     ]
    }
   ],
   "source": [
    "nombres={}\n",
    "s=0\n",
    "for i in personas:\n",
    "    s=s+1\n",
    "    nombres[s]=i\n",
    "\n",
    "print(nombres)\n"
   ]
  },
  {
   "cell_type": "markdown",
   "metadata": {},
   "source": [
    "### Ejercicio\n",
    "\n",
    "haga un programa que busque su nombre en una lista de almenos 5 nombres y haga que devuelva la posicion del elemento.\n",
    "Luego mueva el nombre al principio o al final de la lista. \n",
    "\n",
    "haga un programa que cuente la cantidad de letras de una frase ingresada por consola. \n",
    "\n",
    "haga un programa que cuenta la cantidad de vocales y espacios de una frase ingresada por consola. "
   ]
  },
  {
   "cell_type": "markdown",
   "metadata": {},
   "source": [
    "# Ciclo While"
   ]
  },
  {
   "cell_type": "code",
   "execution_count": 46,
   "metadata": {},
   "outputs": [
    {
     "name": "stdout",
     "output_type": "stream",
     "text": [
      "Actual valor de variable: 4\n",
      "Actual valor de variable: 3\n",
      "Actual valor de variable: 2\n",
      "Actual valor de variable: 1\n",
      "Actual valor de variable: 0\n"
     ]
    }
   ],
   "source": [
    "variable=5\n",
    "while variable > 0:              \n",
    "   variable = variable -1\n",
    "   print (\"Actual valor de variable:\", variable)"
   ]
  },
  {
   "cell_type": "code",
   "execution_count": 47,
   "metadata": {},
   "outputs": [
    {
     "name": "stdout",
     "output_type": "stream",
     "text": [
      "Actual valor de variable: 6\n",
      "Actual valor de variable: 4\n",
      "Actual valor de variable: 3\n",
      "Actual valor de variable: 2\n",
      "Actual valor de variable: 1\n",
      "Actual valor de variable: 0\n",
      "fin del ciclo\n"
     ]
    }
   ],
   "source": [
    "#continue reinicia el ciclo while saltandose lo que este despues\n",
    "variable=7\n",
    "while variable > 0:              \n",
    "   variable = variable -1\n",
    "   if variable == 5:\n",
    "      continue\n",
    "   print (\"Actual valor de variable:\", variable)\n",
    "print(\"fin del ciclo\")"
   ]
  },
  {
   "cell_type": "markdown",
   "metadata": {},
   "source": [
    "A diferencia de otros lenguajes de programación como C++, Python no cuenta con el ciclo dowhile.\n",
    "Sin embargo podemos forzar la entrada dejando la condición de continuación del while\n",
    "en True y adicionando una condición de terminación que rompa el ciclo. Para romper el ciclo\n",
    "contamos con la sentencia break."
   ]
  },
  {
   "cell_type": "code",
   "execution_count": 48,
   "metadata": {},
   "outputs": [
    {
     "name": "stdout",
     "output_type": "stream",
     "text": [
      "Actual valor de variable: 9\n",
      "Actual valor de variable: 8\n",
      "Actual valor de variable: 7\n",
      "Actual valor de variable: 6\n",
      "fin del ciclo\n"
     ]
    }
   ],
   "source": [
    "#break termina el ciclo de forma forzada\n",
    "variable=10\n",
    "while variable > 0:              \n",
    "   variable = variable -1\n",
    "   if variable == 5:\n",
    "      break\n",
    "   print (\"Actual valor de variable:\", variable)\n",
    "print(\"fin del ciclo\")"
   ]
  },
  {
   "cell_type": "code",
   "execution_count": 51,
   "metadata": {},
   "outputs": [
    {
     "name": "stdout",
     "output_type": "stream",
     "text": [
      "contenido de la lista:  ['5']\n",
      "contenido de la lista:  ['5', '8']\n",
      "contenido de la lista:  ['5', '8', '5']\n",
      "contenido de la lista:  ['5', '8', '5', '2']\n",
      "contenido de la lista:  ['5', '8', '5', '2', '5']\n",
      "contenido de la lista:  ['5', '8', '5', '2', '5', '8']\n",
      "no cumple los parametros\n",
      "fin del ciclo\n"
     ]
    }
   ],
   "source": [
    "whilelista=[]\n",
    "valor=input(\"introdusca un valor a agregar a la lista, $ para salir\")\n",
    "while valor != \"$\" and int(valor)>0 :              \n",
    "   whilelista.append(valor)\n",
    "   print (\"contenido de la lista: \", whilelista)\n",
    "   valor=input(\"introdusca un valor a agregar a la lista, $ para salir\")\n",
    "else:\n",
    "   print(\"no cumple los parametros\")\n",
    "print(\"fin del ciclo\")"
   ]
  },
  {
   "cell_type": "code",
   "execution_count": 52,
   "metadata": {},
   "outputs": [
    {
     "data": {
      "text/plain": [
       "'85'"
      ]
     },
     "execution_count": 52,
     "metadata": {},
     "output_type": "execute_result"
    }
   ],
   "source": [
    "whilelista[1]+whilelista[0]"
   ]
  },
  {
   "cell_type": "code",
   "execution_count": 53,
   "metadata": {},
   "outputs": [
    {
     "data": {
      "text/plain": [
       "['5', '8', '5', '2', '5', '8', '5', '8', '5', '2', '5', '8']"
      ]
     },
     "execution_count": 53,
     "metadata": {},
     "output_type": "execute_result"
    }
   ],
   "source": [
    "\n",
    "\n",
    "\n",
    "whilelista+whilelista"
   ]
  },
  {
   "cell_type": "markdown",
   "metadata": {},
   "source": [
    "### Ejercicios\n",
    "\n",
    "Leer números enteros del teclado hasta que el usuario ingrese el 0. Finalmente, imprimir la\n",
    "sumatoria de los números ingresados.\n",
    "\n",
    "Realizar un programa que lea números enteros positivos y, por cada uno, imprimir la sumatoria\n",
    "de los digitos que lo componen. La condición de corte es que se ingrese el número -1.\n",
    "Al finalizar, indicar cuántos números positivos fueron ingresados."
   ]
  }
 ],
 "metadata": {
  "kernelspec": {
   "display_name": "Python 3.9.13 64-bit",
   "language": "python",
   "name": "python3"
  },
  "language_info": {
   "codemirror_mode": {
    "name": "ipython",
    "version": 3
   },
   "file_extension": ".py",
   "mimetype": "text/x-python",
   "name": "python",
   "nbconvert_exporter": "python",
   "pygments_lexer": "ipython3",
   "version": "3.9.13"
  },
  "orig_nbformat": 4,
  "vscode": {
   "interpreter": {
    "hash": "2469a70536e4d2335a2ea8907942d0699c37342a371ac185bdb5b0aa6f073890"
   }
  }
 },
 "nbformat": 4,
 "nbformat_minor": 2
}
